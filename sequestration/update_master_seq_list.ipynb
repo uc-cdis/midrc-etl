{
 "cells": [
  {
   "cell_type": "markdown",
   "id": "73d3733f",
   "metadata": {},
   "source": [
    "# Updating the Master Sequestration Locations List (in the VM)\n",
    "---\n",
    "by Eric Giger\n",
    "\n",
    "Data Submission Technician at the Center for Translational Data Science at the University of Chicago\n",
    "\n",
    "January 2023\n",
    "\n",
    "---\n",
    "\n",
    "### Outline\n",
    "After receiving the sequestration results,\n",
    "1. Download the COMPLETED_sequestration_data_ORG_DATE.tsv from [ValidateStaging](https://validatestaging.midrc.org/) to the VM.\n",
    "2. Append new case_ids to current master sequestration list\n",
    "3. Save new the list and archive the old\n",
    "4. Notify team channel that a new masterlist available"
   ]
  },
  {
   "cell_type": "markdown",
   "id": "577a0199",
   "metadata": {},
   "source": [
    "## Getting Started\n",
    "\n",
    "### For this notebook, you will have to copy and paste into an `ipython3` shell in the utilityvm. "
   ]
  },
  {
   "cell_type": "code",
   "execution_count": null,
   "id": "ea34367d",
   "metadata": {},
   "outputs": [],
   "source": [
    "# Import necessary packages\n",
    "import pandas as pd\n",
    "import sys, os\n",
    "import glob, copy\n",
    "import numpy as np\n",
    "from pathlib import Path\n",
    "from datetime import date"
   ]
  },
  {
   "cell_type": "code",
   "execution_count": null,
   "id": "3560fa1b",
   "metadata": {},
   "outputs": [],
   "source": [
    "# Configure your gen3-client profile\n",
    "profile = \"midrc-validatestaging\"\n",
    "api=\"https://validatestaging.midrc.org\"\n",
    "vm_cred_path = \"/home/ubuntu/wd/creds/midrc-validatestaging-credentials.json\"\n",
    "\n",
    "os.system(\"gen3-client configure --profile={} --apiendpoint={} --cred={}\".format(profile,api,vm_cred_path))"
   ]
  },
  {
   "cell_type": "markdown",
   "id": "30d61ed1",
   "metadata": {},
   "source": [
    "## Step 1: Download Completed Results\n",
    "\n",
    "After being notified the sequestration results are available, we will have to go through the `/submission` endpoint to obtain the `object_id` associated with the file.\\\n",
    "We will then use the `gen3-client` to download the completed results to the VM.\n",
    "\n",
    "As a reminder: \\\n",
    "In order to do this, we will need to configure a profile and then use the `object_id` obtained from the `/submission` endpoint. "
   ]
  },
  {
   "cell_type": "code",
   "execution_count": null,
   "id": "144b02bf",
   "metadata": {},
   "outputs": [],
   "source": [
    "# Download the completed results\n",
    "profile = \"midrc-validatestaging\"\n",
    "object_id=\"\"\n",
    "download_path=\"/home/ubuntu/wd/sequestration/completed\"\n",
    "\n",
    "os.system(\"gen3-client download-single --profile={} --guid={} --download-path={}\".format(profile,object_id,download_path))"
   ]
  },
  {
   "cell_type": "markdown",
   "id": "6180a00d",
   "metadata": {},
   "source": [
    "## Step 2: Append New Cases"
   ]
  },
  {
   "cell_type": "code",
   "execution_count": null,
   "id": "4329e8f7",
   "metadata": {},
   "outputs": [],
   "source": [
    "# Import necessary packages\n",
    "import pandas as pd\n",
    "import sys, os\n",
    "import glob, copy\n",
    "import numpy as np\n",
    "from pathlib import Path\n",
    "from datetime import date"
   ]
  },
  {
   "cell_type": "code",
   "execution_count": null,
   "id": "5bfbb1db",
   "metadata": {},
   "outputs": [],
   "source": [
    "# set your working directory and change to it\n",
    "wd_dir = \"/home/ubuntu/wd\"\n",
    "os.chdir(wd_dir)"
   ]
  },
  {
   "cell_type": "code",
   "execution_count": null,
   "id": "829d14a0",
   "metadata": {},
   "outputs": [],
   "source": [
    "### grab our local copy of the most up to date master list\n",
    "master_list = glob.glob('master_sequestration_locations_*.tsv')\n",
    "master_filename = master_list[0]\n",
    "display(master_filename)"
   ]
  },
  {
   "cell_type": "markdown",
   "id": "9aee711d",
   "metadata": {},
   "source": [
    "Notice the naming convention above - we include the number of cases and the date the masterlist was updated."
   ]
  },
  {
   "cell_type": "code",
   "execution_count": null,
   "id": "61b7c0d6",
   "metadata": {},
   "outputs": [],
   "source": [
    "mf = copy.deepcopy(pd.read_csv(master_filename,sep='\\t')) \n",
    "display(mf)"
   ]
  },
  {
   "cell_type": "code",
   "execution_count": null,
   "id": "395dc6f0",
   "metadata": {},
   "outputs": [],
   "source": [
    "# define your LOCAL COMPLETED directory (where we downloaded the COMPLETED results)\n",
    "comp_dir = \"/home/ubuntu/wd/sequestration/completed\""
   ]
  },
  {
   "cell_type": "code",
   "execution_count": null,
   "id": "bb833679",
   "metadata": {
    "scrolled": false
   },
   "outputs": [],
   "source": [
    "# collect the COMPLETED files into a list (sometimes we have receive multiple batches at the same time)\n",
    "completed_files=glob.glob('{}/COMPLETED_sequestration_data_*_*.tsv'.format(comp_dir))\n",
    "\n",
    "display(completed_files)"
   ]
  },
  {
   "cell_type": "code",
   "execution_count": null,
   "id": "ce428519",
   "metadata": {},
   "outputs": [],
   "source": [
    "for file in completed_files:\n",
    "    cf = copy.deepcopy(pd.read_csv(file,sep='\\t')) #\n",
    "    cf['case_ids']=cf['submitter_id']\n",
    "    # make a copy of the completed file with only the necessary fields\n",
    "    i = copy.deepcopy(cf[['case_ids','dataset','project_id']])\n",
    "    # select only the case_ids not currently in the master list\n",
    "    hdf = i.loc[~i['case_ids'].isin(mf.case_ids)].reset_index(drop=True)\n",
    "    display(len(hdf.case_ids))\n",
    "    print(\"There are {} new case_ids from {}\".format(len(hdf.case_ids),file))\n",
    "    # add new sequestration results to masterlist\n",
    "    new_mf = pd.concat([mf,hdf]).drop_duplicates().reset_index(drop=True)\n",
    "    list(set(new_mf.case_ids))\n",
    "    mf = copy.deepcopy(new_mf)\n",
    "\n",
    "new_mf.index = new_mf.case_ids\n",
    "new_mf.drop(columns={'case_ids'},inplace=True)\n",
    "\n",
    "display(new_mf)"
   ]
  },
  {
   "cell_type": "markdown",
   "id": "b95f2af6",
   "metadata": {},
   "source": [
    "## Step 3: Save New Masterlist and Archive the Old"
   ]
  },
  {
   "cell_type": "code",
   "execution_count": null,
   "id": "6dcb6a4e",
   "metadata": {},
   "outputs": [],
   "source": [
    "# the file name for the master list consists of the number of unique case_ids and the date the master list was updated\n",
    "length = len(new_mf) # number of unique case_ids\n",
    "today = date.today().strftime('%Y-%m-%d') # today's date\n",
    "\n",
    "display(length)\n",
    "display(today)"
   ]
  },
  {
   "cell_type": "code",
   "execution_count": null,
   "id": "c3f09d60",
   "metadata": {},
   "outputs": [],
   "source": [
    "# save the file\n",
    "new_masterlist = \"master_sequestration_locations_{}_{}.tsv\".format(length,today)\n",
    "new_mf.to_csv(new_masterlist,sep='\\t')"
   ]
  },
  {
   "cell_type": "code",
   "execution_count": null,
   "id": "4b857a7a",
   "metadata": {},
   "outputs": [],
   "source": [
    "# Move old masterlist to archive\n",
    "os.chdir(wd_dir)\n",
    "os.system(\"mv {} /home/ubuntu/wd/sequestration/archive\".format(master_filename))"
   ]
  },
  {
   "cell_type": "code",
   "execution_count": null,
   "id": "6c9093c8",
   "metadata": {},
   "outputs": [],
   "source": [
    "# move COMPLETED files to archive\n",
    "for file in completed_files:\n",
    "    os.system(\"mv {} /home/ubuntu/wd/sequestration/completed/archive\".format(file))"
   ]
  },
  {
   "cell_type": "markdown",
   "id": "eddfc203",
   "metadata": {},
   "source": [
    "## Step 4: Notify Team Channel That a New Masterlist Available"
   ]
  },
  {
   "cell_type": "markdown",
   "id": "0d758c2a",
   "metadata": {},
   "source": []
  }
 ],
 "metadata": {
  "kernelspec": {
   "display_name": "Python 3 (ipykernel)",
   "language": "python",
   "name": "python3"
  },
  "language_info": {
   "codemirror_mode": {
    "name": "ipython",
    "version": 3
   },
   "file_extension": ".py",
   "mimetype": "text/x-python",
   "name": "python",
   "nbconvert_exporter": "python",
   "pygments_lexer": "ipython3",
   "version": "3.9.7"
  }
 },
 "nbformat": 4,
 "nbformat_minor": 5
}
