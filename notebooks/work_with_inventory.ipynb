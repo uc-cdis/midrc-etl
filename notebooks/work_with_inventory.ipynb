{
 "cells": [
  {
   "cell_type": "code",
   "execution_count": null,
   "metadata": {},
   "outputs": [],
   "source": [
    "import json\n",
    "import csv\n",
    "import gzip\n",
    "import re\n",
    "import sys\n",
    "from pathlib import Path"
   ]
  },
  {
   "cell_type": "code",
   "execution_count": null,
   "metadata": {},
   "outputs": [],
   "source": [
    "PATH = Path(\"/Users/andrewprokhorenkov/CTDS/projects/midrc/data/inventory/\")\n",
    "PATH = PATH / \"2022-10-23T00-00Z/\" / \"manifest.json\""
   ]
  },
  {
   "cell_type": "code",
   "execution_count": null,
   "metadata": {},
   "outputs": [],
   "source": [
    "with open(PATH) as manifest_data:\n",
    "    manifest = json.load(manifest_data)"
   ]
  },
  {
   "cell_type": "code",
   "execution_count": null,
   "metadata": {},
   "outputs": [],
   "source": [
    "# Bucket, Key, Size, LastModifiedDate, StorageClass, ReplicationStatus, EncryptionStatus, IntelligentTieringAccessTier, BucketKeyStatus"
   ]
  },
  {
   "cell_type": "code",
   "execution_count": null,
   "metadata": {},
   "outputs": [],
   "source": [
    "size = 0\n",
    "\n",
    "for obj in manifest['files']:\n",
    "    print(obj)\n",
    "    obj_path = obj[\"key\"].replace(\"external-data-midrc-replication/external-data-midrc-replication-inventory-configuration/\", \"\")\n",
    "    gzip_obj = f\"/Users/andrewprokhorenkov/CTDS/projects/midrc/data/inventory/{obj_path}\"\n",
    "    buffer = gzip.open(gzip_obj, mode='rt')\n",
    "    reader = csv.reader(buffer)\n",
    "    for row in reader:\n",
    "        size += int(row[2])\n",
    "        # print(row)\n",
    "        # break\n",
    "        # filename = row[1]\n",
    "        # if filename[-4:] == \".dcm\":\n",
    "        #     tsvs.append(filename)\n",
    "\n",
    "        # break\n",
    "    # break"
   ]
  },
  {
   "cell_type": "code",
   "execution_count": null,
   "metadata": {},
   "outputs": [],
   "source": [
    "size"
   ]
  },
  {
   "cell_type": "code",
   "execution_count": null,
   "metadata": {},
   "outputs": [],
   "source": [
    "submissions = []\n",
    "debug_sub = []\n",
    "\n",
    "acr_submission = re.compile(r\".*?/([\\w\\d/-]*)/\")\n",
    "rsna_submission = re.compile(r\".*?/([\\w\\d/-]*)/data\")\n",
    "\n",
    "for tsv in tsvs:\n",
    "    if \"replicated-data-acr\" in tsv:\n",
    "        match = acr_submission.match(tsv)\n",
    "    elif \"replicated-data-rsna\" in tsv:\n",
    "        match = rsna_submission.match(tsv)\n",
    "    else:\n",
    "        pass\n",
    "        # print(\"That's bad...\")\n",
    "\n",
    "    debug_sub.append(match)\n",
    "    if match:\n",
    "        submission = match.group(1)\n",
    "        if submission in submissions:\n",
    "            continue\n",
    "        submissions.append(submission)\n",
    "    else:\n",
    "        pass\n",
    "        # print(tsv)"
   ]
  },
  {
   "cell_type": "code",
   "execution_count": null,
   "metadata": {},
   "outputs": [],
   "source": [
    "for s in submissions:\n",
    "    print(s)"
   ]
  },
  {
   "cell_type": "code",
   "execution_count": null,
   "metadata": {},
   "outputs": [],
   "source": [
    "with open(\"/Users/andrewprokhorenkov/Downloads/listing_dicom_images.txt\", \"w\") as download:\n",
    "    for tsv in tsvs:\n",
    "        download.write(tsv)\n",
    "        download.write(\"\\n\")"
   ]
  }
 ],
 "metadata": {
  "kernelspec": {
   "display_name": "Python 3.10.5 64-bit ('midrc-etl')",
   "language": "python",
   "name": "python3"
  },
  "language_info": {
   "codemirror_mode": {
    "name": "ipython",
    "version": 3
   },
   "file_extension": ".py",
   "mimetype": "text/x-python",
   "name": "python",
   "nbconvert_exporter": "python",
   "pygments_lexer": "ipython3",
   "version": "3.10.5"
  },
  "orig_nbformat": 4,
  "vscode": {
   "interpreter": {
    "hash": "ea16ea1e58fe2ee246f64da345d780c15cc646495260e4ce14409c0c689d3e2c"
   }
  }
 },
 "nbformat": 4,
 "nbformat_minor": 2
}
