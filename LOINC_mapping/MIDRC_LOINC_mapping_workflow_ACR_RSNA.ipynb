{
 "cells": [
  {
   "cell_type": "markdown",
   "id": "b69cd499",
   "metadata": {},
   "source": [
    "# Harmonization of MIDRC Imaging Study Descriptions using the LOINC Playbook\n",
    "---\n",
    "by Chris Meyer, PhD\n",
    "\n",
    "Manager of Data and User Services at the Center for Translational Data Science at University of Chicago\n",
    "\n",
    "November 2022\n",
    "\n",
    "---\n",
    "This Jupyter notebook demonstrates how to map the imaging_study node's `study_description` and `modality` properties to a `loinc_code` by utilizing the MIDRC DQH committee's [LOINC mapping table in GitHub](https://github.com/MIDRC/midrc_dicom_harmonization/tree/main/out). Once the imaging study has been mapped to a LOINC code, the code can be used to derive other LOINC properties. The following [LOINC properties](https://github.com/uc-cdis/midrc_dictionary/blob/deae581f0fb8b9ae5add1458d7882e189ba97af6/gdcdictionary/schemas/imaging_study.yaml#L77) are on the `imaging_study` node of the [MIDRC data dictionary](https://data.midrc.org/dd):\n",
    "* loinc_code\n",
    "* loinc_long_common_name\n",
    "* loinc_method\n",
    "* loinc_system\n",
    "* loinc_contrast"
   ]
  },
  {
   "cell_type": "code",
   "execution_count": null,
   "id": "a6e62cee",
   "metadata": {},
   "outputs": [],
   "source": [
    "# Import Python Packages and scripts\n",
    "import pandas as pd\n",
    "import numpy as np\n",
    "from pathlib import Path\n",
    "import sys, os, copy, datetime, shutil\n",
    "\n",
    "\n",
    "import gen3\n",
    "from gen3.submission import Gen3Submission\n",
    "from gen3.auth import Gen3Auth\n",
    "from gen3.index import Gen3Index\n",
    "from gen3.query import Gen3Query\n"
   ]
  },
  {
   "cell_type": "code",
   "execution_count": null,
   "id": "3eb4e505",
   "metadata": {},
   "outputs": [],
   "source": [
    "# who's running the notebook\n",
    "\n",
    "username = \"\""
   ]
  },
  {
   "cell_type": "code",
   "execution_count": null,
   "id": "5aa56399",
   "metadata": {},
   "outputs": [],
   "source": [
    "# download and import some custom Python scripts from https://github.com/cgmeyer/gen3sdk-python\n",
    "loinc_dir = \"/Users/{}/Documents/Notes/MIDRC/LOINC\".format(username) #set your working dir\n",
    "os.chdir(loinc_dir)\n",
    "os.system(\"wget https://raw.githubusercontent.com/cgmeyer/gen3sdk-python/master/expansion/expansion.py -O expansion.py\")\n",
    "from expansion import Gen3Expansion\n"
   ]
  },
  {
   "cell_type": "code",
   "execution_count": null,
   "id": "ee9ebba2",
   "metadata": {},
   "outputs": [],
   "source": [
    "# You can view the SDK code/functions in GitHub: https://github.com/uc-cdis/gen3sdk-python\n",
    "# Initiate instances of the Gen3 SDK Classes using credentials file downloaded from https://staging.midrc.org/identity\n",
    "sapi = 'https://staging.midrc.org'\n",
    "scred = '/Users/{}/Downloads/midrc-staging-credentials.json'.format(username)\n",
    "sauth = Gen3Auth(sapi, refresh_file=scred) # authentication class\n",
    "ssub = Gen3Submission(sapi, sauth) # submission class\n",
    "squery = Gen3Query(sauth) # query class\n",
    "sexp = Gen3Expansion(sapi,sauth,ssub) # class with some custom scripts\n",
    "sexp.get_project_ids()\n",
    "# Initiate instances of the Gen3 SDK Classes using credentials file downloaded from https://validatestaging.midrc.org/identity\n",
    "vsapi = 'https://validatestaging.midrc.org'\n",
    "vscred = '/Users/{}/Downloads/midrc-validatestaging-credentials.json'.format(username)\n",
    "vsauth = Gen3Auth(vsapi, refresh_file=vscred) # authentication class\n",
    "vssub = Gen3Submission(vsapi, vsauth) # submission class\n",
    "vsquery = Gen3Query(vsauth) # query class\n",
    "vsexp = Gen3Expansion(vsapi,vsauth,vssub) # class with some custom scripts\n",
    "vsexp.get_project_ids()\n"
   ]
  },
  {
   "cell_type": "markdown",
   "id": "0f0c33b3",
   "metadata": {},
   "source": [
    "## Prepare the mapping and filter tables\n",
    "---\n",
    "Get the mapping table and the filtering attributes tables from the [MIDRC GitHub repository](https://github.com/MIDRC/midrc_dicom_harmonization/tree/main/out) and reformat them to prepare for the LOINC mapping.\n",
    "\n",
    "Prior to this, you will need to clone the repo using `git clone git@github.com:MIDRC/midrc_dicom_harmonization.git`\n"
   ]
  },
  {
   "cell_type": "code",
   "execution_count": null,
   "id": "6d4dc32a",
   "metadata": {},
   "outputs": [],
   "source": [
    "## Set the directory to your copy of the GitHub repo and pull main branch to pull latest updates from GitHub\n",
    "git_dir = \"/Users/{}/Documents/GitHub/MIDRC/midrc_dicom_harmonization/\".format(username)\n",
    "os.chdir(git_dir)\n",
    "os.system(\"git checkout main\")\n",
    "os.system(\"git pull origin main\")\n",
    "os.chdir(loinc_dir)\n"
   ]
  },
  {
   "cell_type": "code",
   "execution_count": null,
   "id": "6dc097ad",
   "metadata": {},
   "outputs": [],
   "source": [
    "## Create the output/working directory\n",
    "now = datetime.datetime.now()\n",
    "today = \"{}-{}-{}\".format(now.year, now.month, now.day)\n",
    "\n",
    "results_dir = \"{}/results_{}\".format(loinc_dir,today)\n",
    "Path(results_dir).mkdir(parents=True, exist_ok=True)\n",
    "\n",
    "staging_results_dir = \"{}/staging_results_{}\".format(results_dir,today)\n",
    "Path(staging_results_dir).mkdir(parents=True, exist_ok=True)\n",
    "\n",
    "validatestaging_results_dir = \"{}/validatestaging_results_{}\".format(results_dir,today)\n",
    "Path(validatestaging_results_dir).mkdir(parents=True, exist_ok=True)"
   ]
  },
  {
   "cell_type": "code",
   "execution_count": null,
   "id": "a50e508a",
   "metadata": {},
   "outputs": [],
   "source": [
    "mapping_file = \"{}/out/StudyDescription_mapping_table.csv\".format(git_dir)\n",
    "mapping = pd.read_csv(mapping_file,dtype=str) #['Modality', 'StudyDescription', 'LOINC code', 'L-Long Common Name']\n",
    "\n",
    "shutil.copy2(mapping_file, results_dir) # copy the mapping table version used for this mapping to the results_dir\n",
    "\n",
    "mapping.rename(columns={\"StudyDescription\":\"study_description\",\"Modality\":\"study_modality\",\"LOINC code\":\"loinc_code\",\"L-Long Common Name\":\"loinc_long_common_name\"},inplace=True)\n",
    "mapping.drop_duplicates(inplace=True)\n",
    "mapping['study_description'] = mapping.apply(lambda row: row['study_description'].casefold(),axis=1)\n",
    "mapping['study_modality'] = mapping.apply(lambda row: row['study_modality'].casefold(),axis=1)\n",
    "\n",
    "## Change any \"(blank)\" values for study_description to \"[blank]\" to match the mapping table\n",
    "mapping.replace({\"study_description\":{\n",
    "    '(blank)':'[blank]'}},\n",
    "    inplace=True)\n",
    "\n",
    "## remove any leading/trailing whitespaces in the codes/descriptions\n",
    "mapping['loinc_code'] = mapping['loinc_code'].str.strip()\n",
    "mapping['loinc_long_common_name'] = mapping['loinc_long_common_name'].str.strip()\n",
    "mapping['study_description'] = mapping['study_description'].str.strip()\n",
    "mapping['study_modality'] = mapping['study_modality'].str.strip()\n",
    "\n",
    "## Summarize the mapping table\n",
    "modalities = list(set(mapping['study_modality']))\n",
    "descriptions = list(set(mapping['study_description']))\n",
    "mapping_codes = list(set(mapping['loinc_code']))\n",
    "mapping_names = list(set(mapping['loinc_long_common_name']))\n",
    "\n",
    "display(mapping)\n",
    "print(\"study_modality values in mapping table: {}\".format(modalities))\n",
    "print(\"Number of unique LOINC codes in mapping table: {}\".format(len(mapping_codes)))\n",
    "print(\"Number of unique LOINC Long Common Names in mapping table: {}\".format(len(mapping_names)))\n"
   ]
  },
  {
   "cell_type": "code",
   "execution_count": null,
   "id": "a63a878e",
   "metadata": {},
   "outputs": [],
   "source": [
    "filters_file = \"{}/out/StudyDescription_filtering_attributes.csv\".format(git_dir)\n",
    "filters = pd.read_csv(filters_file,dtype=str) #['LOINC code', 'L-Long Common Name', 'L-Method', 'L-System', 'Rad.Timing']\n",
    "\n",
    "shutil.copy2(filters_file, results_dir) # copy the mapping table version used for this mapping to the results_dir\n",
    "\n",
    "filters.rename(columns= {\n",
    "    'LOINC code':'loinc_code',\n",
    "    'L-Long Common Name':'loinc_long_common_name',\n",
    "    'L-Method':'loinc_method',\n",
    "    'Rad.Timing':'loinc_contrast',\n",
    "    'MIDRC-System':'loinc_system'\n",
    "    },\n",
    "    inplace=True,\n",
    "    errors='ignore'\n",
    ")\n",
    "filters.drop(columns='L-System',inplace=True,errors='ignore')\n",
    "\n",
    "## remove any leading/trailing whitespaces\n",
    "filters['loinc_code'] = filters['loinc_code'].str.strip()\n",
    "filters['loinc_long_common_name'] = filters['loinc_long_common_name'].str.strip()\n",
    "\n",
    "filter_codes = list(set(filters['loinc_code']))\n",
    "filter_names = list(set(filters['loinc_long_common_name']))\n",
    "print(\"Number of unique LOINC codes in filters table: {}\".format(len(filter_codes)))\n",
    "print(\"Number of unique LOINC Long Common Names in mapping table: {}\".format(len(filter_names)))\n",
    "\n",
    "\n",
    "missing_codes = set(mapping_codes).difference(set(filter_codes))\n",
    "missing_names = set(mapping_names).difference(set(filter_names))\n",
    "\n",
    "print(\"Number of LOINC codes in mapping table missing from filters table: {}\\n\\t{}\".format(len(missing_codes),missing_codes))\n",
    "print(\"Number of LOINC names in mapping table missing from filters table: {}\\n\\t{}\".format(len(missing_names),missing_names))\n",
    "\n",
    "display(filters)\n"
   ]
  },
  {
   "cell_type": "markdown",
   "id": "7dc4426e",
   "metadata": {},
   "source": [
    "## Get the imaging_study information from MIDRC Staging and Validate Staging\n",
    "---\n",
    "* Use the [`Gen3Expansion.get_node_tsvs()` SDK function](https://github.com/cgmeyer/gen3sdk-python/blob/389e3945482439ace6e4536e6d0e35c6e48de9c9/expansion/expansion.py#L219) to get all the imaging_studies in MIDRC Staging (staging.midrc.org).\n",
    "\n",
    "* The function `exp.get_node_tsvs()` will return a master dataframe containing all the imaging_study data from the projects specified."
   ]
  },
  {
   "cell_type": "markdown",
   "id": "a04b526f",
   "metadata": {},
   "source": [
    "### In this version of the notebook, we're getting five projects: \n",
    "Staging:\n",
    "* Open-R1 (data from RSNA)\n",
    "* Open-A1 (data from ACR)\n",
    "* Open-A1_PETAL_REDCORAL (PETAL data from ACR)\n",
    "\n",
    "ValidateStaging:\n",
    "* SEQ_Open-R3\n",
    "* SEQ_Open-A3"
   ]
  },
  {
   "cell_type": "code",
   "execution_count": null,
   "id": "abf982ec",
   "metadata": {},
   "outputs": [],
   "source": [
    "os.chdir(loinc_dir)\n",
    "\n",
    "sprojects = ['Open-R1','Open-A1','Open-A1_PETAL_REDCORAL']\n",
    "sst = sexp.get_node_tsvs(node='imaging_study', overwrite=True, projects=sprojects,outdir=staging_results_dir)\n",
    "\n",
    "vsprojects = ['SEQ_Open-R3','SEQ_Open-A3']\n",
    "vst = vsexp.get_node_tsvs(node='imaging_study', overwrite=True, projects=vsprojects,outdir=validatestaging_results_dir)\n",
    "\n",
    "projects = sprojects + vsprojects"
   ]
  },
  {
   "cell_type": "code",
   "execution_count": null,
   "id": "501632ae",
   "metadata": {},
   "outputs": [],
   "source": [
    "# concat the seq and open master imaging studies TSVs\n",
    "\n",
    "st = pd.concat([sst,vst], ignore_index=False)\n",
    "assert(len(st) == (len(sst)+len(vst)))"
   ]
  },
  {
   "cell_type": "code",
   "execution_count": null,
   "id": "90796fbb",
   "metadata": {},
   "outputs": [],
   "source": [
    "dupes = st.loc[st.duplicated(subset='submitter_id',keep=False)].sort_values(by='submitter_id')\n",
    "print(\"There are {} duplicate submitter_ids in the list of imaging studies from Staging and ValidateStaging.\".format(len(dupes)))\n",
    "if len(dupes) > 0:\n",
    "    display(dupes)\n"
   ]
  },
  {
   "cell_type": "markdown",
   "id": "c5bbbe72",
   "metadata": {},
   "source": [
    "## Reformat the imaging_study data to prepare for mapping\n",
    "---\n",
    "* **NaN values**: In the mapping table, a `study_description` or `study_modality` with a value of `null` or `NaN` is listed as `[blank]`.\n",
    "* **Case-insensitivity**: we should ignore capitalization of `study_modality` and `study_description` strings when we do the look-up. We'll use `str.casefold()` to ignore case for matching.\n",
    "* **CR/DX Modality**: in the mapping table, all versions of \"CR\" and \"DX\" modalities are denoted \"CR, DX\"; so, we need to change all occurrences of other spellings to match that exactly.\n",
    "* **Duplicated study UIDs**: Identify any duplicated study UIDs and remove them from studies.\n"
   ]
  },
  {
   "cell_type": "code",
   "execution_count": null,
   "id": "bec74a6f",
   "metadata": {},
   "outputs": [],
   "source": [
    "## Make a copy of the master imaging_study table with only data relevant to LOINC mapping, and change NaN to \"[blank]\"\n",
    "studies = copy.deepcopy(st[['submitter_id','study_description','study_modality']])\n",
    "#studies.index = studies['submitter_id']\n",
    "studies['study_description'].fillna(\"[blank]\", inplace=True)\n",
    "studies['study_modality'].fillna(\"[blank]\", inplace=True)\n",
    "\n",
    "## Make the mapping case-insensitive\n",
    "studies['study_description'] = studies['study_description'].str.casefold()\n",
    "studies['study_modality'] = studies['study_modality'].str.casefold()\n",
    "\n",
    "## remove any leading/trailing whitespaces\n",
    "studies['study_description'] = studies['study_description'].str.strip()\n",
    "studies['study_modality'] = studies['study_modality'].str.strip()\n",
    "\n",
    "\n",
    "## Fix any CR/DX study_modality to all be \"cr, dx\" to match mapping table\n",
    "studies.replace({\"study_modality\":{\n",
    "    'cr':'cr, dx',\n",
    "    'dx':'cr, dx',\n",
    "    'cr,dx':'cr, dx',\n",
    "    'dx,cr':'cr, dx',\n",
    "    'dx, cr':'cr, dx',\n",
    "    'crdx':'cr, dx',\n",
    "    'dxcr':'cr, dx'}},\n",
    "    inplace=True)\n",
    "\n",
    "## Fix any CT/PT study_modality to all be \"pt, ct\" to match mapping table\n",
    "studies.replace({\"study_modality\":{\n",
    "    'pt':'pt, ctpt',\n",
    "    'ctpt':'pt, ctpt',\n",
    "    'ptct':'pt, ctpt',\n",
    "    'ct, pt':'pt, ctpt',\n",
    "    'pt, ct':'pt, ctpt',\n",
    "    'pt,ct':'pt, ctpt',\n",
    "    'ct,pt':'pt, ctpt'}},\n",
    "    inplace=True)\n",
    "\n",
    "## Change any \"<NONE>\" values for study_description to \"[blank]\" to match the mapping table\n",
    "studies.replace({\"study_description\":{\n",
    "    '<none>':'[blank]'}},\n",
    "    inplace=True)\n",
    "\n",
    "## Identify and drop duplicates\n",
    "dupes = studies.loc[studies.duplicated(keep=False)]\n",
    "studies = studies.drop_duplicates()\n",
    "display(studies)\n",
    "\n"
   ]
  },
  {
   "cell_type": "code",
   "execution_count": null,
   "id": "4ba4f60e",
   "metadata": {},
   "outputs": [],
   "source": [
    "## Check modalities for presence in the mapping table and frequency in MIDRC data:\n",
    "study_modalities = list(set(studies.study_modality))\n",
    "print(\"There are the following values of study_modality in the MIDRC imaging_study data: \\n{}\".format(study_modalities))\n",
    "\n",
    "missing_modalities = set(study_modalities).difference(modalities)\n",
    "\n",
    "mfreq = {}\n",
    "for mod in missing_modalities:\n",
    "    freq = len(studies.loc[studies['study_modality']==mod])\n",
    "    mfreq[mod] = freq\n",
    "\n",
    "print(\"\\nThese modalities are in the study data but not in the mapping table: \\n{}\".format(mfreq))"
   ]
  },
  {
   "cell_type": "markdown",
   "id": "44b6b736",
   "metadata": {},
   "source": [
    "## Do mapping using pandas pd.merge(): \n",
    "---\n",
    "\n",
    "1) Merge `loinc_code` in `mapping` dataframe into the `studies` dataframe on the combination of `study_description` and `study_modality`.\n",
    "\n",
    "2) Merge the `loinc_long_common_name`, `loinc_method`, `loinc_contrast`, and `loinc_system` in `filters` dataframe into the `studies` dataframe on `loinc_code`.\n",
    "\n"
   ]
  },
  {
   "cell_type": "code",
   "execution_count": null,
   "id": "a01a5dc7",
   "metadata": {},
   "outputs": [],
   "source": [
    "sdf = studies.merge(mapping,on=['study_modality','study_description'],how='left').drop_duplicates()\n",
    "sdf = sdf.merge(filters,on=['loinc_code','loinc_long_common_name'],how='left')\n",
    "sdf.drop(columns=['study_description','study_modality'],inplace=True,errors='ignore')\n",
    "sdf"
   ]
  },
  {
   "cell_type": "code",
   "execution_count": null,
   "id": "2092c572",
   "metadata": {},
   "outputs": [],
   "source": [
    "## Pull in the original study_modality and study_description (non-lowercase) and rearrange the columns\n",
    "cols = ['type','project_id','submitter_id','cases.submitter_id','study_modality','study_description','loinc_code','loinc_long_common_name','loinc_method','loinc_contrast','loinc_system']\n",
    "sdf = sdf.merge(st[['type','project_id','submitter_id','cases.submitter_id','study_description','study_modality']], on='submitter_id',how='left')[cols]\n",
    "sdf\n"
   ]
  },
  {
   "cell_type": "code",
   "execution_count": null,
   "id": "14fbdb06",
   "metadata": {},
   "outputs": [],
   "source": [
    "mdf = sdf.loc[~sdf['loinc_code'].isna()]\n",
    "udf = sdf.loc[sdf['loinc_code'].isna()]\n",
    "fdf = udf.groupby([\"study_modality\", \"study_description\"]).size().reset_index(name=\"Freq\").sort_values(by='Freq',ascending=False)\n",
    "print(\"Total Studies: {}, Mapped: {}, Unmapped: {}\".format(len(sdf),len(mdf),len(udf)))"
   ]
  },
  {
   "cell_type": "code",
   "execution_count": null,
   "id": "91137f15",
   "metadata": {},
   "outputs": [],
   "source": [
    "## Save results to files\n",
    "filename=\"{}/LOINC_mapping_results_{}_{}.tsv\".format(results_dir,len(sdf),today)\n",
    "sdf.to_csv(filename, sep='\\t', index=False)\n",
    "print(\"All LOINC mapping results for projects {} saved to file: \\n{}\\n\".format(projects,filename))\n",
    "\n",
    "filename=\"{}/LOINC_mapped_{}_{}.tsv\".format(results_dir,len(mdf),today)\n",
    "mdf.to_csv(filename, sep='\\t', index=False)\n",
    "print(\"Successfully mapped imaging studies for projects {} saved to file: \\n{}\\n\".format(projects,filename))\n",
    "\n",
    "filename=\"{}/LOINC_umapped_{}_{}.tsv\".format(results_dir,len(udf),today)\n",
    "udf.to_csv(filename, sep='\\t', index=False)\n",
    "print(\"Unmapped imaging studies for projects {} saved to file: \\n{}\\n\".format(projects,filename))\n",
    "\n",
    "filename=\"{}/LOINC_umapped_frequencies_{}_{}.tsv\".format(results_dir,len(fdf),today)\n",
    "fdf.to_csv(filename, sep='\\t', index=False)\n",
    "print(\"Frequencies of unmapped imaging study description/modality combinations for projects {} saved to file: \\n{}\\n\".format(projects,filename))\n"
   ]
  },
  {
   "cell_type": "code",
   "execution_count": null,
   "id": "3bcd92e7",
   "metadata": {},
   "outputs": [],
   "source": [
    "## Take a glance at frequency of the unmapped imaging study modality/description combinations\n",
    "display(fdf)"
   ]
  },
  {
   "cell_type": "markdown",
   "id": "a4bf47b8",
   "metadata": {},
   "source": [
    "## Submit the data to Staging and ValidateStaging\n",
    "---\n",
    "Use the Gen3SDK function `Gen3Submission.submit_file()` to update the LOINC properties for each of the newly mapped studies in `mdf`."
   ]
  },
  {
   "cell_type": "code",
   "execution_count": null,
   "id": "be7070b6",
   "metadata": {},
   "outputs": [],
   "source": [
    "# let's first seperate the mapped studies in mdf into open and seq\n",
    "\n",
    "# open\n",
    "smdf = mdf.loc[mdf.project_id.isin(sprojects)].reset_index(drop=True)\n",
    "\n",
    "# sequestered\n",
    "vsmdf = mdf.loc[mdf.project_id.isin(vsprojects)].reset_index(drop=True)"
   ]
  },
  {
   "cell_type": "code",
   "execution_count": null,
   "id": "99f80f20",
   "metadata": {},
   "outputs": [],
   "source": [
    "# Submit the derived data to validatestaging\n",
    "\n",
    "projects = list(set(vsmdf['project_id']))\n",
    "vsdata = {}\n",
    "for vspid in projects:\n",
    "    print(\"Submitting data to project '{}'.\".format(vspid))\n",
    "    vsdata[vspid] = vsexp.submit_df(df=vsmdf.loc[vsmdf[\"project_id\"]==vspid],project_id=vspid, chunk_size=1000)"
   ]
  },
  {
   "cell_type": "code",
   "execution_count": null,
   "id": "715ad865",
   "metadata": {},
   "outputs": [],
   "source": [
    "# Submit the derived data to staging\n",
    "\n",
    "projects = list(set(smdf['project_id']))\n",
    "sdata = {}\n",
    "for spid in projects:\n",
    "    print(\"Submitting data to project '{}'.\".format(vspid))\n",
    "    sdata[spid] = sexp.submit_df(df=smdf.loc[smdf[\"project_id\"]==spid],project_id=spid, chunk_size=1000)"
   ]
  }
 ],
 "metadata": {
  "kernelspec": {
   "display_name": "Python 3 (ipykernel)",
   "language": "python",
   "name": "python3"
  },
  "language_info": {
   "codemirror_mode": {
    "name": "ipython",
    "version": 3
   },
   "file_extension": ".py",
   "mimetype": "text/x-python",
   "name": "python",
   "nbconvert_exporter": "python",
   "pygments_lexer": "ipython3",
   "version": "3.9.7"
  }
 },
 "nbformat": 4,
 "nbformat_minor": 5
}
