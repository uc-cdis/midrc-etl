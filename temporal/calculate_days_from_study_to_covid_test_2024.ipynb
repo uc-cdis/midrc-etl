{
 "cells": [
  {
   "cell_type": "markdown",
   "metadata": {},
   "source": [
    "# Calculate and submit days_from_study_to_pos/neg_covid_test\n",
    "---\n",
    "by Chris Meyer, PhD\n",
    "\n",
    "Manager of Data and User Services at the Center for Translational Data Science at University of Chicago\n",
    "\n",
    "October 2024\n",
    "\n",
    "---\n",
    "This Jupyter notebook demonstrates how to calculate the time interval in days between each of a patient's imaging studies and each of their positive/negative COVID-19 test results, which are the following properties on the imaging_study node in the [MIDRC data dictionary](https://github.com/uc-cdis/midrc_dictionary/blob/deae581f0fb8b9ae5add1458d7882e189ba97af6/gdcdictionary/schemas/imaging_study.yaml#L61):\n",
    "* days_from_study_to_neg_covid_test\n",
    "* days_from_study_to_pos_covid_test"
   ]
  },
  {
   "cell_type": "markdown",
   "metadata": {},
   "source": [
    "# Install some Python packages:"
   ]
  },
  {
   "cell_type": "code",
   "execution_count": null,
   "metadata": {
    "scrolled": true
   },
   "outputs": [],
   "source": [
    "# # ## May need to install some Python packages\n",
    "\n",
    "# !pip install --upgrade pip\n",
    "# !pip install --upgrade gen3\n"
   ]
  },
  {
   "cell_type": "markdown",
   "metadata": {},
   "source": [
    "# Import Python Packages and scripts"
   ]
  },
  {
   "cell_type": "code",
   "execution_count": null,
   "metadata": {},
   "outputs": [],
   "source": [
    "# Import Python Packages and scripts\n",
    "import pandas as pd\n",
    "import sys, os, copy, datetime\n",
    "\n",
    "import gen3\n",
    "from gen3.submission import Gen3Submission\n",
    "from gen3.auth import Gen3Auth\n",
    "from gen3.index import Gen3Index\n",
    "from gen3.query import Gen3Query\n"
   ]
  },
  {
   "cell_type": "code",
   "execution_count": null,
   "metadata": {},
   "outputs": [],
   "source": [
    "# Set your working directory and change to it\n",
    "temp_dir = \"/Users/christopher/Documents/Notes/MIDRC/temporal\"\n",
    "os.chdir(temp_dir)\n"
   ]
  },
  {
   "cell_type": "code",
   "execution_count": null,
   "metadata": {},
   "outputs": [],
   "source": [
    "# download and import some custom Python scripts from https://github.com/cgmeyer/gen3sdk-python\n",
    "os.system(\"wget https://raw.githubusercontent.com/cgmeyer/gen3sdk-python/master/expansion/expansion.py\")\n",
    "from expansion import Gen3Expansion\n"
   ]
  },
  {
   "cell_type": "code",
   "execution_count": null,
   "metadata": {},
   "outputs": [],
   "source": [
    "sapi = 'https://staging.midrc.org'\n",
    "scred = '/Users/christopher/Downloads/midrc-staging-credentials.json'\n",
    "sauth = Gen3Auth(sapi, refresh_file=scred)\n",
    "ssub = Gen3Submission(sapi, sauth)\n",
    "sindex = Gen3Index(sauth)\n",
    "squery = Gen3Query(sauth)\n",
    "sexp = Gen3Expansion(sapi,sauth,ssub)\n",
    "spids = sexp.get_project_ids()\n"
   ]
  },
  {
   "cell_type": "code",
   "execution_count": null,
   "metadata": {},
   "outputs": [],
   "source": [
    "vsapi = \"https://validatestaging.midrc.org\"\n",
    "vscred = '/Users/christopher/Downloads/midrc-validatestaging-credentials.json'\n",
    "vsauth = Gen3Auth(vsapi, refresh_file=vscred)\n",
    "vssub = Gen3Submission(vsapi, vsauth)\n",
    "vsquery = Gen3Query(vsauth)\n",
    "vsexp = Gen3Expansion(vsapi,vsauth,vssub)\n",
    "vpids = vsexp.get_project_ids()\n"
   ]
  },
  {
   "cell_type": "code",
   "execution_count": null,
   "metadata": {},
   "outputs": [],
   "source": []
  },
  {
   "cell_type": "markdown",
   "metadata": {},
   "source": [
    "## Export metadata using submission API\n",
    "---\n",
    "Here we'll utilize the MIDRC submission API (the \"sheepdog\" Gen3 service) to export all the imaging study and measurement (COVID-19 tests) data using the [\"Gen3Expansion.get_node_tsvs\" function](https://github.com/cgmeyer/gen3sdk-python/blob/2aecc6575b22f9cca279b650914971dd6723a2ce/expansion/expansion.py#L219), which is a wrapper to export and merge all the records in a node across each project in the data commons using the [Gen3SDK](https://github.com/uc-cdis/gen3sdk-python/) function [Gen3Submission.export_node()](https://github.com/uc-cdis/gen3sdk-python/blob/5d7b5270ff11cf7037f211cf01e410d8e73d6b84/gen3/submission.py#L361)."
   ]
  },
  {
   "cell_type": "code",
   "execution_count": null,
   "metadata": {
    "scrolled": true
   },
   "outputs": [],
   "source": [
    "# Export all the records in the imaging_study node for specified projects in both staging and validatestaging\n",
    "# Make sure to use the \"overwrite=True\" option so you're working with the newest version of the data.\n",
    "# This function will return a \"master\" dataframe with merged data from all projects; also saves TSVs in \"outdir\" directory\n",
    "sst = sexp.get_node_tsvs(projects=spids, node=\"imaging_study\", overwrite=True, outdir=\"staging_tsvs\") # 181077, 178843\n",
    "display(len(sst))\n",
    "vst = vsexp.get_node_tsvs(projects=vpids, node=\"imaging_study\", overwrite=True, outdir=\"validatestaging_tsvs\") # 41925, 41048\n",
    "display(len(vst))"
   ]
  },
  {
   "cell_type": "code",
   "execution_count": null,
   "metadata": {},
   "outputs": [],
   "source": [
    "# Now export all the data in the measurement node, which is used to store the COVID test data\n",
    "sm = sexp.get_node_tsvs(projects=spids, node='measurement', overwrite=True, outdir=\"staging_tsvs\")\n",
    "vm = vsexp.get_node_tsvs(projects=vpids, node='measurement', overwrite=True, outdir=\"validatestaging_tsvs\")\n",
    "display(len(sm)) # 188294\n",
    "display(len(vm)) # 48981\n"
   ]
  },
  {
   "cell_type": "code",
   "execution_count": null,
   "metadata": {},
   "outputs": [],
   "source": [
    "# Concatenate all staging and validatestaging imaging study data\n",
    "ast = pd.concat([sst,vst])\n",
    "display(len(ast))\n",
    "\n",
    "# Concatenate all staging and validatestaging measurement data\n",
    "am = pd.concat([sm,vm])\n",
    "display(len(am))"
   ]
  },
  {
   "cell_type": "code",
   "execution_count": null,
   "metadata": {},
   "outputs": [],
   "source": [
    "## Drop studies with null days_to_study\n",
    "sdf = copy.deepcopy(ast.loc[~ast['days_to_study'].isna()]) # 204371\n",
    "display(len(sdf))"
   ]
  },
  {
   "cell_type": "code",
   "execution_count": null,
   "metadata": {},
   "outputs": [],
   "source": [
    "# Filter out measurements with null \"test_days_from_index\" and those without a test_name of \"COVID-19\", and those with a test value that's not Negative or Positive\n",
    "mdf = copy.deepcopy(am.loc[(~am['test_days_from_index'].isna()) & (am['test_name']=='COVID-19') & (am['test_result_text'].isin(['Positive','Negative']))])\n",
    "display(len(mdf))\n"
   ]
  },
  {
   "cell_type": "code",
   "execution_count": null,
   "metadata": {},
   "outputs": [],
   "source": [
    "# Get project_ids that have both measurement and study non-null data\n",
    "stpids = list(set(sdf['project_id']))\n",
    "display(stpids)\n",
    "\n",
    "mpids = list(set(mdf['project_id']))\n",
    "display(mpids)\n",
    "\n",
    "pids = list(set(mpids) & set(stpids))\n",
    "display(pids)"
   ]
  },
  {
   "cell_type": "code",
   "execution_count": null,
   "metadata": {},
   "outputs": [],
   "source": [
    "# Subset measurement and study dataframes to only projects with non-null data\n",
    "sdf = sdf.loc[sdf['project_id'].isin(pids)]\n",
    "mdf = mdf.loc[mdf['project_id'].isin(pids)]\n",
    "print(\"{} imaging studies out of {} total have matching non-null measurement temporal data in the same projects.\".format(len(sdf),len(ast)))\n",
    "print(\"{} measurements out of {} total have matching non-null imaging_study temporal data in the same projects.\".format(len(mdf),len(am)))"
   ]
  },
  {
   "cell_type": "code",
   "execution_count": null,
   "metadata": {},
   "outputs": [],
   "source": [
    "## Get case IDs with both measurement and study non-null data \n",
    "cases = list(set(mdf['cases.submitter_id']) & set(sdf['cases.submitter_id'])) # intersection of case IDs in imaging study and measurement nodes\n",
    "print(\"Both imaging study and measurement temporal data available for:\\n\\t{} case IDs with\\n\\t\\t{} imaging studies and\\n\\t\\t{} measurements.\".format(len(cases),len(sdf),len(mdf)))\n"
   ]
  },
  {
   "cell_type": "code",
   "execution_count": null,
   "metadata": {},
   "outputs": [],
   "source": [
    "# Subset measurement and study dataframes to only matching case IDs\n",
    "sdf = sdf.loc[sdf['cases.submitter_id'].isin(cases)]\n",
    "print(\"{} imaging studies out of {} total have matching measurement temporal data based on matching project and case IDs.\".format(len(sdf),len(ast)))\n",
    "\n",
    "mdf = mdf.loc[mdf['cases.submitter_id'].isin(cases)]\n",
    "print(\"{} measurements out of {} total have matching imaging study temporal data based on matching project and case IDs.\".format(len(mdf),len(am)))\n"
   ]
  },
  {
   "cell_type": "code",
   "execution_count": null,
   "metadata": {},
   "outputs": [],
   "source": [
    "# Group the measurement test_days_from_index based on the test_result_text\n",
    "mdf = mdf.groupby(['cases.submitter_id','test_result_text']).test_days_from_index.apply(sorted).reset_index()\n",
    "display(mdf)\n"
   ]
  },
  {
   "cell_type": "code",
   "execution_count": null,
   "metadata": {},
   "outputs": [],
   "source": [
    "# Get a list of \"test_days_from_index\" for each case ID based on value of \"test_result_text\"\n",
    "mdf = mdf.pivot(index='cases.submitter_id', columns='test_result_text', values='test_days_from_index').reset_index()\n",
    "display(mdf)\n"
   ]
  },
  {
   "cell_type": "code",
   "execution_count": null,
   "metadata": {},
   "outputs": [],
   "source": [
    "tdf = sdf.merge(mdf, how='left', on='cases.submitter_id')\n",
    "display(len(sdf))\n",
    "display(len(tdf))"
   ]
  },
  {
   "cell_type": "markdown",
   "metadata": {},
   "source": [
    "## Calculate the days from each imaging study to each COVID-19 test.\n",
    "---\n",
    "Now that we have the temporal data for imaging studies and COVID-19 tests in a single DataFrame for all cases in MIDRC for which this data is provided, we can calculate the number of days between each COVID-19 test and each imaging study, which we'll call `days_from_study_to_test`.\n",
    "\n",
    "* Note: In MIDRC, a negative \"days to XYZ\" indicates that the event \"XYZ\" took place that many days prior to the index event, while a positive \"days to\" indicates the number of days since the index event. For example, a \"days_to_study\" of \"-10\" indicates that the imaging study was performed 10 days *before* the index event. A value of \"365\" indicates the imaging study took place one year *after* the index event. \n",
    "* Note: The `index_event` property is on the `case` node and is often the date of the first imaging exam or the date of the first COVID-19 test; all other temporal \"days_to\" or \"days_from_\" properties are in relation to that index event.\n",
    "\n",
    "For `days_from_study_to_test`, we expect a positive value if the test was performed after the study, as the test date is forward in time in relation to the study, and a negative value if the test was performed prior to the study, as the test is backwards in time in relation to the study.\n",
    "\n",
    "- So, if `test_days_from_index` is `1` and `days_to_study` is `4`, the `days_from_study_to_test` should be `-3`, which means the COVID test took place 3 days before the imaging study. \n",
    "- If the COVID test is on day 4 and the imaging study is on day 1, then the `days_from_study_to_test` is `3`, meaning the COVID test took place 3 days after the imaging study.\n"
   ]
  },
  {
   "cell_type": "code",
   "execution_count": null,
   "metadata": {},
   "outputs": [],
   "source": [
    "\"\"\"Define a function for calculating the list of values given:\n",
    "    - days_to_study (int): for an imaging study and \n",
    "    - days_to_tests (list of int): which is a list of \"test_days_from_index\" for each of the patient's COVID-19 tests.\n",
    "    Returns the list \"days_from_study_to_tests\", which is the list of the difference between each COVID test's \"test_days_from_index\" and the study's \"days_to_study\"\n",
    "\"\"\"\n",
    "def get_days_from_study_to_tests(days_to_tests, days_to_study):\n",
    "    days_from_study_to_tests = []\n",
    "    if hasattr(days_to_tests, '__iter__'):\n",
    "        for days_to_test in days_to_tests:\n",
    "            days_from_study_to_tests.append(int(days_to_test - days_to_study))\n",
    "        days_from_study_to_tests = list(set(days_from_study_to_tests))\n",
    "        days_from_study_to_tests = sorted(days_from_study_to_tests, reverse=True)\n",
    "        days_from_study_to_tests = \",\".join(str(x) for x in days_from_study_to_tests).rstrip(',')\n",
    "        return days_from_study_to_tests\n",
    "    else:\n",
    "        return days_to_tests\n"
   ]
  },
  {
   "cell_type": "code",
   "execution_count": null,
   "metadata": {},
   "outputs": [],
   "source": [
    "# Now calculate the derived properties by applying the lambda function \"get_days_from_study_to_tests\"\n",
    "tdf['days_from_study_to_neg_covid_test'] = tdf.apply(lambda x: get_days_from_study_to_tests(x.Negative, x.days_to_study), axis=1)\n",
    "tdf['days_from_study_to_pos_covid_test'] = tdf.apply(lambda x: get_days_from_study_to_tests(x.Positive, x.days_to_study), axis=1)\n",
    "display(tdf[['days_from_study_to_pos_covid_test','days_from_study_to_neg_covid_test']])\n"
   ]
  },
  {
   "cell_type": "code",
   "execution_count": null,
   "metadata": {},
   "outputs": [],
   "source": [
    "study_props = ['type','project_id','submitter_id','cases.submitter_id','days_from_study_to_neg_covid_test','days_from_study_to_pos_covid_test','datasets.submitter_id']\n",
    "df = tdf[study_props]\n",
    "display(df)\n"
   ]
  },
  {
   "cell_type": "code",
   "execution_count": null,
   "metadata": {},
   "outputs": [],
   "source": [
    "# Filter out imaging studies that don't have a value for either temporal property\n",
    "df = df.loc[(~df['days_from_study_to_neg_covid_test'].isna()) | (~df['days_from_study_to_pos_covid_test'].isna())].reset_index().drop(columns=\"index\")\n",
    "display(len(df))\n"
   ]
  },
  {
   "cell_type": "code",
   "execution_count": null,
   "metadata": {},
   "outputs": [],
   "source": [
    "## Compare old temporal props to new values\n",
    "ost = copy.deepcopy(ast.rename(columns={'days_from_study_to_neg_covid_test':'dsnt',\n",
    "                    'days_from_study_to_pos_covid_test':'dspt'}))\n",
    "\n",
    "## Subset original data based on project_id, submitter_id and case_ids\n",
    "ost = ost.loc[(ost['project_id'].isin(list(set(df['project_id'])))) & (ost['cases.submitter_id'].isin(list(set(df['cases.submitter_id'])))) & (ost['submitter_id'].isin(list(set(df['submitter_id']))))]\n",
    "display(len(ost))\n"
   ]
  },
  {
   "cell_type": "code",
   "execution_count": null,
   "metadata": {},
   "outputs": [],
   "source": [
    "match = df.merge(ost[['submitter_id','dsnt','dspt']],how='left',on='submitter_id')\n",
    "display(match[['days_from_study_to_neg_covid_test','dsnt','days_from_study_to_pos_covid_test','dspt']])\n"
   ]
  },
  {
   "cell_type": "code",
   "execution_count": null,
   "metadata": {},
   "outputs": [],
   "source": [
    "new = match.loc[match['days_from_study_to_neg_covid_test']!=match['dsnt']]\n",
    "new = new.loc[new['days_from_study_to_pos_covid_test']!=new['dspt']].reset_index(drop=True)\n",
    "display(new)\n"
   ]
  },
  {
   "cell_type": "code",
   "execution_count": null,
   "metadata": {},
   "outputs": [],
   "source": [
    "now = datetime.datetime.now()\n",
    "today = \"{}{}{}\".format(now.year, now.month, now.day)\n",
    "new_name = \"new_temporal_imaging_study_{}_{}.tsv\".format(len(new),today)\n",
    "df_name = \"all_temporal_imaging_study_{}_{}.tsv\".format(len(df),today)\n",
    "\n",
    "new.to_csv(new_name, sep='\\t', index=False)\n",
    "df.to_csv(df_name, sep='\\t', index=False)\n",
    "\n",
    "print(\"New temporal data for {} imaging studies in MIDRC saved to file: {}\".format(len(new),new_name))\n",
    "print(\"All temporal data for {} imaging studies in MIDRC saved to file: {}\".format(len(df),df_name))\n"
   ]
  },
  {
   "cell_type": "code",
   "execution_count": null,
   "metadata": {},
   "outputs": [],
   "source": [
    "## Drop match props from new df\n",
    "sub_df = copy.deepcopy(new.drop(columns=['dsnt','dspt'],errors='ignore'))\n"
   ]
  },
  {
   "cell_type": "code",
   "execution_count": null,
   "metadata": {},
   "outputs": [],
   "source": [
    "# Submit the new temporal data updates\n",
    "data = {}\n",
    "npids = list(set(new['project_id']))\n",
    "for i in range(0,len(npids)):\n",
    "    pid = npids[i]\n",
    "    print(\"({}/{}) Submitting temporal prop updates to project: {}\".format(i,len(npids),pid))\n",
    "    if pid in spids:\n",
    "        data[pid] = sexp.submit_df(df=sub_df.loc[sub_df[\"project_id\"]==pid],project_id=pid, chunk_size=200)\n",
    "    elif pid in vpids:\n",
    "        data[pid] = vsexp.submit_df(df=sub_df.loc[sub_df[\"project_id\"]==pid],project_id=pid, chunk_size=200)\n",
    "print(\"Done.\")"
   ]
  },
  {
   "cell_type": "code",
   "execution_count": null,
   "metadata": {},
   "outputs": [],
   "source": [
    "# Done\n",
    "display([{i:(data[i]['responses'],data[i]['invalid'])} for i in data])"
   ]
  },
  {
   "cell_type": "code",
   "execution_count": null,
   "metadata": {},
   "outputs": [],
   "source": []
  }
 ],
 "metadata": {
  "kernelspec": {
   "display_name": "Python 3 (ipykernel)",
   "language": "python",
   "name": "python3"
  },
  "language_info": {
   "codemirror_mode": {
    "name": "ipython",
    "version": 3
   },
   "file_extension": ".py",
   "mimetype": "text/x-python",
   "name": "python",
   "nbconvert_exporter": "python",
   "pygments_lexer": "ipython3",
   "version": "3.9.6"
  }
 },
 "nbformat": 4,
 "nbformat_minor": 4
}
