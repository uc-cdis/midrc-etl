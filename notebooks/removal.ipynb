{
 "cells": [
  {
   "cell_type": "code",
   "execution_count": null,
   "metadata": {},
   "outputs": [],
   "source": [
    "from pathlib import Path\n",
    "\n",
    "import pandas as pd"
   ]
  },
  {
   "cell_type": "code",
   "execution_count": null,
   "metadata": {},
   "outputs": [],
   "source": [
    "p = Path(\"/Users/andrewprokhorenkov/CTDS/MIDRC/data/\")\n",
    "deletion_files = list(p.glob(\"**/*DELETION_*\"))\n",
    "delete_manifests = {f.stem: pd.read_csv(f, sep=None, engine='python') for f in deletion_files}"
   ]
  },
  {
   "cell_type": "code",
   "execution_count": null,
   "metadata": {},
   "outputs": [],
   "source": [
    "dfs = []\n",
    "\n",
    "for k, v in delete_manifests.items():\n",
    "    if \"storage_urls\" in v:\n",
    "        # print(v.columns.to_list())\n",
    "        dfs.append(v[[\"storage_urls\", \"case_ids\", \"study_uid\", \"series_uid\", \"file_size\", \"md5sum\"]])\n",
    "\n",
    "df = pd.concat(dfs)\n",
    "df[\"storage_urls\"] = df[\"storage_urls\"].str.replace(\"s3://storage.ir.rsna.ai/\", \"\")\n",
    "df[\"storage_urls\"] = df[\"storage_urls\"].str.replace(\"//\", \"replicated-data-acr/\")\n",
    "\n",
    "df.to_csv(\"/Users/andrewprokhorenkov/Downloads/instances.csv\", index=False)"
   ]
  },
  {
   "cell_type": "code",
   "execution_count": null,
   "metadata": {},
   "outputs": [],
   "source": [
    "dfs2 = []\n",
    "\n",
    "for k, v in delete_manifests.items():\n",
    "    if \"storage_urls\" not in v:\n",
    "        if \"study\" in k:\n",
    "            print(k, v.columns.to_list())\n",
    "            if \"study_uid\" not in v.columns:\n",
    "                dfs2.append(v.rename(columns={\"submitter_id\": \"study_uid\"})[[\"study_uid\"]])\n",
    "            else:\n",
    "                dfs2.append(v[[\"study_uid\"]])\n",
    "\n",
    "df2 = pd.concat(dfs2)\n",
    "df2.to_csv(\"/Users/andrewprokhorenkov/Downloads/studies.csv\", index=False)"
   ]
  },
  {
   "cell_type": "code",
   "execution_count": null,
   "metadata": {},
   "outputs": [],
   "source": [
    "dfs3 = []\n",
    "\n",
    "for k, v in delete_manifests.items():\n",
    "    if \"storage_urls\" not in v:\n",
    "        if \"case\" in k:\n",
    "            print(k, v.columns.to_list())\n",
    "            dfs3.append(v[[\"case_ids\"]])\n",
    "\n",
    "df3 = pd.concat(dfs3)\n",
    "\n",
    "df3.to_csv(\"/Users/andrewprokhorenkov/Downloads/cases.csv\", index=False)"
   ]
  }
 ],
 "metadata": {
  "kernelspec": {
   "display_name": "work",
   "language": "python",
   "name": "python3"
  },
  "language_info": {
   "codemirror_mode": {
    "name": "ipython",
    "version": 3
   },
   "file_extension": ".py",
   "mimetype": "text/x-python",
   "name": "python",
   "nbconvert_exporter": "python",
   "pygments_lexer": "ipython3",
   "version": "3.9.16"
  },
  "orig_nbformat": 4
 },
 "nbformat": 4,
 "nbformat_minor": 2
}
