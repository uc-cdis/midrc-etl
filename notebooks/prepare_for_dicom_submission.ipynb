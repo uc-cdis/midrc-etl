{
 "cells": [
  {
   "cell_type": "code",
   "execution_count": null,
   "metadata": {},
   "outputs": [],
   "source": [
    "from pathlib import Path\n",
    "\n",
    "import pandas as pd"
   ]
  },
  {
   "cell_type": "code",
   "execution_count": null,
   "metadata": {},
   "outputs": [],
   "source": [
    "# read master sequestration file from ~/Downloads/master_sequestration_locations_68089_2023-03-15.tsv file\n",
    "master_sequestration_file = Path.home() / \"Downloads\" / \"master_sequestration_locations_68089_2023-03-15.tsv\"\n",
    "master_sequestration = pd.read_csv(master_sequestration_file, sep=\"\\t\")\n",
    "open_stuff = master_sequestration.loc[master_sequestration[\"dataset\"] == \"Open\", \"case_ids\"]"
   ]
  },
  {
   "cell_type": "code",
   "execution_count": null,
   "metadata": {},
   "outputs": [],
   "source": [
    "# read all files from ~/Downloads and create a dataframe for each file in a dictionary\n",
    "manifests_list = list(Path(\"~/Downloads\").expanduser().glob(\"**/*.tsv\"))\n",
    "# filter only ones that match this name \"new_image_manifest_RSNA\"\n",
    "manifests_list = [x for x in manifests_list if x.name.startswith(\"new_image_manifest_RSNA\")]"
   ]
  },
  {
   "cell_type": "code",
   "execution_count": null,
   "metadata": {},
   "outputs": [],
   "source": [
    "dfs = {f.name: pd.read_csv(f, sep=\"\\t\") for f in manifests_list}"
   ]
  },
  {
   "cell_type": "code",
   "execution_count": null,
   "metadata": {},
   "outputs": [],
   "source": [
    "# filter dfs by case_ids from master_sequestration DataFrame\n",
    "new_dfs = {k: v[v[\"case_ids\"].isin(open_stuff)] for k, v in dfs.items()}"
   ]
  },
  {
   "cell_type": "code",
   "execution_count": null,
   "metadata": {},
   "outputs": [],
   "source": [
    "for k in dfs:\n",
    "    print(k, dfs[k].shape[0], new_dfs[k].shape[0])"
   ]
  },
  {
   "cell_type": "code",
   "execution_count": null,
   "metadata": {},
   "outputs": [],
   "source": [
    "new_dfs"
   ]
  },
  {
   "cell_type": "code",
   "execution_count": null,
   "metadata": {},
   "outputs": [],
   "source": [
    "new_dfs[\"new_image_manifest_RSNA_20230131.tsv\"]"
   ]
  },
  {
   "cell_type": "code",
   "execution_count": null,
   "metadata": {},
   "outputs": [],
   "source": [
    "for k, v in new_dfs.items():\n",
    "    tmp = v\n",
    "    # tmp[\"storage_urls\"].str.replace(\"storage.ir.rsna.ai\", \"external-data-midrc-replication\")\n",
    "    tmp[\"storage_urls\"].str.replace(\"s3://storage.ir.rsna.ai/\", \"\").to_csv(Path.home() / \"Downloads\" / k, sep=\"\\t\", index=False, header=False)"
   ]
  }
 ],
 "metadata": {
  "kernelspec": {
   "display_name": "work",
   "language": "python",
   "name": "python3"
  },
  "language_info": {
   "codemirror_mode": {
    "name": "ipython",
    "version": 3
   },
   "file_extension": ".py",
   "mimetype": "text/x-python",
   "name": "python",
   "nbconvert_exporter": "python",
   "pygments_lexer": "ipython3",
   "version": "3.9.16"
  },
  "orig_nbformat": 4
 },
 "nbformat": 4,
 "nbformat_minor": 2
}
