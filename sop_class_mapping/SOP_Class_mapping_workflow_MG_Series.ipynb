{
 "cells": [
  {
   "cell_type": "markdown",
   "id": "b69cd499",
   "metadata": {},
   "source": [
    "# Mapping SOP Class Name from SOP Class UID on the MG Series File Node\n",
    "---\n",
    "by Eric Giger\n",
    "\n",
    "Scientific Support Analyst at the Center for Translational Data Science at University of Chicago\n",
    "\n",
    "August 2023\n",
    "\n",
    "---\n",
    "This Jupyter notebook demonstrates how to map the mg_series_file node's `sop_class_uid` property to a `sop_class_name` by using a table of standard SOP Classes:[Table B.5-1. Standard SOP Classes](https://dicom.nema.org/medical/dicom/current/output/chtml/part04/sect_B.5.html). \n"
   ]
  },
  {
   "cell_type": "code",
   "execution_count": null,
   "id": "a6e62cee",
   "metadata": {},
   "outputs": [],
   "source": [
    "# Import Python Packages and scripts\n",
    "import pandas as pd\n",
    "import numpy as np\n",
    "from pathlib import Path\n",
    "import sys, os, copy, datetime, shutil\n",
    "\n",
    "import gen3\n",
    "from gen3.submission import Gen3Submission\n",
    "from gen3.auth import Gen3Auth\n",
    "from gen3.index import Gen3Index\n",
    "from gen3.query import Gen3Query"
   ]
  },
  {
   "cell_type": "code",
   "execution_count": null,
   "id": "3eb4e505",
   "metadata": {},
   "outputs": [],
   "source": [
    "# who's running the notebook\n",
    "username = \"\""
   ]
  },
  {
   "cell_type": "code",
   "execution_count": null,
   "id": "5aa56399",
   "metadata": {},
   "outputs": [],
   "source": [
    "# download and import some custom Python scripts from https://github.com/cgmeyer/gen3sdk-python\n",
    "wd = \"/Users/{}/Documents/Notes/MIDRC/wd\".format(username) #set your working dir\n",
    "os.chdir(wd)\n",
    "os.system(\"wget https://raw.githubusercontent.com/cgmeyer/gen3sdk-python/master/expansion/expansion.py -O expansion.py\")\n",
    "from expansion import Gen3Expansion\n"
   ]
  },
  {
   "cell_type": "code",
   "execution_count": null,
   "id": "ee9ebba2",
   "metadata": {},
   "outputs": [],
   "source": [
    "###############\n",
    "# You can view the SDK code/functions in GitHub: https://github.com/uc-cdis/gen3sdk-python\n",
    "###############\n",
    "###############\n",
    "###############\n",
    "# Initiate instances of the Gen3 SDK Classes using credentials file downloaded from https://staging.midrc.org/identity\n",
    "###############\n",
    "sapi = 'https://staging.midrc.org'\n",
    "scred = '/Users/{}/Downloads/midrc-staging-credentials.json'.format(username)\n",
    "sauth = Gen3Auth(sapi, refresh_file=scred) # authentication class\n",
    "ssub = Gen3Submission(sapi, sauth) # submission class\n",
    "squery = Gen3Query(sauth) # query class\n",
    "sexp = Gen3Expansion(sapi,sauth,ssub) # class with some custom scripts\n",
    "sprojects=sexp.get_project_ids()\n",
    "###############\n",
    "###############\n",
    "# Initiate instances of the Gen3 SDK Classes using credentials file downloaded from https://validatestaging.midrc.org/identity\n",
    "###############\n",
    "vsapi = 'https://validatestaging.midrc.org'\n",
    "vscred = '/Users/{}/Downloads/midrc-validatestaging-credentials.json'.format(username)\n",
    "vsauth = Gen3Auth(vsapi, refresh_file=vscred) # authentication class\n",
    "vssub = Gen3Submission(vsapi, vsauth) # submission class\n",
    "vsquery = Gen3Query(vsauth) # query class\n",
    "vsexp = Gen3Expansion(vsapi,vsauth,vssub) # class with some custom scripts\n",
    "vprojects=vsexp.get_project_ids()\n",
    "###############\n",
    "###############\n",
    "projects=sprojects+vprojects"
   ]
  },
  {
   "cell_type": "markdown",
   "id": "0f0c33b3",
   "metadata": {},
   "source": [
    "## Prepare the mapping table\n",
    "---\n",
    "Get the mapping table from the [uc-cdis/midrc-etl repo](https://github.com/uc-cdis/midrc-etl/tree/master/sop_class_mapping) and reformat (if necessary) to prepare for the SOP class mapping.\n",
    "\n",
    "Prior to this, you will need to clone the repo using `git clone git@github.com:uc-cdis/midrc-etl.git`"
   ]
  },
  {
   "cell_type": "code",
   "execution_count": null,
   "id": "6d4dc32a",
   "metadata": {},
   "outputs": [],
   "source": [
    "## Set the directory to your copy of the GitHub repo and pull main branch to pull latest updates from GitHub\n",
    "git_dir = \"/Users/{}/Documents/GitHub/uc-cdis/midrc-etl\".format(username)\n",
    "os.chdir(git_dir)\n",
    "os.system(\"git checkout master\")\n",
    "os.system(\"git pull origin master\")\n",
    "sop_dir=\"{}/sop_class_mapping\".format(git_dir)\n",
    "os.chdir(sop_dir)"
   ]
  },
  {
   "cell_type": "code",
   "execution_count": null,
   "id": "6dc097ad",
   "metadata": {},
   "outputs": [],
   "source": [
    "## Create the output/working directory\n",
    "now = datetime.datetime.now()\n",
    "today = \"{}-{}-{}\".format(now.year, now.month, now.day)\n",
    "\n",
    "results_dir = \"{}/sop_mapping/results_{}\".format(wd,today)\n",
    "Path(results_dir).mkdir(parents=True, exist_ok=True)\n",
    "\n",
    "staging_results_dir = \"{}/staging_results_{}\".format(results_dir,today)\n",
    "Path(staging_results_dir).mkdir(parents=True, exist_ok=True)\n",
    "\n",
    "validatestaging_results_dir = \"{}/validatestaging_results_{}\".format(results_dir,today)\n",
    "Path(validatestaging_results_dir).mkdir(parents=True, exist_ok=True)"
   ]
  },
  {
   "cell_type": "code",
   "execution_count": null,
   "id": "a50e508a",
   "metadata": {},
   "outputs": [],
   "source": [
    "mapping_file = \"{}/TableB5-1_Standard_SOP_Classes.tsv\".format(sop_dir)\n",
    "mapping = pd.read_csv(mapping_file,sep='\\t',dtype=str) #['Modality', 'StudyDescription', 'LOINC code', 'L-Long Common Name']\n",
    "\n",
    "shutil.copy2(mapping_file, results_dir) # copy the mapping table version used for this mapping to the results_dir\n",
    "\n",
    "mapping.drop_duplicates(inplace=True)\n",
    "\n",
    "## remove any leading/trailing whitespaces in the codes/descriptions\n",
    "mapping['sop_class_name'] = mapping['sop_class_name'].str.strip()\n",
    "mapping['sop_class_uid'] = mapping['sop_class_uid'].str.strip()\n",
    "mapping['iod_specification'] = mapping['iod_specification'].str.strip()\n",
    "mapping['specialization'] = mapping['specialization'].str.strip()\n",
    "\n",
    "## Summarize the mapping table\n",
    "mapping_codes = list(set(mapping['sop_class_uid']))\n",
    "mapping_names = list(set(mapping['sop_class_name']))\n",
    "\n",
    "display(mapping)\n",
    "print(\"Number of unique SOP Class UIDs in mapping table: {}\".format(len(mapping_codes)))\n",
    "print(\"Number of unique SOP CLass Names in mapping table: {}\".format(len(mapping_names)))\n"
   ]
  },
  {
   "cell_type": "markdown",
   "id": "bd5954f5-a9ef-4d53-b065-c7a3f2020800",
   "metadata": {},
   "source": [
    "\n",
    "#### While you may notice that there are four properties, one of which is mostly NaN, fear not as we will only need `sop_class_name` and `sop_class_uid` for this process."
   ]
  },
  {
   "cell_type": "code",
   "execution_count": null,
   "id": "d2d0e14c-33ae-4dc3-8f5d-7d09df44a17d",
   "metadata": {},
   "outputs": [],
   "source": [
    "mapping[['sop_class_name','sop_class_uid']]\n",
    "# we could save this to a variable if we'd like"
   ]
  },
  {
   "cell_type": "markdown",
   "id": "7dc4426e",
   "metadata": {},
   "source": [
    "## Download the MG Series File metadata from MIDRC Staging and Validate Staging\n",
    "---\n",
    "* Use the [`Gen3Expansion.get_node_tsvs()` SDK function](https://github.com/cgmeyer/gen3sdk-python/blob/389e3945482439ace6e4536e6d0e35c6e48de9c9/expansion/expansion.py#L219) to get all the MG Series File metadata in MIDRC Staging (staging.midrc.org) and ValidateStaging (validatestaging.midrc.org).\n",
    "\n",
    "* The function `exp.get_node_tsvs()` will return a master dataframe containing all the imaging_study data from the projects specified."
   ]
  },
  {
   "cell_type": "markdown",
   "id": "a04b526f",
   "metadata": {},
   "source": [
    "### In this version of the notebook, we're getting five projects: \n",
    "Staging:\n",
    "* Open-R1 (data from RSNA)\n",
    "* Open-A1 (data from ACR)\n",
    "* Open-A1_PETAL_REDCORAL (PETAL data from ACR)\n",
    "\n",
    "ValidateStaging:\n",
    "* SEQ_Open-R3\n",
    "* SEQ_Open-A3"
   ]
  },
  {
   "cell_type": "code",
   "execution_count": null,
   "id": "abf982ec",
   "metadata": {},
   "outputs": [],
   "source": [
    "os.chdir(results_dir)\n",
    "\n",
    "# sprojects = sexp.get_project_ids()\n",
    "sprojects = ['Open-R1','Open-A1','Open-A1_PETAL_REDCORAL']\n",
    "s_mg_series_file = sexp.get_node_tsvs(node='mg_series_file', overwrite=True, projects=sprojects,outdir=staging_results_dir)\n",
    "\n",
    "# vsprojects = vsexp.get_project_ids()\n",
    "vsprojects = ['SEQ_Open-R3','SEQ_Open-A3']\n",
    "vs_mg_series_file = vsexp.get_node_tsvs(node='mg_series_file', overwrite=True, projects=vsprojects,outdir=validatestaging_results_dir)"
   ]
  },
  {
   "cell_type": "code",
   "execution_count": null,
   "id": "f52d829a-7390-42ef-8cab-e60c43e02409",
   "metadata": {},
   "outputs": [],
   "source": [
    "# concat the SEQ and OPEN master MG Series File TSVs\n",
    "\n",
    "msf = pd.concat([s_mg_series_file,vs_mg_series_file], ignore_index=False)\n",
    "assert(len(st) == (len(sst)+len(vst)))"
   ]
  },
  {
   "cell_type": "markdown",
   "id": "c5bbbe72",
   "metadata": {},
   "source": [
    "## Reformat the imaging_series data to prepare for mapping\n",
    "---\n"
   ]
  },
  {
   "cell_type": "code",
   "execution_count": null,
   "id": "bec74a6f",
   "metadata": {},
   "outputs": [],
   "source": [
    "# make a list of the required properties needed to submit the MG Series File metadata + SOP Class UID (we'll get the name from the mapping table)\n",
    "series_props=['type','submitter_id','md5sum','file_size','file_name','data_type','data_format','data_category','sop_class_uid']\n",
    "\n",
    "## Make a copy of the master MG Series File table with only data relevant to SOP Class Mapping\n",
    "mg_series_file = copy.deepcopy(msf[series_props])\n",
    "\n",
    "## remove any leading/trailing whitespaces\n",
    "mg_series_file['sop_class_uid'] = mg_series_file['sop_class_uid'].str.strip()\n",
    "\n",
    "\n",
    "## Identify and drop duplicates\n",
    "dupes = mg_series_file.loc[mg_series_file.duplicated(keep=False)]\n",
    "mg_series_file = mg_series_file.drop_duplicates()\n",
    "display(mg_series_file)"
   ]
  },
  {
   "cell_type": "markdown",
   "id": "44b6b736",
   "metadata": {},
   "source": [
    "## Do mapping using pandas pd.merge(): \n",
    "---\n",
    "\n",
    "-  Merge `sop_class_name` in `mapping` DataFrame into the `mg_series_file` DataFrame on `sop_class_uid`.\n"
   ]
  },
  {
   "cell_type": "code",
   "execution_count": null,
   "id": "a01a5dc7",
   "metadata": {},
   "outputs": [],
   "source": [
    "# MDF (Master Data Frame)\n",
    "mdf = mg_series_file.merge(mapping,on='sop_class_uid',how='left').drop_duplicates()\n",
    "display(mdf)"
   ]
  },
  {
   "cell_type": "markdown",
   "id": "a4bf47b8",
   "metadata": {},
   "source": [
    "## Submit the data to Staging and ValidateStaging\n",
    "---\n",
    "Use the Gen3SDK function `Gen3Submission.submit_file()` to update the SOP Class Name property for each of the newly mapped series in `mdf`."
   ]
  },
  {
   "cell_type": "code",
   "execution_count": null,
   "id": "be7070b6",
   "metadata": {},
   "outputs": [],
   "source": [
    "# let's first seperate the mapped series in mdf into open and seq\n",
    "\n",
    "# OPEN\n",
    "smdf = mdf.loc[mdf.project_id.isin(sprojects)].reset_index(drop=True)\n",
    "\n",
    "# SEQ\n",
    "vsmdf = mdf.loc[mdf.project_id.isin(vsprojects)].reset_index(drop=True)"
   ]
  },
  {
   "cell_type": "code",
   "execution_count": null,
   "id": "99f80f20",
   "metadata": {},
   "outputs": [],
   "source": [
    "# I sometimes prefer submitting to ValidateStaging first since I know it will take less time\n",
    "# Submit the metadata to ValidateStaging\n",
    "\n",
    "projects = list(set(vsmdf['project_id']))\n",
    "vsdata = {}\n",
    "for vspid in projects:\n",
    "    print(\"Submitting data to project '{}'.\".format(vspid))\n",
    "    vsdata[vspid] = vsexp.submit_df(df=vsmdf.loc[vsmdf[\"project_id\"]==vspid],project_id=vspid, chunk_size=1000)"
   ]
  },
  {
   "cell_type": "code",
   "execution_count": null,
   "id": "715ad865",
   "metadata": {},
   "outputs": [],
   "source": [
    "# Submit the metadata to Staging\n",
    "\n",
    "projects = list(set(smdf['project_id']))\n",
    "sdata = {}\n",
    "for spid in projects:\n",
    "    print(\"Submitting data to project '{}'.\".format(vspid))\n",
    "    sdata[spid] = sexp.submit_df(df=smdf.loc[smdf[\"project_id\"]==spid],project_id=spid, chunk_size=1000)"
   ]
  }
 ],
 "metadata": {
  "kernelspec": {
   "display_name": "Python 3 (ipykernel)",
   "language": "python",
   "name": "python3"
  },
  "language_info": {
   "codemirror_mode": {
    "name": "ipython",
    "version": 3
   },
   "file_extension": ".py",
   "mimetype": "text/x-python",
   "name": "python",
   "nbconvert_exporter": "python",
   "pygments_lexer": "ipython3",
   "version": "3.10.4"
  }
 },
 "nbformat": 4,
 "nbformat_minor": 5
}
