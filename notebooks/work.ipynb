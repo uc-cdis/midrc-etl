{
 "cells": [
  {
   "cell_type": "code",
   "execution_count": null,
   "metadata": {},
   "outputs": [],
   "source": [
    "!pip install pandas"
   ]
  },
  {
   "cell_type": "code",
   "execution_count": 2,
   "metadata": {},
   "outputs": [],
   "source": [
    "import re\n",
    "\n",
    "import pandas as pd"
   ]
  },
  {
   "cell_type": "code",
   "execution_count": 3,
   "metadata": {},
   "outputs": [],
   "source": [
    "def sort_columns(df):\n",
    "    # Function to extract number from column name\n",
    "    def extract_number(col_name):\n",
    "        num = re.findall(r'\\d+', col_name)\n",
    "        return int(num[0]) if num else None\n",
    "\n",
    "    # Custom sorting function\n",
    "    def custom_sort(col_name):\n",
    "        if col_name == 'record_ID':\n",
    "            return -1\n",
    "        elif col_name == 'token_encryption_key':\n",
    "            return float('inf')\n",
    "        else:\n",
    "            num = extract_number(col_name)\n",
    "            if num is not None and col_name.startswith('token_'):\n",
    "                return num\n",
    "            else:\n",
    "                # Use a high value to place other columns at the end\n",
    "                return float('inf')\n",
    "\n",
    "    # Sort the column names using the custom sorting function\n",
    "    sorted_columns = sorted(df.columns, key=custom_sort)\n",
    "\n",
    "    # Reassign the sorted columns to the DataFrame\n",
    "    return df[sorted_columns]"
   ]
  },
  {
   "cell_type": "code",
   "execution_count": 4,
   "metadata": {},
   "outputs": [],
   "source": [
    "tokens = [\n",
    "      (\"/Users/andrewprokhorenkov/Downloads/MIDRC_N3C_UCHICAGO_20220728/MIDRC_N3C_UCHICAGO_20220728_TOKENS.csv\", \"|\")\n",
    "    , (\"/Users/andrewprokhorenkov/Downloads/MIDRC_N3C_UCHICAGO_20221202/MIDRC_N3C_UCHICAGO_20221202_TOKENS.csv\", \",\")\n",
    "    , (\"/Users/andrewprokhorenkov/Downloads/MIDRC_N3C_UCHICAGO_20230105/MIDRC_N3C_UCHICAGO_20230105_TOKENS.csv\", \"|\")\n",
    "    , (\"/Users/andrewprokhorenkov/Downloads/MIDRC_N3C_UCHICAGO_20230112/MIDRC_N3C_UCHICAGO_20230112_TOKENS.csv\", \"|\")\n",
    "]"
   ]
  },
  {
   "cell_type": "code",
   "execution_count": 7,
   "metadata": {},
   "outputs": [],
   "source": [
    "dfs = []\n",
    "for file, sep in tokens:\n",
    "    df = pd.read_csv(file, sep=sep)\n",
    "    dfs.append(df)\n",
    "df = pd.concat(dfs)\n",
    "\n",
    "df[\"ID\"] = df[\"record_ID\"].combine_first(df[\"ACR CASE ID\"]).combine_first(df[\"RECORD_ID\"]).combine_first(df[\"record_id\"])\n",
    "df.drop([\"record_ID\", \"ACR CASE ID\", \"RECORD_ID\", \"record_id\"], axis=1, inplace=True)\n",
    "df.insert(0, \"record_ID\", df[\"ID\"])\n",
    "df.drop([\"ID\"], axis=1, inplace=True)\n",
    "\n",
    "df = sort_columns(df)\n",
    "\n",
    "df = df.drop_duplicates()\n",
    "\n",
    "df.to_csv(\"MIDRC_N3C_UCHICAGO_20230405_TOKENS.csv\", sep=\"|\", index=False)"
   ]
  }
 ],
 "metadata": {
  "kernelspec": {
   "display_name": "venv",
   "language": "python",
   "name": "python3"
  },
  "language_info": {
   "codemirror_mode": {
    "name": "ipython",
    "version": 3
   },
   "file_extension": ".py",
   "mimetype": "text/x-python",
   "name": "python",
   "nbconvert_exporter": "python",
   "pygments_lexer": "ipython3",
   "version": "3.11.2"
  },
  "orig_nbformat": 4
 },
 "nbformat": 4,
 "nbformat_minor": 2
}
