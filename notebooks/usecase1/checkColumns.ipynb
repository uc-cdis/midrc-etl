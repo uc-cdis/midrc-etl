{
 "cells": [
  {
   "cell_type": "code",
   "execution_count": 1,
   "id": "33d821f8-3806-429a-b6db-b177215bd763",
   "metadata": {},
   "outputs": [],
   "source": [
    "import pandas as pd\n",
    "import numpy as np\n",
    "import requests\n",
    "import json\n",
    "import re\n",
    "import csv\n",
    "import os"
   ]
  },
  {
   "cell_type": "code",
   "execution_count": 2,
   "id": "6f25ba35",
   "metadata": {
    "tags": [
     "parameters"
    ]
   },
   "outputs": [],
   "source": [
    "# Designate parameters\n",
    "folderPath = './data/RSNA/'"
   ]
  },
  {
   "cell_type": "code",
   "execution_count": 3,
   "id": "ffb54614-bda9-4280-be11-6a2f97d4537f",
   "metadata": {},
   "outputs": [],
   "source": [
    "def get_template_columns(node):\n",
    "    \n",
    "    api_url = \"https://data.midrc.org/api/v0/submission/template/\" + node\n",
    "    \n",
    "    template_columns = requests.get(api_url).text.split('\\t')\n",
    "    template_columns =  list(filter(None, template_columns))\n",
    "    \n",
    "    mandatory_columns = [x for x in template_columns if x.startswith('*')]\n",
    "    \n",
    "    template_columns = [sub.replace('*', '') for sub in template_columns]\n",
    "    mandatory_columns = [sub.replace('*', '') for sub in mandatory_columns]\n",
    "    \n",
    "    mandatory_columns = list(set([x.partition('.')[-1] if '.' in x else x for x in mandatory_columns]))\n",
    "\n",
    "    return template_columns, mandatory_columns\n",
    "    \n",
    "def check_mandatory_columns(folderPath, files, columnNames):\n",
    "    badFiles = dict()\n",
    "    for file in files:\n",
    "        filePath = folderPath + file\n",
    "        fileColumns = pd.read_csv(filePath, index_col=0, nrows=0, sep='\\t').columns.tolist()\n",
    "        missing = [col for col in columnNames if col not in fileColumns]\n",
    "        if len(missing) != 0:\n",
    "            badFiles[file] = missing\n",
    "    return badFiles\n",
    "\n",
    "def check_extra_columns(folderPath, files, columnNames):\n",
    "    extraColumns = dict()\n",
    "    for file in files:\n",
    "        filePath = folderPath + file\n",
    "        fileColumns = pd.read_csv(filePath, index_col=0, nrows=0, sep='\\t').columns.tolist()\n",
    "        extra = [col for col in fileColumns if col not in columnNames]\n",
    "        if len(extra) != 0:\n",
    "            extraColumns[file] = extra\n",
    "    return extraColumns"
   ]
  },
  {
   "cell_type": "code",
   "execution_count": 4,
   "id": "7cd76786-9ebf-4feb-bdd6-bfa711c6d90b",
   "metadata": {},
   "outputs": [
    {
     "data": {
      "text/plain": [
       "{}"
      ]
     },
     "execution_count": 4,
     "metadata": {},
     "output_type": "execute_result"
    }
   ],
   "source": [
    "def main_missing_col(folder_path, batchName):\n",
    "    \n",
    "    badNodes = dict() # Collection of files and graph nodes with missing column names\n",
    "    \n",
    "    files = [x for x in os.listdir(folder_path) if batchName in x]\n",
    "    \n",
    "    nodes = list(set([x.partition('_' + batchName)[0] for x in files]))\n",
    "    \n",
    "    for node in nodes: \n",
    "        \n",
    "        template_columns, mandatory_columns = get_template_columns(node)\n",
    "        nodeFiles =  [x for x in files if node in x]\n",
    "        badFiles = check_mandatory_columns(folderPath, nodeFiles, mandatory_columns)\n",
    "\n",
    "        if len(badFiles) > 0:\n",
    "            badNodes[node] = badFiles\n",
    "            \n",
    "    return badNodes\n",
    "\n",
    "folderPath = folderPath # Parameterized variable\n",
    "batchName = 'RSNA' \n",
    "main_missing_col(folderPath, batchName)"
   ]
  },
  {
   "cell_type": "code",
   "execution_count": 5,
   "id": "3c6d87c2-ae7e-4f56-97fd-0ad07ecae4c6",
   "metadata": {},
   "outputs": [
    {
     "data": {
      "text/plain": [
       "{'cr_series': {'cr_series_RSNA_20220214.tsv': ['contrast_bolus_agent_number',\n",
       "   'view_position']},\n",
       " 'cr_instance': {'cr_instance_RSNA_20220214.tsv': ['storage_urls']},\n",
       " 'radiography_exam': {'radiography_exam_RSNA_20220214.tsv': ['view_position']},\n",
       " 'ct_instance': {'ct_instance_RSNA_20220214.tsv': ['storage_urls']},\n",
       " 'dx_series': {'dx_series_RSNA_20220214.tsv': ['contrast_bolus_agent_number',\n",
       "   'view_position']},\n",
       " 'ct_scan': {'ct_scan_RSNA_20220214.tsv': ['scan_notes']},\n",
       " 'case': {'case_RSNA_20220204.tsv': ['zip']}}"
      ]
     },
     "execution_count": 5,
     "metadata": {},
     "output_type": "execute_result"
    }
   ],
   "source": [
    "def main_extra_col(folder_path):\n",
    "    \n",
    "    badNodes = dict()\n",
    "    files = [x for x in os.listdir(folder_path) if 'RSNA' in x]\n",
    "    nodes = list(set([x.partition('_RSNA')[0] for x in files]))\n",
    "    \n",
    "    for node in nodes: \n",
    "        \n",
    "        template_columns, mandatory_columns = get_template_columns(node)\n",
    "        nodeFiles =  [x for x in files if node in x]\n",
    "        extraFiles = check_extra_columns(folderPath, nodeFiles, template_columns)\n",
    "        \n",
    "        if len(extraFiles) > 0:\n",
    "            badNodes[node] = extraFiles\n",
    "            \n",
    "    return badNodes\n",
    "\n",
    "folderPath = folderPath\n",
    "main_extra_col(folderPath)"
   ]
  }
 ],
 "metadata": {
  "celltoolbar": "Tags",
  "kernelspec": {
   "display_name": "Python 3 (ipykernel)",
   "language": "python",
   "name": "python3"
  },
  "language_info": {
   "codemirror_mode": {
    "name": "ipython",
    "version": 3
   },
   "file_extension": ".py",
   "mimetype": "text/x-python",
   "name": "python",
   "nbconvert_exporter": "python",
   "pygments_lexer": "ipython3",
   "version": "3.9.7"
  }
 },
 "nbformat": 4,
 "nbformat_minor": 5
}
