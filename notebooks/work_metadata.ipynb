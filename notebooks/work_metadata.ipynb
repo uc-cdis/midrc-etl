{
 "cells": [
  {
   "cell_type": "code",
   "execution_count": null,
   "metadata": {},
   "outputs": [],
   "source": [
    "!pip install pandas"
   ]
  },
  {
   "cell_type": "code",
   "execution_count": 1,
   "metadata": {},
   "outputs": [],
   "source": [
    "import pandas as pd"
   ]
  },
  {
   "cell_type": "code",
   "execution_count": 2,
   "metadata": {},
   "outputs": [],
   "source": [
    "tokens = [\n",
    "      (\"/Users/andrewprokhorenkov/Downloads/MIDRC_N3C_UCHICAGO_20220728/MIDRC_N3C_UCHICAGO_20220728_METADATA.csv\", \"|\")\n",
    "    , (\"/Users/andrewprokhorenkov/Downloads/MIDRC_N3C_UCHICAGO_20221202/MIDRC_N3C_UCHICAGO_20221202_METADATA.csv\", \"|\")\n",
    "    , (\"/Users/andrewprokhorenkov/Downloads/MIDRC_N3C_UCHICAGO_20230105/MIDRC_N3C_UCHICAGO_20230105_METADATA.csv\", \"|\")\n",
    "    , (\"/Users/andrewprokhorenkov/Downloads/MIDRC_N3C_UCHICAGO_20230112/MIDRC_N3C_UCHICAGO_20230112_METADATA.csv\", \"|\")\n",
    "]"
   ]
  },
  {
   "cell_type": "code",
   "execution_count": 3,
   "metadata": {},
   "outputs": [],
   "source": [
    "dfs = []\n",
    "for file, sep in tokens:\n",
    "    df = pd.read_csv(file, sep=sep)\n",
    "    dfs.append(df)\n",
    "df = pd.concat(dfs)\n",
    "\n",
    "# df[\"ID\"] = df[\"record_ID\"].combine_first(df[\"ACR CASE ID\"]).combine_first(df[\"RECORD_ID\"]).combine_first(df[\"record_id\"])\n",
    "# df.drop([\"record_ID\", \"ACR CASE ID\", \"RECORD_ID\", \"record_id\"], axis=1, inplace=True)\n",
    "# df.insert(0, \"record_ID\", df[\"ID\"])\n",
    "# df.drop([\"ID\"], axis=1, inplace=True)\n",
    "\n",
    "df = df.drop_duplicates()\n",
    "df.to_csv(\"MIDRC_N3C_UCHICAGO_20230405_METADATA.csv\", sep=\"|\", index=False)"
   ]
  }
 ],
 "metadata": {
  "kernelspec": {
   "display_name": "venv",
   "language": "python",
   "name": "python3"
  },
  "language_info": {
   "codemirror_mode": {
    "name": "ipython",
    "version": 3
   },
   "file_extension": ".py",
   "mimetype": "text/x-python",
   "name": "python",
   "nbconvert_exporter": "python",
   "pygments_lexer": "ipython3",
   "version": "3.11.2"
  },
  "orig_nbformat": 4
 },
 "nbformat": 4,
 "nbformat_minor": 2
}
