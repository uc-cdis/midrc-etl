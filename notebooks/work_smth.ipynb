{
 "cells": [
  {
   "cell_type": "code",
   "execution_count": null,
   "metadata": {},
   "outputs": [],
   "source": [
    "%pip install -U pip pandas numpy"
   ]
  },
  {
   "cell_type": "code",
   "execution_count": null,
   "metadata": {},
   "outputs": [],
   "source": [
    "import datetime\n",
    "\n",
    "import pandas as pd\n",
    "from sqlalchemy import text\n",
    "\n",
    "from summit_db import *"
   ]
  },
  {
   "attachments": {},
   "cell_type": "markdown",
   "metadata": {},
   "source": [
    "Example of the expected input for the code:\n",
    "\n",
    "```\n",
    "storage_urls,file_name,file_size,md5sum,case_ids,study_uid,series_uid,instance_uid,submission_uid\n",
    "replicated-data-acr/acrimage/2021/11/2.16.840.1.114274.1818.47455604957111075337316216515213272202/2.16.840.1.114274.1818.54466377751733170579364934456562112131.dcm,2.16.840.1.114274.1818.54466377751733170579364934456562112131.dcm,232592,d282e8db56cf88b5fd774df36efd0f8b,10003752-XgWoDDdRAU66JNviBhIKOA,2.16.840.1.114274.1818.47455604957111075337316216515213272202,2.16.840.1.114274.1818.48898871715409804392517238022035041185,2.16.840.1.114274.1818.54466377751733170579364934456562112131,ACR_20211115\n",
    "```"
   ]
  },
  {
   "attachments": {},
   "cell_type": "markdown",
   "metadata": {},
   "source": [
    "* RSNA_20221206_image_manifests (submitted)\n",
    "* RSNA_20230105_image_manifests (submitting)\n",
    "* RSNA_20230106_image_manifests\n",
    "* RSNA_20230117_image_manifests\n",
    "* RSNA_20230131_image_manifests\n",
    "* RSNA_20230214_image_manifests (submitted)\n",
    "* RSNA_20230303_image_manifests (submitted)\n",
    "* RSNA_20230324_image_manifests (submitted)\n",
    "* RSNA_20230403_image_manifests (submitted)\n",
    "* RSNA_20230425_image_manifests"
   ]
  },
  {
   "cell_type": "code",
   "execution_count": null,
   "metadata": {},
   "outputs": [],
   "source": [
    "# df = process_submission(\"data_example/RSNA_20230303_image_manifests/new_image_manifest_RSNA_20230303.tsv\", \"RSNA_20230303\")\n",
    "batch_name=\"RSNA_20221206\"\n",
    "df = process_submission(\"/home/ubuntu/wd/temp_manifests/new_image_manifest_{}.tsv\".format(batch_name), batch_name)\n"
   ]
  },
  {
   "cell_type": "code",
   "execution_count": null,
   "metadata": {},
   "outputs": [],
   "source": [
    "with eng.begin() as conn:\n",
    "    df.to_sql(\"everything\", con=conn, schema=\"public\", if_exists=\"append\", index=False)"
   ]
  },
  {
   "cell_type": "code",
   "execution_count": null,
   "metadata": {},
   "outputs": [],
   "source": [
    "sub_df = get_submission([batch_name])"
   ]
  },
  {
   "cell_type": "code",
   "execution_count": null,
   "metadata": {},
   "outputs": [],
   "source": [
    "sub_df[[\"file_size\"]].sum()/(1000**4)"
   ]
  },
  {
   "cell_type": "code",
   "execution_count": null,
   "metadata": {},
   "outputs": [],
   "source": [
    "#record_type\tguid\tmd5\tsize\tauthz\turls\tfile_name\tpackage_contents\n",
    "#package\tdg.MD1R/639703ae-1a20-485d-b710-7bf35bf376df\tb0d9dbddeb92d237c357d8d839a7e479\t13746408\t\"[\"\"/programs/Open/projects/R1\"\"]\"\ts3://open-data-midrc/zip/419639-007644/1.2.826.0.1.3680043.10.474.419639.314881501950920449673698361907/1.2.826.0.1.3680043.10.474.419639.259674532612370694815533893848.zip\t419639-007644/1.2.826.0.1.3680043.10.474.419639.314881501950920449673698361907/1.2.826.0.1.3680043.10.474.419639.259674532612370694815533893848.zip\t\"[{\"\"hashes\"\": {\"\"md5sum\"\": \"\"a72b75baa79e2e7bef4fd0fde2ab4626\"\"}, \"\"file_name\"\": \"\"1.2.826.0.1.3680043.10.474.419639.259674532612370694815533893848/1.2.826.0.1.3680043.10.474.419639.104705416102949685117920506906.dcm\"\", \"\"size\"\": 13746044}]\""
   ]
  },
  {
   "cell_type": "code",
   "execution_count": null,
   "metadata": {},
   "outputs": [],
   "source": [
    "with eng.connect().execution_options(autocommit=True) as conn:\n",
    "    df2 = pd.read_sql(text('''\n",
    "    SELECT json_agg(\n",
    "    json_build_object(\n",
    "        'hashes', json_build_object('md5sum', md5sum),\n",
    "        'file_name', series_uid || '/' || file_name,\n",
    "        'size', file_size\n",
    "        )\n",
    ")\n",
    "FROM everything\n",
    "where everything.submission_id = 'RSNA_20221206'\n",
    "group by series_uid;\n",
    "    '''), con=conn)"
   ]
  },
  {
   "cell_type": "code",
   "execution_count": null,
   "metadata": {},
   "outputs": [],
   "source": [
    "df2.loc[0, \"json_agg\"]"
   ]
  },
  {
   "cell_type": "code",
   "execution_count": null,
   "metadata": {},
   "outputs": [],
   "source": [
    "df2"
   ]
  },
  {
   "attachments": {},
   "cell_type": "markdown",
   "metadata": {},
   "source": [
    "* cases\n",
    "* studies\n",
    "* series\n",
    "* instances\n",
    "\n",
    "* `case_ids`/`study_uid`/`series_uid`/`instance_uid`\n",
    "* `submission_id`\n",
    "* `submitted` — Date (YYYY-MM-DD)\n",
    "* `removed` — Date (YYYY-MM-DD)"
   ]
  },
  {
   "cell_type": "code",
   "execution_count": null,
   "metadata": {},
   "outputs": [],
   "source": [
    "cases = df.loc[:, [\"case_ids\", \"submission_id\"]].drop_duplicates()\n",
    "cases[\"submitted\"] = datetime.date(2023, 5, 12)\n",
    "cases[\"removed\"] = None"
   ]
  },
  {
   "cell_type": "code",
   "execution_count": null,
   "metadata": {},
   "outputs": [],
   "source": [
    "cases"
   ]
  },
  {
   "cell_type": "code",
   "execution_count": null,
   "metadata": {},
   "outputs": [],
   "source": [
    "with eng.begin() as conn:\n",
    "    cases.to_sql(\"cases\", con=conn, schema=\"public\", if_exists=\"append\", index=False)"
   ]
  },
  {
   "cell_type": "code",
   "execution_count": null,
   "metadata": {},
   "outputs": [],
   "source": [
    "get_all_cases().loc[get_all_cases()[\"submitted\"] < datetime.date(2023, 8, 31)]"
   ]
  }
 ],
 "metadata": {
  "kernelspec": {
   "display_name": "venv",
   "language": "python",
   "name": "python3"
  },
  "language_info": {
   "codemirror_mode": {
    "name": "ipython",
    "version": 3
   },
   "file_extension": ".py",
   "mimetype": "text/x-python",
   "name": "python",
   "nbconvert_exporter": "python",
   "pygments_lexer": "ipython3",
   "version": "3.10.6"
  },
  "orig_nbformat": 4
 },
 "nbformat": 4,
 "nbformat_minor": 2
}
