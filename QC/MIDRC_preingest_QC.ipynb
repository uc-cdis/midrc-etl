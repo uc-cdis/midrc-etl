{
 "cells": [
  {
   "cell_type": "markdown",
   "id": "1971b142",
   "metadata": {},
   "source": [
    "### This is the MIDRC Pre-Ingestion QC Checklist. \n",
    "---\n",
    "The purpose of the notebook is to do some basic quality checks of batches of data received from data contributors in MIDRC prior to beginning work on ingestion, so that we can notify data contributors of any issues with their data submissions sooner than later.\n",
    "\n",
    "Chris Meyer, PhD <br>\n",
    "PlanX Manager of Data and User Services <br>\n",
    "April 2023 <br>"
   ]
  },
  {
   "cell_type": "code",
   "execution_count": 1,
   "id": "b71963b9",
   "metadata": {},
   "outputs": [
    {
     "name": "stdout",
     "output_type": "stream",
     "text": [
      "/Users/christopher/Documents/Notes/MIDRC/data/ssot-s3/RSNA_20230303\n"
     ]
    }
   ],
   "source": [
    "wd = \"/Users/christopher/Documents/Notes/MIDRC/data/ssot-s3/\"\n",
    "pid = \"TCIA-COVID-19-NY-SBU\"\n",
    "\n",
    "#batch=\"RSNA_20220812\"\n",
    "batch=\"RSNA_20230131\"\n",
    "batch=\"RSNA_20230214\"\n",
    "batch=\"RSNA_20230303\"\n",
    "\n",
    "batch_dir = \"{}{}\".format(wd,batch)\n",
    "\n",
    "print(batch_dir)"
   ]
  },
  {
   "cell_type": "code",
   "execution_count": 2,
   "id": "9d774768",
   "metadata": {},
   "outputs": [],
   "source": [
    "\"\"\"\n",
    "0. Prepare Python environment\n",
    "\"\"\"\n",
    "\n",
    "import pandas as pd\n",
    "import sys, os\n",
    "import gen3\n",
    "from gen3.submission import Gen3Submission\n",
    "from gen3.auth import Gen3Auth\n",
    "from gen3.index import Gen3Index\n",
    "from gen3.query import Gen3Query\n",
    "\n"
   ]
  },
  {
   "cell_type": "code",
   "execution_count": 3,
   "id": "7b97c91d",
   "metadata": {},
   "outputs": [
    {
     "name": "stdout",
     "output_type": "stream",
     "text": [
      "--2023-04-14 14:38:16--  https://raw.githubusercontent.com/cgmeyer/gen3sdk-python/master/expansion/expansion.py\n",
      "Resolving raw.githubusercontent.com (raw.githubusercontent.com)... 185.199.109.133, 185.199.110.133, 185.199.111.133, ...\n",
      "Connecting to raw.githubusercontent.com (raw.githubusercontent.com)|185.199.109.133|:443... connected.\n",
      "HTTP request sent, awaiting response... 200 OK\n",
      "Length: 199943 (195K) [text/plain]\n",
      "Saving to: ‘expansion.py’\n",
      "\n",
      "expansion.py        100%[===================>] 195.26K  --.-KB/s    in 0.05s   \n",
      "\n",
      "2023-04-14 14:38:16 (3.62 MB/s) - ‘expansion.py’ saved [199943/199943]\n",
      "\n"
     ]
    }
   ],
   "source": [
    "!rm expansion.py*\n",
    "!wget https://raw.githubusercontent.com/cgmeyer/gen3sdk-python/master/expansion/expansion.py\n",
    "%run ./expansion.py\n"
   ]
  },
  {
   "cell_type": "code",
   "execution_count": 4,
   "id": "dd8c520c",
   "metadata": {},
   "outputs": [],
   "source": [
    "# ## override the github file with local copy; \n",
    "# ## comment this out when running outside cgmeyer's laptop\n",
    "# git_dir='/Users/christopher/Documents/GitHub'\n",
    "# sdk_dir='/cgmeyer/gen3sdk-python'\n",
    "# sys.path.insert(1, '{}{}'.format(git_dir,sdk_dir))\n",
    "# from expansion import Gen3Expansion\n",
    "# %run /Users/christopher/Documents/GitHub/cgmeyer/gen3sdk-python/expansion/expansion.py\n"
   ]
  },
  {
   "cell_type": "code",
   "execution_count": 5,
   "id": "1a84b16a",
   "metadata": {},
   "outputs": [
    {
     "name": "stdout",
     "output_type": "stream",
     "text": [
      "Getting all project_ids you have access to in the data commons.\n",
      "['Open-A1', 'Open-A1_PETAL_REDCORAL', 'Open-R1', 'TCIA-COVID-19-AR', 'TCIA-COVID-19-NY-SBU', 'TCIA-COVID-19_CT_Images', 'TCIA-RICORD']\n"
     ]
    },
    {
     "data": {
      "text/plain": [
       "['Open-A1',\n",
       " 'Open-A1_PETAL_REDCORAL',\n",
       " 'Open-R1',\n",
       " 'TCIA-COVID-19-AR',\n",
       " 'TCIA-COVID-19-NY-SBU',\n",
       " 'TCIA-COVID-19_CT_Images',\n",
       " 'TCIA-RICORD']"
      ]
     },
     "execution_count": 5,
     "metadata": {},
     "output_type": "execute_result"
    }
   ],
   "source": [
    "# initialize the SDK classes\n",
    "sapi = 'https://staging.midrc.org'\n",
    "scred = '/Users/christopher/Downloads/midrc-staging-credentials.json' # change this to your credentials location\n",
    "sauth = Gen3Auth(sapi, refresh_file=scred)\n",
    "ssub = Gen3Submission(sapi, sauth)\n",
    "sindex = Gen3Index(sauth)\n",
    "squery = Gen3Query(sauth)\n",
    "sexp = Gen3Expansion(sapi,sauth,ssub)\n",
    "sexp.get_project_ids()\n"
   ]
  },
  {
   "cell_type": "markdown",
   "id": "098d1bb5",
   "metadata": {},
   "source": [
    "\n",
    "## 1. Fetch the batch metadata TSVs and clinical/image manifests\n",
    "---\n",
    "Run the following in linux/unix shell:\n",
    "\n",
    "* a. Pull data from AWS bucket to utilityvm.midrc.csoc, e.g.:\n",
    "```\n",
    "aws s3 sync s3://external-data-midrc-replication/replicated-data-acr/RSNA_20220812/ RSNA_20220812/ --exclude \"*\" --include \"*.tsv\"\n",
    "```\n",
    "* b. Sync the data locally for submission, or can run this notebook directly in the utility VM via ipython shell, e.g.:\n",
    "```\n",
    "wd=\"/Users/christopher/Documents/Notes/MIDRC/data/ssot-s3\"\n",
    "batch=\"RSNA_20230303\"\n",
    "rsync -rP utilityvm.midrc.csoc:/home/ubuntu/download/${batch} ${wd}\n",
    "```\n",
    "\n"
   ]
  },
  {
   "cell_type": "markdown",
   "id": "dab89819",
   "metadata": {},
   "source": [
    "## 2. Sort the TSVs into manifests, submission TSVs, and supplemental/other\n",
    "---\n",
    "Provide the batch name (\"batch\") and the directory where the batch TSVs are located (\"batch_dir\")\n",
    "\n"
   ]
  },
  {
   "cell_type": "code",
   "execution_count": 6,
   "id": "63b6b7c5",
   "metadata": {},
   "outputs": [
    {
     "name": "stdout",
     "output_type": "stream",
     "text": [
      "/Users/christopher/Documents/Notes/MIDRC/data/ssot-s3/RSNA_20230303/dx_series_RSNA_20230303.tsv\n",
      "['dx_series']\n",
      "/Users/christopher/Documents/Notes/MIDRC/data/ssot-s3/RSNA_20230303/imaging_study_RSNA_20230303.tsv\n",
      "['imaging_study']\n",
      "/Users/christopher/Documents/Notes/MIDRC/data/ssot-s3/RSNA_20230303/ct_series_RSNA_20230303.tsv\n",
      "['ct_series']\n",
      "/Users/christopher/Documents/Notes/MIDRC/data/ssot-s3/RSNA_20230303/image_manifest_RSNA_20230303.tsv\n",
      "/Users/christopher/Documents/Notes/MIDRC/data/ssot-s3/RSNA_20230303/clinical_manifest_RSNA_20230303.tsv\n",
      "/Users/christopher/Documents/Notes/MIDRC/data/ssot-s3/RSNA_20230303/visit_RSNA_20230303.tsv\n",
      "['visit']\n",
      "/Users/christopher/Documents/Notes/MIDRC/data/ssot-s3/RSNA_20230303/measurement_RSNA_20230303.tsv\n",
      "['measurement']\n",
      "/Users/christopher/Documents/Notes/MIDRC/data/ssot-s3/RSNA_20230303/cr_series_RSNA_20230303.tsv\n",
      "['cr_series']\n",
      "/Users/christopher/Documents/Notes/MIDRC/data/ssot-s3/RSNA_20230303/case_RSNA_20230303.tsv\n",
      "['case']\n"
     ]
    },
    {
     "data": {
      "text/plain": [
       "{'batch': 'RSNA_20230303',\n",
       " 'node_tsvs': {'dx_series_file': '/Users/christopher/Documents/Notes/MIDRC/data/ssot-s3/RSNA_20230303/dx_series_RSNA_20230303.tsv',\n",
       "  'imaging_study': '/Users/christopher/Documents/Notes/MIDRC/data/ssot-s3/RSNA_20230303/imaging_study_RSNA_20230303.tsv',\n",
       "  'ct_series_file': '/Users/christopher/Documents/Notes/MIDRC/data/ssot-s3/RSNA_20230303/ct_series_RSNA_20230303.tsv',\n",
       "  'visit': '/Users/christopher/Documents/Notes/MIDRC/data/ssot-s3/RSNA_20230303/visit_RSNA_20230303.tsv',\n",
       "  'measurement': '/Users/christopher/Documents/Notes/MIDRC/data/ssot-s3/RSNA_20230303/measurement_RSNA_20230303.tsv',\n",
       "  'cr_series_file': '/Users/christopher/Documents/Notes/MIDRC/data/ssot-s3/RSNA_20230303/cr_series_RSNA_20230303.tsv',\n",
       "  'case': '/Users/christopher/Documents/Notes/MIDRC/data/ssot-s3/RSNA_20230303/case_RSNA_20230303.tsv'},\n",
       " 'image_manifests': ['/Users/christopher/Documents/Notes/MIDRC/data/ssot-s3/RSNA_20230303/image_manifest_RSNA_20230303.tsv'],\n",
       " 'clinical_manifests': ['/Users/christopher/Documents/Notes/MIDRC/data/ssot-s3/RSNA_20230303/clinical_manifest_RSNA_20230303.tsv'],\n",
       " 'other_tsvs': [],\n",
       " 'nomatch_tsvs': []}"
      ]
     },
     "execution_count": 6,
     "metadata": {},
     "output_type": "execute_result"
    }
   ],
   "source": [
    "batch_tsvs = sexp.sort_batch_tsvs(batch,batch_dir)\n",
    "batch_tsvs\n"
   ]
  },
  {
   "cell_type": "code",
   "execution_count": 7,
   "id": "8251ffc3",
   "metadata": {},
   "outputs": [
    {
     "name": "stdout",
     "output_type": "stream",
     "text": [
      "Clinical manifests:\n"
     ]
    },
    {
     "data": {
      "text/plain": [
       "['/Users/christopher/Documents/Notes/MIDRC/data/ssot-s3/RSNA_20230303/clinical_manifest_RSNA_20230303.tsv']"
      ]
     },
     "metadata": {},
     "output_type": "display_data"
    },
    {
     "name": "stdout",
     "output_type": "stream",
     "text": [
      "Image manifests:\n"
     ]
    },
    {
     "data": {
      "text/plain": [
       "['/Users/christopher/Documents/Notes/MIDRC/data/ssot-s3/RSNA_20230303/image_manifest_RSNA_20230303.tsv']"
      ]
     },
     "metadata": {},
     "output_type": "display_data"
    },
    {
     "name": "stdout",
     "output_type": "stream",
     "text": [
      "Submission TSVs:\n"
     ]
    },
    {
     "data": {
      "text/plain": [
       "{'dx_series_file': '/Users/christopher/Documents/Notes/MIDRC/data/ssot-s3/RSNA_20230303/dx_series_RSNA_20230303.tsv',\n",
       " 'imaging_study': '/Users/christopher/Documents/Notes/MIDRC/data/ssot-s3/RSNA_20230303/imaging_study_RSNA_20230303.tsv',\n",
       " 'ct_series_file': '/Users/christopher/Documents/Notes/MIDRC/data/ssot-s3/RSNA_20230303/ct_series_RSNA_20230303.tsv',\n",
       " 'visit': '/Users/christopher/Documents/Notes/MIDRC/data/ssot-s3/RSNA_20230303/visit_RSNA_20230303.tsv',\n",
       " 'measurement': '/Users/christopher/Documents/Notes/MIDRC/data/ssot-s3/RSNA_20230303/measurement_RSNA_20230303.tsv',\n",
       " 'cr_series_file': '/Users/christopher/Documents/Notes/MIDRC/data/ssot-s3/RSNA_20230303/cr_series_RSNA_20230303.tsv',\n",
       " 'case': '/Users/christopher/Documents/Notes/MIDRC/data/ssot-s3/RSNA_20230303/case_RSNA_20230303.tsv'}"
      ]
     },
     "metadata": {},
     "output_type": "display_data"
    }
   ],
   "source": [
    "## Display batch TSV information\n",
    "\n",
    "if len(batch_tsvs[\"other_tsvs\"]) > 0:\n",
    "    print(\"Other TSVs not matched with data model:\")\n",
    "    display(batch_tsvs[\"other_tsvs\"])\n",
    "if len(batch_tsvs[\"nomatch_tsvs\"]) > 0:\n",
    "    print(\"TSVs that don't match regex for finding TSVs:\")\n",
    "    display(batch_tsvs[\"nomatch_tsvs\"])\n",
    "\n",
    "print(\"Clinical manifests:\")\n",
    "display(batch_tsvs[\"clinical_manifests\"])\n",
    "print(\"Image manifests:\")\n",
    "display(batch_tsvs[\"image_manifests\"])\n",
    "print(\"Submission TSVs:\")\n",
    "display(batch_tsvs[\"node_tsvs\"])\n"
   ]
  },
  {
   "cell_type": "markdown",
   "id": "abf37213",
   "metadata": {},
   "source": [
    "## Main Script\n",
    "---\n"
   ]
  },
  {
   "cell_type": "code",
   "execution_count": 8,
   "id": "41516c29",
   "metadata": {},
   "outputs": [
    {
     "name": "stdout",
     "output_type": "stream",
     "text": [
      "Found 2406 unique submitter_ids in the case TSV.\n",
      "\n",
      "dx_series_file\n",
      "'dx_series_file' TSV has all NA values for these properties: ['contrast_bolus_agent']\n",
      "\n",
      "imaging_study\n",
      "'cases.submitter_id' link header not found in 'imaging_study' TSV.\n",
      "'study_location' property in dictionary is not in the 'imaging_study' TSV.\n",
      "\n",
      "ct_series_file\n",
      "'ct_series_file' TSV has all NA values for these properties: ['acquisition_type']\n",
      "\n",
      "visit\n",
      "'cases.submitter_id' link header not found in 'visit' TSV.\n",
      "\n",
      "measurement\n",
      "'conditions.submitter_id' link header not found in 'measurement' TSV.\n",
      "'procedures.submitter_id' link header not found in 'measurement' TSV.\n",
      "'cases.submitter_id' link header not found in 'measurement' TSV.\n",
      "\n",
      "cr_series_file\n",
      "'cr_series_file' TSV has all NA values for these properties: ['contrast_bolus_agent', 'spatial_resolution']\n",
      "\n",
      "case\n",
      "'datasets.submitter_id' link header not found in 'case' TSV.\n",
      "'case' TSV has all NA values for these properties: ['ventilator_indicator']\n",
      "'treatment_info' property in dictionary is not in the 'case' TSV.\n"
     ]
    }
   ],
   "source": [
    "# Main script\n",
    "\n",
    "# for active development, re-import and re-initialize the Gen3Expansion class; \n",
    "# comment out next two lines if you're not developing\n",
    "%run /Users/christopher/Documents/GitHub/cgmeyer/gen3sdk-python/expansion/expansion.py\n",
    "sexp = Gen3Expansion(sapi,sauth,ssub)\n",
    "\n",
    "# set some vars\n",
    "report = {}\n",
    "dd = ssub.get_dictionary_all() # Get the data dictionary from staging\n",
    "\n",
    "exclude_props = [ # submitters don't provide these properties, so remove them from QC check\n",
    "    # case props not provided by submitters\n",
    "    \"datasets.submitter_id\",\n",
    "    \"token_record_id\",\n",
    "    \"linked_external_data\",\n",
    "    #series_file props not provided by submitters    \n",
    "    \"file_name\",\n",
    "    \"md5sum\",\n",
    "    \"file_size\",\n",
    "    \"object_id\",\n",
    "    \"storage_urls\",\n",
    "    \"core_metadata_collections.submitter_id\",\n",
    "    \"core_metadata_collections\",\n",
    "    \"associated_ids\",\n",
    "    #imaging_study props not provided by submitters\n",
    "    \"loinc_code\",\n",
    "    \"loinc_system\",\n",
    "    \"loinc_contrast\",\n",
    "    \"loinc_long_common_name\",\n",
    "    \"loinc_method\",\n",
    "    \"days_from_study_to_neg_covid_test\",\n",
    "    \"days_from_study_to_pos_covid_test\"\n",
    "]\n",
    "\n",
    "\n",
    "# get list of unique case_ids (case.submitter_id) from case TSV\n",
    "df = pd.read_csv(batch_tsvs[\"node_tsvs\"][\"case\"],sep='\\t',header=0,dtype=str)\n",
    "cids = list(set(df.submitter_id))\n",
    "print(\"Found {} unique submitter_ids in the case TSV.\".format(len(cids)))\n",
    "\n",
    "\n",
    "# QC submission TSVs\n",
    "for node in list(batch_tsvs[\"node_tsvs\"]):\n",
    "    \n",
    "    # read in the node TSV\n",
    "    print(\"\\n{}\".format(node))\n",
    "    report[node] = []\n",
    "    df = pd.read_csv(batch_tsvs[\"node_tsvs\"][node],sep='\\t',dtype=str)\n",
    "\n",
    "    # check case IDs\n",
    "    errors = sexp.check_case_ids(df,node,cids)\n",
    "    report[node]+=errors\n",
    "\n",
    "    # check that the 'type' column (node ID) is present and correct\n",
    "    errors = sexp.check_type_field(df,node)\n",
    "    report[node]+=errors\n",
    "\n",
    "    # check for submitter_id column completeness and uniqueness\n",
    "    errors = sexp.check_submitter_id(df,node)\n",
    "    report[node]+=errors\n",
    "    \n",
    "    # check for presence and completeness of link columns\n",
    "    errors = sexp.check_links(df,node,dd)\n",
    "    report[node]+=errors\n",
    "\n",
    "    # check for special characters in the TSV\n",
    "    errors = sexp.check_special_chars(node,batch_tsvs)\n",
    "    report[node]+=errors\n",
    "    \n",
    "    # check for required property completeness\n",
    "    errors = sexp.check_required_props(df,node,dd,exclude_props)\n",
    "    report[node]+=errors\n",
    "    \n",
    "    # check for missing data in non-requred properties; check if TSV has columns with all null values\n",
    "    errors = sexp.check_completeness(df,node)\n",
    "    report[node]+=errors\n",
    "    \n",
    "    # Check for correct property value types; i.e., number properties are numbers, strings are strings, etc.\n",
    "    errors = sexp.check_prop_types(df,node,dd,exclude_props)\n",
    "    report[node]+=errors\n",
    "\n",
    "    if len(report[node]) == 0:\n",
    "        msg = \"No errors for '{}' TSV\".format(node)\n",
    "        report[node] = msg\n",
    "\n",
    "# QC image manifest:\n",
    "idf = sexp.read_image_manifests(batch_tsvs[\"image_manifests\"])\n",
    "errors = sexp.check_image_manifest(idf,cids)\n",
    "if len(errors) > 0:\n",
    "    report[\"image_manifest\"] = errors\n"
   ]
  },
  {
   "cell_type": "code",
   "execution_count": 9,
   "id": "e647f4b6",
   "metadata": {},
   "outputs": [
    {
     "data": {
      "text/plain": [
       "{'dx_series_file': [\"'dx_series_file' TSV has all NA values for these properties: ['contrast_bolus_agent']\"],\n",
       " 'imaging_study': [\"'cases.submitter_id' link header not found in 'imaging_study' TSV.\",\n",
       "  \"'study_location' property in dictionary is not in the 'imaging_study' TSV.\"],\n",
       " 'ct_series_file': [\"'ct_series_file' TSV has all NA values for these properties: ['acquisition_type']\"],\n",
       " 'visit': [\"'cases.submitter_id' link header not found in 'visit' TSV.\"],\n",
       " 'measurement': [\"'conditions.submitter_id' link header not found in 'measurement' TSV.\",\n",
       "  \"'procedures.submitter_id' link header not found in 'measurement' TSV.\",\n",
       "  \"'cases.submitter_id' link header not found in 'measurement' TSV.\"],\n",
       " 'cr_series_file': [\"'cr_series_file' TSV has all NA values for these properties: ['contrast_bolus_agent', 'spatial_resolution']\"],\n",
       " 'case': [\"'datasets.submitter_id' link header not found in 'case' TSV.\",\n",
       "  \"'case' TSV has all NA values for these properties: ['ventilator_indicator']\",\n",
       "  \"'treatment_info' property in dictionary is not in the 'case' TSV.\"]}"
      ]
     },
     "metadata": {},
     "output_type": "display_data"
    }
   ],
   "source": [
    "#display(errors)\n",
    "display(report)"
   ]
  },
  {
   "cell_type": "code",
   "execution_count": 10,
   "id": "54e0ecd8",
   "metadata": {},
   "outputs": [
    {
     "name": "stdout",
     "output_type": "stream",
     "text": [
      "dx_series_file.contrast_bolus_agent\n",
      "dx_series_file.detector_type\n",
      "\t'dx_series_file.detector_type'                                                                                                                                                                         dx_series_file.image_type\n",
      "\t'dx_series_file.image_type'                                                                                                                                                                            dx_series_file.imager_pixel_spacing\n",
      "\t'dx_series_file.imager_pixel_spacing'                                                                                                                                                                  dx_series_file.lossy_image_compression\n",
      "\t'dx_series_file.lossy_image_compression'                                                                                                                                                               dx_series_file.manufacturer\n",
      "\t'dx_series_file.manufacturer'                                                                                                                                                                          dx_series_file.manufacturer_model_name\n",
      "\t'dx_series_file.manufacturer_model_name'                                                                                                                                                               dx_series_file.modality\n",
      "\t'dx_series_file.modality'                                                                                                                                                                              dx_series_file.pixel_spacing\n",
      "\t'dx_series_file.pixel_spacing'                                                                                                                                                                         dx_series_file.series_description\n",
      "\t'dx_series_file.series_description'                                                                                                                                                                    dx_series_file.spatial_resolution\n",
      "\t'dx_series_file.spatial_resolution'                                                                                                                                                                    dx_series_file.view_position\n",
      "\t'dx_series_file.view_position'                                                                                                                                                                         dx_series_file.data_type\n",
      "\t'dx_series_file.data_type'                                                                                                                                                                             dx_series_file.data_format\n",
      "\t'dx_series_file.data_format'                                                                                                                                                                           dx_series_file.data_category\n",
      "\t'dx_series_file.data_category'                                                                                                                                                                         imaging_study.cases\n",
      "\t'imaging_study.cases'                                                                                                                                                                                  imaging_study.body_part_examined\n",
      "\t'imaging_study.body_part_examined'                                                                                                                                                                     imaging_study.study_modality\n",
      "\t'imaging_study.study_modality'                                                                                                                                                                         imaging_study.study_description\n",
      "\t'imaging_study.study_description'                                                                                                                                                                      imaging_study.study_year_shifted\n",
      "\t'imaging_study.study_year_shifted'                                                                                                                                                                     imaging_study.age_at_imaging\n",
      "\t'imaging_study.age_at_imaging'                                                                                                                                                                         imaging_study.days_to_study\n",
      "\t'imaging_study.days_to_study'                                                                                                                                                                          imaging_study.study_year\n",
      "\t'imaging_study.study_year'                                                                                                                                                                             imaging_study.age_at_imaging_gt89\n",
      "\t'imaging_study.age_at_imaging_gt89'                                                                                                                                                                    ct_series_file.acquisition_type\n",
      "ct_series_file.contrast_bolus_agent\n",
      "\t'ct_series_file.contrast_bolus_agent'                                                                                                                                                                  ct_series_file.convolution_kernel\n",
      "\t'ct_series_file.convolution_kernel'                                                                                                                                                                    ct_series_file.exposure_modulation_type\n",
      "\t'ct_series_file.exposure_modulation_type'                                                                                                                                                              ct_series_file.image_type\n",
      "\t'ct_series_file.image_type'                                                                                                                                                                            ct_series_file.lossy_image_compression\n",
      "\t'ct_series_file.lossy_image_compression'                                                                                                                                                               ct_series_file.manufacturer\n",
      "\t'ct_series_file.manufacturer'                                                                                                                                                                          ct_series_file.manufacturer_model_name\n",
      "\t'ct_series_file.manufacturer_model_name'                                                                                                                                                               ct_series_file.modality\n",
      "\t'ct_series_file.modality'                                                                                                                                                                              ct_series_file.patient_position\n",
      "\t'ct_series_file.patient_position'                                                                                                                                                                      ct_series_file.pixel_spacing\n",
      "\t'ct_series_file.pixel_spacing'                                                                                                                                                                         ct_series_file.series_description\n",
      "\t'ct_series_file.series_description'                                                                                                                                                                    ct_series_file.slice_thickness\n",
      "\t'ct_series_file.slice_thickness'                                                                                                                                                                       ct_series_file.spacing_between_slices\n",
      "\t'ct_series_file.spacing_between_slices'                                                                                                                                                                ct_series_file.data_type\n",
      "\t'ct_series_file.data_type'                                                                                                                                                                             ct_series_file.data_format\n",
      "\t'ct_series_file.data_format'                                                                                                                                                                           ct_series_file.data_category\n",
      "\t'ct_series_file.data_category'                                                                                                                                                                         visit.cases\n",
      "\t'visit.cases'                                                                                                                                                                                          visit.days_to_hospital_admission\n",
      "\t'visit.days_to_hospital_admission'                                                                                                                                                                     visit.days_to_hospital_discharge\n",
      "\t'visit.days_to_hospital_discharge'                                                                                                                                                                     visit.discharge_type\n",
      "\t'visit.discharge_type'                                                                                                                                                                                 visit.days_to_icu_admission\n",
      "\t'visit.days_to_icu_admission'                                                                                                                                                                          visit.days_to_icu_discharge\n",
      "\t'visit.days_to_icu_discharge'                                                                                                                                                                          measurement.cases\n",
      "\t'measurement.cases'                                                                                                                                                                                    measurement.test_days_from_index\n",
      "\t'measurement.test_days_from_index'                                                                                                                                                                     measurement.test_method\n",
      "\t'measurement.test_method'                                                                                                                                                                              measurement.test_result_text\n"
     ]
    },
    {
     "name": "stdout",
     "output_type": "stream",
     "text": [
      "\t'measurement.test_result_text'                                                                                                                                                                         measurement.test_name\n",
      "\t'measurement.test_name'                                                                                                                                                                                cr_series_file.contrast_bolus_agent\n",
      "cr_series_file.detector_type\n",
      "\t'cr_series_file.detector_type'                                                                                                                                                                         cr_series_file.image_type\n",
      "\t'cr_series_file.image_type'                                                                                                                                                                            cr_series_file.imager_pixel_spacing\n",
      "\t'cr_series_file.imager_pixel_spacing'                                                                                                                                                                  cr_series_file.lossy_image_compression\n",
      "\t'cr_series_file.lossy_image_compression'                                                                                                                                                               cr_series_file.manufacturer\n",
      "\t'cr_series_file.manufacturer'                                                                                                                                                                          cr_series_file.manufacturer_model_name\n",
      "\t'cr_series_file.manufacturer_model_name'                                                                                                                                                               cr_series_file.modality\n",
      "\t'cr_series_file.modality'                                                                                                                                                                              cr_series_file.pixel_spacing\n",
      "\t'cr_series_file.pixel_spacing'                                                                                                                                                                         cr_series_file.series_description\n",
      "\t'cr_series_file.series_description'                                                                                                                                                                    cr_series_file.spatial_resolution\n",
      "cr_series_file.view_position\n",
      "\t'cr_series_file.view_position'                                                                                                                                                                         cr_series_file.data_type\n",
      "\t'cr_series_file.data_type'                                                                                                                                                                             cr_series_file.data_format\n",
      "\t'cr_series_file.data_format'                                                                                                                                                                           cr_series_file.data_category\n",
      "\t'cr_series_file.data_category'                                                                                                                                                                         case.site_id\n",
      "\t'case.site_id'                                                                                                                                                                                         case.ethnicity\n",
      "\t'case.ethnicity'                                                                                                                                                                                       case.race\n",
      "\t'case.race'                                                                                                                                                                                            case.sex\n",
      "\t'case.sex'                                                                                                                                                                                             case.zip\n",
      "\t'case.zip'                                                                                                                                                                                             case.gen3_linked_subjects_available\n",
      "\t'case.gen3_linked_subjects_available'                                                                                                                                                                  case.index_event\n",
      "\t'case.index_event'                                                                                                                                                                                     case.covid19_positive\n",
      "\t'case.covid19_positive'                                                                                                                                                                                case.icu_indicator\n",
      "\t'case.icu_indicator'                                                                                                                                                                                   case.ventilator_indicator\n",
      "case.country_of_residence\n",
      "\t'case.country_of_residence'                                                                                                                                                                            case.age_at_index\n",
      "\t'case.age_at_index'                                                                                                                                                                                    case.age_at_index_gt89\n",
      "Report written to file:                                                                                                                                                                                 \n",
      "\t./data_summary_RSNA_20230303.tsv\n"
     ]
    }
   ],
   "source": [
    "## Check completeness of submission and generate report TSV\n",
    "s = sexp.summarize_new_batch(batch_tsvs=batch_tsvs,dd=dd,bin_limit=10)\n"
   ]
  },
  {
   "cell_type": "code",
   "execution_count": 11,
   "id": "1198868c",
   "metadata": {},
   "outputs": [
    {
     "data": {
      "text/plain": [
       "['report', 'nn_props', 'null_props', 'nn_nodes', 'null_nodes']"
      ]
     },
     "execution_count": 11,
     "metadata": {},
     "output_type": "execute_result"
    }
   ],
   "source": [
    "list(s)"
   ]
  },
  {
   "cell_type": "code",
   "execution_count": 12,
   "id": "47fdef2e",
   "metadata": {},
   "outputs": [
    {
     "data": {
      "text/html": [
       "<div>\n",
       "<style scoped>\n",
       "    .dataframe tbody tr th:only-of-type {\n",
       "        vertical-align: middle;\n",
       "    }\n",
       "\n",
       "    .dataframe tbody tr th {\n",
       "        vertical-align: top;\n",
       "    }\n",
       "\n",
       "    .dataframe thead th {\n",
       "        text-align: right;\n",
       "    }\n",
       "</style>\n",
       "<table border=\"1\" class=\"dataframe\">\n",
       "  <thead>\n",
       "    <tr style=\"text-align: right;\">\n",
       "      <th></th>\n",
       "      <th>node</th>\n",
       "      <th>property</th>\n",
       "      <th>type</th>\n",
       "      <th>N</th>\n",
       "      <th>nn</th>\n",
       "      <th>null</th>\n",
       "      <th>perc_null</th>\n",
       "      <th>all_null</th>\n",
       "      <th>min</th>\n",
       "      <th>max</th>\n",
       "      <th>median</th>\n",
       "      <th>mean</th>\n",
       "      <th>stdev</th>\n",
       "      <th>outliers</th>\n",
       "      <th>bin_number</th>\n",
       "      <th>bins</th>\n",
       "    </tr>\n",
       "  </thead>\n",
       "  <tbody>\n",
       "    <tr>\n",
       "      <th>0</th>\n",
       "      <td>case</td>\n",
       "      <td>age_at_index</td>\n",
       "      <td>number</td>\n",
       "      <td>2406</td>\n",
       "      <td>2356</td>\n",
       "      <td>50</td>\n",
       "      <td>0.020781</td>\n",
       "      <td>False</td>\n",
       "      <td>0.0</td>\n",
       "      <td>89.0</td>\n",
       "      <td>59.0</td>\n",
       "      <td>53.679117</td>\n",
       "      <td>21.660078</td>\n",
       "      <td>[]</td>\n",
       "      <td>NaN</td>\n",
       "      <td>NaN</td>\n",
       "    </tr>\n",
       "    <tr>\n",
       "      <th>0</th>\n",
       "      <td>case</td>\n",
       "      <td>age_at_index_gt89</td>\n",
       "      <td>enum</td>\n",
       "      <td>2406</td>\n",
       "      <td>2406</td>\n",
       "      <td>0</td>\n",
       "      <td>0.000000</td>\n",
       "      <td>False</td>\n",
       "      <td>NaN</td>\n",
       "      <td>NaN</td>\n",
       "      <td>NaN</td>\n",
       "      <td>NaN</td>\n",
       "      <td>NaN</td>\n",
       "      <td>NaN</td>\n",
       "      <td>2.0</td>\n",
       "      <td>[(No, 2356), (Yes, 50)]</td>\n",
       "    </tr>\n",
       "    <tr>\n",
       "      <th>0</th>\n",
       "      <td>case</td>\n",
       "      <td>country_of_residence</td>\n",
       "      <td>string</td>\n",
       "      <td>2406</td>\n",
       "      <td>2406</td>\n",
       "      <td>0</td>\n",
       "      <td>0.000000</td>\n",
       "      <td>False</td>\n",
       "      <td>NaN</td>\n",
       "      <td>NaN</td>\n",
       "      <td>NaN</td>\n",
       "      <td>NaN</td>\n",
       "      <td>NaN</td>\n",
       "      <td>NaN</td>\n",
       "      <td>1.0</td>\n",
       "      <td>[(US, 2406)]</td>\n",
       "    </tr>\n",
       "    <tr>\n",
       "      <th>0</th>\n",
       "      <td>case</td>\n",
       "      <td>covid19_positive</td>\n",
       "      <td>enum</td>\n",
       "      <td>2406</td>\n",
       "      <td>2406</td>\n",
       "      <td>0</td>\n",
       "      <td>0.000000</td>\n",
       "      <td>False</td>\n",
       "      <td>NaN</td>\n",
       "      <td>NaN</td>\n",
       "      <td>NaN</td>\n",
       "      <td>NaN</td>\n",
       "      <td>NaN</td>\n",
       "      <td>NaN</td>\n",
       "      <td>2.0</td>\n",
       "      <td>[(No, 1862), (Yes, 544)]</td>\n",
       "    </tr>\n",
       "    <tr>\n",
       "      <th>0</th>\n",
       "      <td>case</td>\n",
       "      <td>ethnicity</td>\n",
       "      <td>enum</td>\n",
       "      <td>2406</td>\n",
       "      <td>2406</td>\n",
       "      <td>0</td>\n",
       "      <td>0.000000</td>\n",
       "      <td>False</td>\n",
       "      <td>NaN</td>\n",
       "      <td>NaN</td>\n",
       "      <td>NaN</td>\n",
       "      <td>NaN</td>\n",
       "      <td>NaN</td>\n",
       "      <td>NaN</td>\n",
       "      <td>3.0</td>\n",
       "      <td>[(Not Hispanic or Latino, 2257), (Not Reported...</td>\n",
       "    </tr>\n",
       "    <tr>\n",
       "      <th>...</th>\n",
       "      <td>...</td>\n",
       "      <td>...</td>\n",
       "      <td>...</td>\n",
       "      <td>...</td>\n",
       "      <td>...</td>\n",
       "      <td>...</td>\n",
       "      <td>...</td>\n",
       "      <td>...</td>\n",
       "      <td>...</td>\n",
       "      <td>...</td>\n",
       "      <td>...</td>\n",
       "      <td>...</td>\n",
       "      <td>...</td>\n",
       "      <td>...</td>\n",
       "      <td>...</td>\n",
       "      <td>...</td>\n",
       "    </tr>\n",
       "    <tr>\n",
       "      <th>0</th>\n",
       "      <td>case</td>\n",
       "      <td>ventilator_indicator</td>\n",
       "      <td>boolean</td>\n",
       "      <td>2406</td>\n",
       "      <td>0</td>\n",
       "      <td>2406</td>\n",
       "      <td>1.000000</td>\n",
       "      <td>True</td>\n",
       "      <td>NaN</td>\n",
       "      <td>NaN</td>\n",
       "      <td>NaN</td>\n",
       "      <td>NaN</td>\n",
       "      <td>NaN</td>\n",
       "      <td>NaN</td>\n",
       "      <td>NaN</td>\n",
       "      <td>NaN</td>\n",
       "    </tr>\n",
       "    <tr>\n",
       "      <th>0</th>\n",
       "      <td>cr_series_file</td>\n",
       "      <td>contrast_bolus_agent</td>\n",
       "      <td>array</td>\n",
       "      <td>2798</td>\n",
       "      <td>0</td>\n",
       "      <td>2798</td>\n",
       "      <td>1.000000</td>\n",
       "      <td>True</td>\n",
       "      <td>NaN</td>\n",
       "      <td>NaN</td>\n",
       "      <td>NaN</td>\n",
       "      <td>NaN</td>\n",
       "      <td>NaN</td>\n",
       "      <td>NaN</td>\n",
       "      <td>NaN</td>\n",
       "      <td>NaN</td>\n",
       "    </tr>\n",
       "    <tr>\n",
       "      <th>0</th>\n",
       "      <td>cr_series_file</td>\n",
       "      <td>spatial_resolution</td>\n",
       "      <td>number</td>\n",
       "      <td>2798</td>\n",
       "      <td>0</td>\n",
       "      <td>2798</td>\n",
       "      <td>1.000000</td>\n",
       "      <td>True</td>\n",
       "      <td>NaN</td>\n",
       "      <td>NaN</td>\n",
       "      <td>NaN</td>\n",
       "      <td>NaN</td>\n",
       "      <td>NaN</td>\n",
       "      <td>NaN</td>\n",
       "      <td>NaN</td>\n",
       "      <td>NaN</td>\n",
       "    </tr>\n",
       "    <tr>\n",
       "      <th>0</th>\n",
       "      <td>ct_series_file</td>\n",
       "      <td>acquisition_type</td>\n",
       "      <td>enum</td>\n",
       "      <td>4102</td>\n",
       "      <td>0</td>\n",
       "      <td>4102</td>\n",
       "      <td>1.000000</td>\n",
       "      <td>True</td>\n",
       "      <td>NaN</td>\n",
       "      <td>NaN</td>\n",
       "      <td>NaN</td>\n",
       "      <td>NaN</td>\n",
       "      <td>NaN</td>\n",
       "      <td>NaN</td>\n",
       "      <td>NaN</td>\n",
       "      <td>NaN</td>\n",
       "    </tr>\n",
       "    <tr>\n",
       "      <th>0</th>\n",
       "      <td>dx_series_file</td>\n",
       "      <td>contrast_bolus_agent</td>\n",
       "      <td>array</td>\n",
       "      <td>5428</td>\n",
       "      <td>0</td>\n",
       "      <td>5428</td>\n",
       "      <td>1.000000</td>\n",
       "      <td>True</td>\n",
       "      <td>NaN</td>\n",
       "      <td>NaN</td>\n",
       "      <td>NaN</td>\n",
       "      <td>NaN</td>\n",
       "      <td>NaN</td>\n",
       "      <td>NaN</td>\n",
       "      <td>NaN</td>\n",
       "      <td>NaN</td>\n",
       "    </tr>\n",
       "  </tbody>\n",
       "</table>\n",
       "<p>80 rows × 16 columns</p>\n",
       "</div>"
      ],
      "text/plain": [
       "              node              property     type     N    nn  null  \\\n",
       "0             case          age_at_index   number  2406  2356    50   \n",
       "0             case     age_at_index_gt89     enum  2406  2406     0   \n",
       "0             case  country_of_residence   string  2406  2406     0   \n",
       "0             case      covid19_positive     enum  2406  2406     0   \n",
       "0             case             ethnicity     enum  2406  2406     0   \n",
       "..             ...                   ...      ...   ...   ...   ...   \n",
       "0             case  ventilator_indicator  boolean  2406     0  2406   \n",
       "0   cr_series_file  contrast_bolus_agent    array  2798     0  2798   \n",
       "0   cr_series_file    spatial_resolution   number  2798     0  2798   \n",
       "0   ct_series_file      acquisition_type     enum  4102     0  4102   \n",
       "0   dx_series_file  contrast_bolus_agent    array  5428     0  5428   \n",
       "\n",
       "    perc_null  all_null  min   max  median       mean      stdev outliers  \\\n",
       "0    0.020781     False  0.0  89.0    59.0  53.679117  21.660078       []   \n",
       "0    0.000000     False  NaN   NaN     NaN        NaN        NaN      NaN   \n",
       "0    0.000000     False  NaN   NaN     NaN        NaN        NaN      NaN   \n",
       "0    0.000000     False  NaN   NaN     NaN        NaN        NaN      NaN   \n",
       "0    0.000000     False  NaN   NaN     NaN        NaN        NaN      NaN   \n",
       "..        ...       ...  ...   ...     ...        ...        ...      ...   \n",
       "0    1.000000      True  NaN   NaN     NaN        NaN        NaN      NaN   \n",
       "0    1.000000      True  NaN   NaN     NaN        NaN        NaN      NaN   \n",
       "0    1.000000      True  NaN   NaN     NaN        NaN        NaN      NaN   \n",
       "0    1.000000      True  NaN   NaN     NaN        NaN        NaN      NaN   \n",
       "0    1.000000      True  NaN   NaN     NaN        NaN        NaN      NaN   \n",
       "\n",
       "    bin_number                                               bins  \n",
       "0          NaN                                                NaN  \n",
       "0          2.0                            [(No, 2356), (Yes, 50)]  \n",
       "0          1.0                                       [(US, 2406)]  \n",
       "0          2.0                           [(No, 1862), (Yes, 544)]  \n",
       "0          3.0  [(Not Hispanic or Latino, 2257), (Not Reported...  \n",
       "..         ...                                                ...  \n",
       "0          NaN                                                NaN  \n",
       "0          NaN                                                NaN  \n",
       "0          NaN                                                NaN  \n",
       "0          NaN                                                NaN  \n",
       "0          NaN                                                NaN  \n",
       "\n",
       "[80 rows x 16 columns]"
      ]
     },
     "metadata": {},
     "output_type": "display_data"
    },
    {
     "name": "stdout",
     "output_type": "stream",
     "text": [
      "\n",
      "Null properties:\n"
     ]
    },
    {
     "data": {
      "text/plain": [
       "['case.ventilator_indicator',\n",
       " 'cr_series_file.contrast_bolus_agent',\n",
       " 'cr_series_file.spatial_resolution',\n",
       " 'ct_series_file.acquisition_type',\n",
       " 'dx_series_file.contrast_bolus_agent']"
      ]
     },
     "metadata": {},
     "output_type": "display_data"
    },
    {
     "name": "stdout",
     "output_type": "stream",
     "text": [
      "\n",
      "Null Nodes:\n"
     ]
    },
    {
     "data": {
      "text/plain": [
       "['condition',\n",
       " 'core_metadata_collection',\n",
       " 'dataset',\n",
       " 'medication',\n",
       " 'mg_series_file',\n",
       " 'mr_series_file',\n",
       " 'nm_series_file',\n",
       " 'observation',\n",
       " 'procedure',\n",
       " 'pt_series_file',\n",
       " 'rf_series_file',\n",
       " 'supplementary_file',\n",
       " 'us_series_file',\n",
       " 'xa_series_file']"
      ]
     },
     "metadata": {},
     "output_type": "display_data"
    }
   ],
   "source": [
    "display(s['report'])\n",
    "\n",
    "print(\"\\nNull properties:\")\n",
    "display(s['null_props'])\n",
    "print(\"\\nNull Nodes:\")\n",
    "display(s['null_nodes'])"
   ]
  },
  {
   "cell_type": "code",
   "execution_count": null,
   "id": "bbbdedaf",
   "metadata": {},
   "outputs": [],
   "source": [
    "## Dry submit; probably not necessary, but interesting to know this is an option\n",
    "for node in nodes:\n",
    "    print(node)\n",
    "    check_dry_submit(node)\n"
   ]
  },
  {
   "cell_type": "code",
   "execution_count": null,
   "id": "55ec28ce",
   "metadata": {},
   "outputs": [],
   "source": []
  }
 ],
 "metadata": {
  "kernelspec": {
   "display_name": "Python 3 (ipykernel)",
   "language": "python",
   "name": "python3"
  },
  "language_info": {
   "codemirror_mode": {
    "name": "ipython",
    "version": 3
   },
   "file_extension": ".py",
   "mimetype": "text/x-python",
   "name": "python",
   "nbconvert_exporter": "python",
   "pygments_lexer": "ipython3",
   "version": "3.9.6"
  }
 },
 "nbformat": 4,
 "nbformat_minor": 5
}
