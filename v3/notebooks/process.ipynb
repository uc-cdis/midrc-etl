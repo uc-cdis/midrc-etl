{
 "cells": [
  {
   "cell_type": "code",
   "execution_count": null,
   "metadata": {},
   "outputs": [],
   "source": [
    "from pathlib import Path\n",
    "\n",
    "import pandas as pd"
   ]
  },
  {
   "cell_type": "code",
   "execution_count": null,
   "metadata": {},
   "outputs": [],
   "source": [
    "seq_status = pd.read_csv(\"/Users/andrewprokhorenkov/CTDS/projects/midrc/data/sequestration/master_sequestration_locations_54536_2022-10-24.tsv\", sep=\"\\t\")\n",
    "open_cases = seq_status[seq_status[\"dataset\"] == \"Open\"][\"case_ids\"]\n",
    "\n",
    "dicom_studies = pd.read_csv(\"/Users/andrewprokhorenkov/CTDS/projects/midrc/data/dicom/studies.txt\", header=None)"
   ]
  },
  {
   "cell_type": "code",
   "execution_count": null,
   "metadata": {},
   "outputs": [],
   "source": [
    "manifests = list(Path(\".\").glob(\"*.tsv\"))"
   ]
  },
  {
   "cell_type": "code",
   "execution_count": null,
   "metadata": {},
   "outputs": [],
   "source": [
    "manifest_dfs = {f.stem: pd.read_csv(f, sep=\"\\t\") for f in manifests}"
   ]
  },
  {
   "cell_type": "code",
   "execution_count": null,
   "metadata": {},
   "outputs": [],
   "source": [
    "manifest_dfs.keys()"
   ]
  },
  {
   "cell_type": "code",
   "execution_count": null,
   "metadata": {},
   "outputs": [],
   "source": [
    "for k, v in manifest_dfs.items():\n",
    "    print(k)\n",
    "    df = v\n",
    "    if k in [\"midrc-ricord-2021-09-02\", \"midrc-ricord-2021-09-22\"]:\n",
    "        manifest = df\n",
    "    else:\n",
    "        manifest = df.loc[(df[\"case_id\"].isin(open_cases))]\n",
    "    # manifest = df\n",
    "\n",
    "    print(manifest.shape)\n",
    "\n",
    "    dicom_missing = manifest[~manifest[\"study_id\"].isin(dicom_studies[0])]\n",
    "    print(dicom_missing.shape)"
   ]
  },
  {
   "cell_type": "code",
   "execution_count": null,
   "metadata": {},
   "outputs": [],
   "source": [
    "manifest_df = pd.concat(manifest_dfs.values(), ignore_index=True)"
   ]
  },
  {
   "cell_type": "code",
   "execution_count": null,
   "metadata": {},
   "outputs": [],
   "source": [
    "manifest = manifest_df.loc[(manifest_df[\"case_id\"].isin(open_cases)) & \\\n",
    "    (~manifest_df[\"study_id\"].isin(dicom_studies[0]))]"
   ]
  },
  {
   "cell_type": "code",
   "execution_count": null,
   "metadata": {},
   "outputs": [],
   "source": [
    "manifest"
   ]
  },
  {
   "cell_type": "code",
   "execution_count": null,
   "metadata": {},
   "outputs": [],
   "source": [
    "manifest.to_csv(\"manifest.tsv\", sep='\\t', index=False)"
   ]
  },
  {
   "cell_type": "code",
   "execution_count": null,
   "metadata": {},
   "outputs": [],
   "source": [
    "manifest = pd.read_csv(\"./manifest.tsv\", sep=\"\\t\")\n",
    "manifest[\"storage_urls\"].str.replace(\"s3://storage.ir.rsna.ai/\", \"\").to_csv(\"dicom_rsna.lst\", index=False, header=None)"
   ]
  }
 ],
 "metadata": {
  "kernelspec": {
   "display_name": "Python 3.9.15 64-bit ('midrc-etl')",
   "language": "python",
   "name": "python3"
  },
  "language_info": {
   "codemirror_mode": {
    "name": "ipython",
    "version": 3
   },
   "file_extension": ".py",
   "mimetype": "text/x-python",
   "name": "python",
   "nbconvert_exporter": "python",
   "pygments_lexer": "ipython3",
   "version": "3.9.15"
  },
  "orig_nbformat": 4,
  "vscode": {
   "interpreter": {
    "hash": "77b5126f446d2ffa2ac8d6894a56a1f0df0ffa183e79f581bda8247e3808117a"
   }
  }
 },
 "nbformat": 4,
 "nbformat_minor": 2
}
