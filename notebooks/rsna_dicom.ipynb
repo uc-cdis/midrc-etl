{
 "cells": [
  {
   "cell_type": "code",
   "execution_count": 6,
   "metadata": {},
   "outputs": [],
   "source": [
    "import json\n",
    "\n",
    "import pandas as pd\n",
    "rsna_files = [\n",
    "    \"/Users/andrewprokhorenkov/Downloads/output_packages_open_RSNA_20220228.tsv\",\n",
    "    \"/Users/andrewprokhorenkov/Downloads/output_packages_open_RSNA_20220308.tsv\",\n",
    "    \"/Users/andrewprokhorenkov/Downloads/output_packages_open_RSNA_20220314.tsv\",\n",
    "    \"/Users/andrewprokhorenkov/Downloads/output_packages_open_RSNA_20220329.tsv\",\n",
    "]\n",
    "rsna = map(lambda f: pd.read_csv(f, sep=\"\\t\"), rsna_files)\n",
    "rsna = pd.concat(rsna)\n",
    "rsna_md5 = rsna[\"package_contents\"].apply(json.loads).explode().apply(lambda x: x[\"hashes\"][\"md5sum\"]).to_list()\n",
    "rsna_submissions = [\"RSNA_20220228\", \"RSNA_20220308\", \"RSNA_20220314\", \"RSNA_20220329\"]\n",
    "\n",
    "rsna_manifests_files = [\n",
    "    f\"/Users/andrewprokhorenkov/CTDS/projects/midrc/ssot-s3/replicated-data-rsna/{v}/imaging_data_manifest_{v}.tsv\" for v in rsna_submissions\n",
    "]\n",
    "rsna_manifests = map(lambda f: pd.read_csv(f, sep=\"\\t\"), rsna_manifests_files)\n",
    "rsna_manifests = pd.concat(rsna_manifests)\n",
    "for v in rsna_submissions:\n",
    "    sub_file = f\"/Users/andrewprokhorenkov/CTDS/projects/midrc/ssot-s3/replicated-data-rsna/{v}/imaging_data_manifest_{v}.tsv\"\n",
    "\n",
    "    rsna_manifest = pd.read_csv(sub_file, sep=\"\\t\")\n",
    "\n",
    "    rsna_manifest.loc[rsna_manifest[\"md5sum\"].isin(rsna_md5), \"storage_urls\"].str.replace(\"s3://storage.ir.rsna.ai/\", \"\", regex=False) \\\n",
    "        .to_csv(f\"/Users/andrewprokhorenkov/Downloads/submit_{v}.lst\", header=False, index=False)"
   ]
  }
 ],
 "metadata": {
  "kernelspec": {
   "display_name": "Python 3.9.15 64-bit ('midrc-etl')",
   "language": "python",
   "name": "python3"
  },
  "language_info": {
   "codemirror_mode": {
    "name": "ipython",
    "version": 3
   },
   "file_extension": ".py",
   "mimetype": "text/x-python",
   "name": "python",
   "nbconvert_exporter": "python",
   "pygments_lexer": "ipython3",
   "version": "3.9.15"
  },
  "orig_nbformat": 4,
  "vscode": {
   "interpreter": {
    "hash": "77b5126f446d2ffa2ac8d6894a56a1f0df0ffa183e79f581bda8247e3808117a"
   }
  }
 },
 "nbformat": 4,
 "nbformat_minor": 2
}
