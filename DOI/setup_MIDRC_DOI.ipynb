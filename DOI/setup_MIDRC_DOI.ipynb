{
 "cells": [
  {
   "cell_type": "code",
   "execution_count": null,
   "id": "91760939",
   "metadata": {},
   "outputs": [],
   "source": [
    "git_dir='/Users/christopher/Documents/GitHub'\n",
    "sdk_dir='/cgmeyer/gen3sdk-python'\n",
    "sys.path.insert(1, '{}{}'.format(git_dir,sdk_dir))\n",
    "from expansion.expansion import Gen3Expansion\n",
    "%run /Users/christopher/Documents/GitHub/cgmeyer/gen3sdk-python/expansion/expansion.py\n"
   ]
  },
  {
   "cell_type": "code",
   "execution_count": null,
   "id": "6de689f6",
   "metadata": {},
   "outputs": [],
   "source": [
    "import pandas as pd\n",
    "import sys, os\n",
    "from requests.auth import HTTPBasicAuth\n",
    "\n",
    "## import Gen3 SDK\n",
    "import gen3\n",
    "from gen3.submission import Gen3Submission\n",
    "from gen3.auth import Gen3Auth\n",
    "from gen3.index import Gen3Index\n",
    "from gen3.query import Gen3Query\n",
    "from cdislogging import get_logger\n",
    "from gen3.doi import (\n",
    "  DataCite,\n",
    "  DigitalObjectIdentifier,\n",
    "  DigitalObjectIdentifierCreator,\n",
    "  DigitalObjectIdentifierTitle,\n",
    ")\n"
   ]
  }
 ],
 "metadata": {
  "kernelspec": {
   "display_name": "Python 3 (ipykernel)",
   "language": "python",
   "name": "python3"
  },
  "language_info": {
   "codemirror_mode": {
    "name": "ipython",
    "version": 3
   },
   "file_extension": ".py",
   "mimetype": "text/x-python",
   "name": "python",
   "nbconvert_exporter": "python",
   "pygments_lexer": "ipython3",
   "version": "3.9.12"
  }
 },
 "nbformat": 4,
 "nbformat_minor": 5
}
