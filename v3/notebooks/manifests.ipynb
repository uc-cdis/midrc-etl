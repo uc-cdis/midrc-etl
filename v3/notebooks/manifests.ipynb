{
 "cells": [
  {
   "cell_type": "code",
   "execution_count": null,
   "metadata": {},
   "outputs": [],
   "source": [
    "from pathlib import Path\n",
    "\n",
    "import pandas as pd"
   ]
  },
  {
   "cell_type": "code",
   "execution_count": null,
   "metadata": {},
   "outputs": [],
   "source": [
    "to_remove_studies = pd.read_csv(\"to_remove_study_ids.tsv\")\n",
    "to_remove_cases = pd.read_csv(\"to_remove_case_ids.tsv\")\n",
    "seq_status = pd.read_csv(\"/Users/andrewprokhorenkov/CTDS/projects/midrc/data/sequestration/master_sequestration_locations_54536_2022-10-24.tsv\", sep=\"\\t\")\n",
    "open_cases = seq_status[seq_status[\"dataset\"] == \"Open\"][\"case_ids\"]\n",
    "\n",
    "dicom_studies = pd.read_csv(\"/Users/andrewprokhorenkov/CTDS/projects/midrc/data/dicom/studies.txt\", header=None)"
   ]
  },
  {
   "cell_type": "code",
   "execution_count": null,
   "metadata": {},
   "outputs": [],
   "source": [
    "manifests = list(Path(\".\").glob(\"**/new_*.tsv\"))"
   ]
  },
  {
   "cell_type": "code",
   "execution_count": null,
   "metadata": {},
   "outputs": [],
   "source": [
    "manifest_dfs = {f.stem.replace(\"new_image_manifest_\", \"\"): pd.read_csv(f, sep=\"\\t\") for f in manifests}\n",
    "# manifest_df = pd.concat(manifest_dfs, ignore_index=True)"
   ]
  },
  {
   "cell_type": "code",
   "execution_count": null,
   "metadata": {},
   "outputs": [],
   "source": [
    "manifest_dfs.keys()"
   ]
  },
  {
   "cell_type": "code",
   "execution_count": null,
   "metadata": {},
   "outputs": [],
   "source": [
    "df = manifest_dfs[\"ACRPETAL_20211220\"]\n",
    "manifest = df.loc[(~df[\"study_uid\"].isin(to_remove_studies[\"study_uid\"])) & \\\n",
    "    (~df[\"case_ids\"].isin(to_remove_cases[\"case_id\"]))]# & \\\n",
    "    # (df[\"case_ids\"].isin(open_cases))]\n",
    "print(manifest.shape)\n",
    "\n",
    "manifest[~manifest[\"study_uid\"].isin(dicom_studies[0])].shape"
   ]
  },
  {
   "cell_type": "code",
   "execution_count": null,
   "metadata": {},
   "outputs": [],
   "source": [
    "for k, v in manifest_dfs.items():\n",
    "    print(k)\n",
    "    df = v\n",
    "    manifest = df.loc[(~df[\"study_uid\"].isin(to_remove_studies[\"study_uid\"])) & \\\n",
    "        (~df[\"case_ids\"].isin(to_remove_cases[\"case_id\"])) & \\\n",
    "        (df[\"case_ids\"].isin(open_cases))]\n",
    "    print(manifest.shape)\n",
    "\n",
    "    dicom_missing = manifest[~manifest[\"study_uid\"].isin(dicom_studies[0])]\n",
    "    print(dicom_missing.shape)"
   ]
  },
  {
   "cell_type": "code",
   "execution_count": null,
   "metadata": {},
   "outputs": [],
   "source": [
    "manifest_df = pd.concat(manifest_dfs.values(), ignore_index=True)"
   ]
  },
  {
   "cell_type": "code",
   "execution_count": null,
   "metadata": {},
   "outputs": [],
   "source": [
    "manifest = manifest_df.loc[(~manifest_df[\"study_uid\"].isin(to_remove_studies[\"study_uid\"])) & \\\n",
    "    (~manifest_df[\"case_ids\"].isin(to_remove_cases[\"case_id\"])) & \\\n",
    "    (manifest_df[\"case_ids\"].isin(open_cases)) & \\\n",
    "    (~manifest_df[\"study_uid\"].isin(dicom_studies[0]))]"
   ]
  },
  {
   "cell_type": "code",
   "execution_count": null,
   "metadata": {},
   "outputs": [],
   "source": [
    "manifest"
   ]
  },
  {
   "cell_type": "code",
   "execution_count": null,
   "metadata": {},
   "outputs": [],
   "source": [
    "manifest.to_csv(\"manifest.tsv\", sep='\\t', index=False)"
   ]
  },
  {
   "cell_type": "code",
   "execution_count": null,
   "metadata": {},
   "outputs": [],
   "source": [
    "# manifest = manifest_df[~manifest_df[\"study_uid\"].isin(to_remove_studies[\"study_uid\"])]\n",
    "# manifest = manifest[~manifest[\"case_ids\"].isin(to_remove_cases[\"case_id\"])]\n",
    "# manifest = manifest[manifest[\"case_ids\"].isin(open_cases)]"
   ]
  },
  {
   "cell_type": "code",
   "execution_count": null,
   "metadata": {},
   "outputs": [],
   "source": [
    "# manifest.to_csv(\"manifest.tsv\", sep='\\t', index=False)"
   ]
  },
  {
   "cell_type": "code",
   "execution_count": null,
   "metadata": {},
   "outputs": [],
   "source": [
    "# manifest[~manifest[\"study_uid\"].isin(dicom_studies[0])].to_csv(\"submit_dicom_acr.csv\", index=False)"
   ]
  }
 ],
 "metadata": {
  "kernelspec": {
   "display_name": "Python 3.9.15 64-bit ('midrc-etl')",
   "language": "python",
   "name": "python3"
  },
  "language_info": {
   "codemirror_mode": {
    "name": "ipython",
    "version": 3
   },
   "file_extension": ".py",
   "mimetype": "text/x-python",
   "name": "python",
   "nbconvert_exporter": "python",
   "pygments_lexer": "ipython3",
   "version": "3.9.15"
  },
  "orig_nbformat": 4,
  "vscode": {
   "interpreter": {
    "hash": "77b5126f446d2ffa2ac8d6894a56a1f0df0ffa183e79f581bda8247e3808117a"
   }
  }
 },
 "nbformat": 4,
 "nbformat_minor": 2
}
