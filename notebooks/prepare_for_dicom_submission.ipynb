{
 "cells": [
  {
   "cell_type": "code",
   "execution_count": 1,
   "metadata": {},
   "outputs": [],
   "source": [
    "from pathlib import Path\n",
    "\n",
    "import pandas as pd"
   ]
  },
  {
   "cell_type": "code",
   "execution_count": 2,
   "metadata": {},
   "outputs": [],
   "source": [
    "# read master sequestration file from ~/wd/master_sequestration_locations_72180_2023-04-25.tsv file\n",
    "master_sequestration_file = Path.home() / \"wd\" / \"master_sequestration_locations_72180_2023-04-25.tsv\"\n",
    "master_sequestration = pd.read_csv(master_sequestration_file, sep=\"\\t\")\n",
    "open_ids = master_sequestration.loc[master_sequestration[\"dataset\"] == \"Open\", \"case_ids\"]"
   ]
  },
  {
   "cell_type": "code",
   "execution_count": 3,
   "metadata": {},
   "outputs": [
    {
     "data": {
      "text/plain": [
       "[PosixPath('/home/ubuntu/dicom/manifests/image_manifest_ACR_20220606.tsv')]"
      ]
     },
     "metadata": {},
     "output_type": "display_data"
    }
   ],
   "source": [
    "# read all files from ~/dicom/files/ and create a dataframe for each file in a dictionary\n",
    "manifests_list = list(Path(\"~/dicom/manifests/\").expanduser().glob(\"**/*.tsv\"))\n",
    "# filter only ones that match this name \"new_image_manifest_RSNA\"\n",
    "manifests_list = [x for x in manifests_list if x.name.startswith(\"image_manifest_\")]\n",
    "display(manifests_list)"
   ]
  },
  {
   "cell_type": "code",
   "execution_count": 4,
   "metadata": {},
   "outputs": [],
   "source": [
    "dfs = {f.name: pd.read_csv(f, sep=\"\\t\") for f in manifests_list}"
   ]
  },
  {
   "cell_type": "code",
   "execution_count": 5,
   "metadata": {},
   "outputs": [],
   "source": [
    "# filter dfs by case_ids from master_sequestration DataFrame\n",
    "new_dfs = {k: v[v[\"case_ids\"].isin(open_ids)] for k, v in dfs.items()}"
   ]
  },
  {
   "cell_type": "code",
   "execution_count": 6,
   "metadata": {},
   "outputs": [
    {
     "name": "stdout",
     "output_type": "stream",
     "text": [
      "image_manifest_ACR_20220606.tsv 5029 1884\n"
     ]
    }
   ],
   "source": [
    "for k in dfs:\n",
    "    print(k, dfs[k].shape[0], new_dfs[k].shape[0])"
   ]
  },
  {
   "cell_type": "code",
   "execution_count": null,
   "metadata": {},
   "outputs": [],
   "source": [
    "new_dfs"
   ]
  },
  {
   "cell_type": "code",
   "execution_count": 8,
   "metadata": {},
   "outputs": [
    {
     "data": {
      "text/plain": [
       "1       /acrimage/2021/0827/2.16.840.1.114274.1818.536...\n",
       "2       /acrimage/2021/0827/2.16.840.1.114274.1818.536...\n",
       "3       /acrimage/2021/0827/2.16.840.1.114274.1818.536...\n",
       "4       /acrimage/2021/0827/2.16.840.1.114274.1818.536...\n",
       "5       /acrimage/2021/0827/2.16.840.1.114274.1818.536...\n",
       "                              ...                        \n",
       "5022    /ACR_20220314/10008204-a0vQKtFN0mm5Dp7SvAFw/2....\n",
       "5023    /ACR_20220314/10008204-cWL2t6c0u0WemOPUuJGNg/2...\n",
       "5025    /ACR_20220218/2.16.840.1.114274.1818.506608849...\n",
       "5026    /ACR_20220218/2.16.840.1.114274.1818.499943339...\n",
       "5027    /ACR_20220218/2.16.840.1.114274.1818.560063645...\n",
       "Name: storage_urls, Length: 1884, dtype: object"
      ]
     },
     "execution_count": 8,
     "metadata": {},
     "output_type": "execute_result"
    }
   ],
   "source": [
    "# new_dfs[\"new_image_manifest_RSNA_20230324.tsv\"]\n",
    "# new_dfs[\"image_manifest_TCIA-COVID-19-NY-SBU.tsv\"]['storage_urls']\n",
    "new_dfs[\"image_manifest_ACR_20220606.tsv\"]['storage_urls']"
   ]
  },
  {
   "cell_type": "code",
   "execution_count": 9,
   "metadata": {},
   "outputs": [
    {
     "ename": "AttributeError",
     "evalue": "'Series' object has no attribute 'starstswith'",
     "output_type": "error",
     "traceback": [
      "\u001b[0;31m---------------------------------------------------------------------------\u001b[0m",
      "\u001b[0;31mAttributeError\u001b[0m                            Traceback (most recent call last)",
      "\u001b[0;32m/tmp/ipykernel_243133/576489450.py\u001b[0m in \u001b[0;36m<module>\u001b[0;34m\u001b[0m\n\u001b[1;32m      2\u001b[0m     \u001b[0mtmp\u001b[0m \u001b[0;34m=\u001b[0m \u001b[0mv\u001b[0m\u001b[0;34m\u001b[0m\u001b[0;34m\u001b[0m\u001b[0m\n\u001b[1;32m      3\u001b[0m \u001b[0;34m\u001b[0m\u001b[0m\n\u001b[0;32m----> 4\u001b[0;31m     \u001b[0;32mif\u001b[0m \u001b[0mtmp\u001b[0m\u001b[0;34m[\u001b[0m\u001b[0;34m\"storage_urls\"\u001b[0m\u001b[0;34m]\u001b[0m\u001b[0;34m.\u001b[0m\u001b[0mstarstswith\u001b[0m\u001b[0;34m(\u001b[0m\u001b[0;34m\"/ACR_20220314/\"\u001b[0m\u001b[0;34m)\u001b[0m\u001b[0;34m:\u001b[0m\u001b[0;34m\u001b[0m\u001b[0;34m\u001b[0m\u001b[0m\n\u001b[0m\u001b[1;32m      5\u001b[0m         \u001b[0mtmp\u001b[0m\u001b[0;34m[\u001b[0m\u001b[0;34m\"storage_urls\"\u001b[0m\u001b[0;34m]\u001b[0m\u001b[0;34m.\u001b[0m\u001b[0mstr\u001b[0m\u001b[0;34m.\u001b[0m\u001b[0mreplace\u001b[0m\u001b[0;34m(\u001b[0m\u001b[0;34m\"/ACR_20220314/\"\u001b[0m\u001b[0;34m,\u001b[0m \u001b[0;34m\"\"\u001b[0m\u001b[0;34m)\u001b[0m\u001b[0;34m.\u001b[0m\u001b[0mto_csv\u001b[0m\u001b[0;34m(\u001b[0m\u001b[0mPath\u001b[0m\u001b[0;34m.\u001b[0m\u001b[0mhome\u001b[0m\u001b[0;34m(\u001b[0m\u001b[0;34m)\u001b[0m \u001b[0;34m/\u001b[0m \u001b[0;34m\"dicom/manifests/processed\"\u001b[0m \u001b[0;34m/\u001b[0m \u001b[0;34m\"processed_{}\"\u001b[0m\u001b[0;34m.\u001b[0m\u001b[0mformat\u001b[0m\u001b[0;34m(\u001b[0m\u001b[0mk\u001b[0m\u001b[0;34m)\u001b[0m\u001b[0;34m,\u001b[0m \u001b[0msep\u001b[0m\u001b[0;34m=\u001b[0m\u001b[0;34m\"\\t\"\u001b[0m\u001b[0;34m,\u001b[0m \u001b[0mindex\u001b[0m\u001b[0;34m=\u001b[0m\u001b[0;32mFalse\u001b[0m\u001b[0;34m,\u001b[0m \u001b[0mheader\u001b[0m\u001b[0;34m=\u001b[0m\u001b[0;32mFalse\u001b[0m\u001b[0;34m)\u001b[0m\u001b[0;34m\u001b[0m\u001b[0;34m\u001b[0m\u001b[0m\n\u001b[1;32m      6\u001b[0m     \u001b[0;32melif\u001b[0m \u001b[0mtmp\u001b[0m\u001b[0;34m[\u001b[0m\u001b[0;34m\"storage_urls\"\u001b[0m\u001b[0;34m]\u001b[0m\u001b[0;34m.\u001b[0m\u001b[0mstarstswith\u001b[0m\u001b[0;34m(\u001b[0m\u001b[0;34m\"/ACR_20220218/\"\u001b[0m\u001b[0;34m)\u001b[0m\u001b[0;34m:\u001b[0m\u001b[0;34m\u001b[0m\u001b[0;34m\u001b[0m\u001b[0m\n",
      "\u001b[0;32m~/.local/lib/python3.10/site-packages/pandas/core/generic.py\u001b[0m in \u001b[0;36m__getattr__\u001b[0;34m(self, name)\u001b[0m\n\u001b[1;32m   5987\u001b[0m         ):\n\u001b[1;32m   5988\u001b[0m             \u001b[0;32mreturn\u001b[0m \u001b[0mself\u001b[0m\u001b[0;34m[\u001b[0m\u001b[0mname\u001b[0m\u001b[0;34m]\u001b[0m\u001b[0;34m\u001b[0m\u001b[0;34m\u001b[0m\u001b[0m\n\u001b[0;32m-> 5989\u001b[0;31m         \u001b[0;32mreturn\u001b[0m \u001b[0mobject\u001b[0m\u001b[0;34m.\u001b[0m\u001b[0m__getattribute__\u001b[0m\u001b[0;34m(\u001b[0m\u001b[0mself\u001b[0m\u001b[0;34m,\u001b[0m \u001b[0mname\u001b[0m\u001b[0;34m)\u001b[0m\u001b[0;34m\u001b[0m\u001b[0;34m\u001b[0m\u001b[0m\n\u001b[0m\u001b[1;32m   5990\u001b[0m \u001b[0;34m\u001b[0m\u001b[0m\n\u001b[1;32m   5991\u001b[0m     \u001b[0;32mdef\u001b[0m \u001b[0m__setattr__\u001b[0m\u001b[0;34m(\u001b[0m\u001b[0mself\u001b[0m\u001b[0;34m,\u001b[0m \u001b[0mname\u001b[0m\u001b[0;34m:\u001b[0m \u001b[0mstr\u001b[0m\u001b[0;34m,\u001b[0m \u001b[0mvalue\u001b[0m\u001b[0;34m)\u001b[0m \u001b[0;34m->\u001b[0m \u001b[0;32mNone\u001b[0m\u001b[0;34m:\u001b[0m\u001b[0;34m\u001b[0m\u001b[0;34m\u001b[0m\u001b[0m\n",
      "\u001b[0;31mAttributeError\u001b[0m: 'Series' object has no attribute 'starstswith'"
     ]
    }
   ],
   "source": [
    "for k, v in new_dfs.items():\n",
    "    tmp = v\n",
    "\n",
    "    if tmp[\"storage_urls\"].starstswith(\"/ACR_20220314/\"):\n",
    "        tmp[\"storage_urls\"].str.replace(\"/ACR_20220314/\", \"\").to_csv(Path.home() / \"dicom/manifests/processed\" / \"processed_{}\".format(k), sep=\"\\t\", index=False, header=False)\n",
    "    elif tmp[\"storage_urls\"].starstswith(\"/ACR_20220218/\"):\n",
    "        tmp[\"storage_urls\"].str.replace(\"/ACR_20220218/\", \"\").to_csv(Path.home() / \"dicom/manifests/processed\" / \"processed_{}\".format(k), sep=\"\\t\", index=False, header=False)\n",
    "    elif tmp[\"storage_urls\"].starstswith(\"/acrimage/2021/0827/\"):\n",
    "        tmp[\"storage_urls\"].str.replace(\"/acrimage/2021/0827/\", \"\").to_csv(Path.home() / \"dicom/manifests/processed\" / \"processed_{}\".format(k), sep=\"\\t\", index=False, header=False)\n",
    "    else:\n",
    "        tmp[\"storage_urls\"].str.replace(\"s3://storage.ir.rsna.ai/\", \"\").to_csv(Path.home() / \"dicom/manifests/processed\" / \"processed_{}\".format(k), sep=\"\\t\", index=False, header=False)\n",
    "    # tmp[\"storage_urls\"].str.replace(\"storage.ir.rsna.ai\", \"external-data-midrc-replication\")\n",
    "    # For TCIA:\n",
    "    # tmp[\"storage_urls\"].str.replace(\"s3://midrcprod-default-813684607867-upload/\", \"\").to_csv(Path.home() / \"dicom/manifests/processed\" / \"processed_{}\".format(k), sep=\"\\t\", index=False, header=False)\n"
   ]
  },
  {
   "cell_type": "code",
   "execution_count": null,
   "metadata": {},
   "outputs": [],
   "source": []
  }
 ],
 "metadata": {
  "kernelspec": {
   "display_name": "work",
   "language": "python",
   "name": "python3"
  },
  "language_info": {
   "codemirror_mode": {
    "name": "ipython",
    "version": 3
   },
   "file_extension": ".py",
   "mimetype": "text/x-python",
   "name": "python",
   "nbconvert_exporter": "python",
   "pygments_lexer": "ipython3",
   "version": "3.10.6"
  },
  "orig_nbformat": 4
 },
 "nbformat": 4,
 "nbformat_minor": 2
}
