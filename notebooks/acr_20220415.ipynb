{
 "cells": [
  {
   "cell_type": "code",
   "execution_count": null,
   "metadata": {},
   "outputs": [],
   "source": [
    "import pandas as pd\n",
    "from pathlib import PosixPath\n",
    "p = PosixPath(\"/Users/andrewprokhorenkov/CTDS/projects/midrc/ssot-s3/replicated-data-acr/ACR_20220218\")\n",
    "p = p.glob(\"**/*_instance_*\")\n",
    "data = map(lambda v: pd.read_csv(v, sep=\"\\t\"), p)\n",
    "data = pd.concat(data)\n",
    "data\n",
    "packages = pd.read_csv(\"/Users/andrewprokhorenkov/CTDS/projects/midrc/indexed/acr/ACR_20220218/indexed_packages_open_ACR_20220218.tsv\", sep=\"\\t\")\n",
    "studies = packages[\"urls\"].str.split(\"/\").str[4].to_list()\n",
    "# acr_20220415_lst = pd.read_csv(\"/Users/andrewprokhorenkov/CTDS/projects/midrc/ssot-s3/replicated-data-acr/ACR_20220314/image_file_object_manifest_ACR_20220314.tsv\", sep=\"\\t\")\n",
    "to_include = data.loc[data[\"case_ids\"].isin(studies), \"storage_urls\"]\n",
    "to_include\n",
    "to_include = to_include.str.replace(\"//\", \"replicated-data-acr/\")\n",
    "to_include.to_csv(\"/Users/andrewprokhorenkov/Downloads/submit_acr_20220715.lst\", header=False, index=False)"
   ]
  }
 ],
 "metadata": {
  "kernelspec": {
   "display_name": "Python 3.9.15 64-bit ('midrc-etl')",
   "language": "python",
   "name": "python3"
  },
  "language_info": {
   "codemirror_mode": {
    "name": "ipython",
    "version": 3
   },
   "file_extension": ".py",
   "mimetype": "text/x-python",
   "name": "python",
   "nbconvert_exporter": "python",
   "pygments_lexer": "ipython3",
   "version": "3.9.15"
  },
  "orig_nbformat": 4,
  "vscode": {
   "interpreter": {
    "hash": "77b5126f446d2ffa2ac8d6894a56a1f0df0ffa183e79f581bda8247e3808117a"
   }
  }
 },
 "nbformat": 4,
 "nbformat_minor": 2
}
