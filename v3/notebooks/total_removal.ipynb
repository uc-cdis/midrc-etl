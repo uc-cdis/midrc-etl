{
 "cells": [
  {
   "cell_type": "code",
   "execution_count": 1,
   "metadata": {},
   "outputs": [],
   "source": [
    "from pathlib import Path\n",
    "\n",
    "import pandas as pd"
   ]
  },
  {
   "cell_type": "code",
   "execution_count": 2,
   "metadata": {},
   "outputs": [],
   "source": [
    "removal_study_files = list(Path(\".\").glob(\"**/*_study_*.tsv\"))\n",
    "removal_case_files = list(Path(\".\").glob(\"**/*_case_*.tsv\"))\n",
    "removal_head_files = list(Path(\".\").glob(\"**/RemoveHeadsFrom_*.tsv\"))"
   ]
  },
  {
   "cell_type": "code",
   "execution_count": 3,
   "metadata": {},
   "outputs": [],
   "source": [
    "removal_study_dfs = (pd.read_csv(f, sep=\"\\t\") for f in removal_study_files)\n",
    "removal_study_df = pd.concat(removal_study_dfs, ignore_index=True)\n",
    "\n",
    "removal_case_dfs = (pd.read_csv(f, sep=\"\\t\") for f in removal_case_files)\n",
    "removal_case_df = pd.concat(removal_case_dfs, ignore_index=True)\n",
    "\n",
    "removal_head_dfs = (pd.read_csv(f, sep=\"\\t\") for f in removal_head_files)\n",
    "removal_head_df = pd.concat(removal_head_dfs, ignore_index=True)"
   ]
  },
  {
   "cell_type": "code",
   "execution_count": 6,
   "metadata": {},
   "outputs": [],
   "source": [
    "to_remove_study_uid = pd.concat([removal_study_df[\"study_uid\"], removal_head_df[\"study_uid\"]], ignore_index=True)\n",
    "to_remove_study_uid.drop_duplicates().to_csv(\"to_remove_study_ids.tsv\", index=False)"
   ]
  },
  {
   "cell_type": "code",
   "execution_count": 7,
   "metadata": {},
   "outputs": [],
   "source": [
    "to_remove_case_uid = removal_case_df[\"case_id\"]\n",
    "to_remove_case_uid.drop_duplicates().to_csv(\"to_remove_case_ids.tsv\", index=False)"
   ]
  }
 ],
 "metadata": {
  "kernelspec": {
   "display_name": "Python 3.11.0 64-bit ('main')",
   "language": "python",
   "name": "python3"
  },
  "language_info": {
   "codemirror_mode": {
    "name": "ipython",
    "version": 3
   },
   "file_extension": ".py",
   "mimetype": "text/x-python",
   "name": "python",
   "nbconvert_exporter": "python",
   "pygments_lexer": "ipython3",
   "version": "3.11.0"
  },
  "orig_nbformat": 4,
  "vscode": {
   "interpreter": {
    "hash": "62cd6d79ca903a86eb5979a704d1a3f956e828c0b780de9e70eac0d34d84ddfe"
   }
  }
 },
 "nbformat": 4,
 "nbformat_minor": 2
}
