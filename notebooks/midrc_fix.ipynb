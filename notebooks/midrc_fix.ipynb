{
 "cells": [
  {
   "cell_type": "code",
   "execution_count": null,
   "metadata": {},
   "outputs": [],
   "source": [
    "!python3 -m pip install pip 'elasticsearch>=6.0.0,<7.0.0'"
   ]
  },
  {
   "cell_type": "code",
   "execution_count": null,
   "metadata": {},
   "outputs": [],
   "source": [
    "from elasticsearch import Elasticsearch"
   ]
  },
  {
   "cell_type": "code",
   "execution_count": null,
   "metadata": {},
   "outputs": [],
   "source": [
    "es = Elasticsearch()"
   ]
  },
  {
   "cell_type": "code",
   "execution_count": null,
   "metadata": {},
   "outputs": [],
   "source": [
    "# get mapping for index \"midrc_imaging_data_file_35\"\n",
    "mapping = es.indices.get_mapping(index=\"midrc_imaging_data_file_35\")\n",
    "\n",
    "# change mapping for \"days_from_study_to_pos_covid_test\" and \"days_from_study_to_neg_covid_test\" to type long\n",
    "mapping[\"midrc_imaging_data_file_35\"][\"mappings\"][\"imaging_data_file\"][\"properties\"][\"days_from_study_to_pos_covid_test\"][\"type\"] = \"long\"\n",
    "mapping[\"midrc_imaging_data_file_35\"][\"mappings\"][\"imaging_data_file\"][\"properties\"][\"days_from_study_to_neg_covid_test\"][\"type\"] = \"long\"\n",
    "\n",
    "# create index with mapping from \"mapping\" with name \"midrc_imaging_data_file_36\"\n",
    "es.indices.create(index=\"midrc_imaging_data_file_36\", body={\"mappings\": mapping[\"midrc_imaging_data_file_35\"][\"mappings\"]})"
   ]
  },
  {
   "cell_type": "code",
   "execution_count": null,
   "metadata": {},
   "outputs": [],
   "source": [
    "# reindex data from \"midrc_imaging_data_file_35\" to \"midrc_imaging_data_file_36\"\n",
    "es.reindex(body={\"source\": {\"index\": \"midrc_imaging_data_file_35\"}, \"dest\": {\"index\": \"midrc_imaging_data_file_36\"}})"
   ]
  },
  {
   "cell_type": "code",
   "execution_count": null,
   "metadata": {},
   "outputs": [],
   "source": [
    "# remove alias \"time_2023-03-23T22:36:37.621125\" and \"midrc_imaging_data_file\" from \"midrc_imaging_data_file_35\"\n",
    "# add alias \"time_2023-03-23T22:36:37.621125\" and \"midrc_imaging_data_file\" to \"midrc_imaging_data_file_36\"\n",
    "es.indices.update_aliases(body={\"actions\": [{\"remove\": {\"index\": \"midrc_imaging_data_file_35\", \"alias\": \"time_2023-03-23T22:36:37.621125\"}}, {\"remove\": {\"index\": \"midrc_imaging_data_file_35\", \"alias\": \"midrc_imaging_data_file\"}}, {\"add\": {\"index\": \"midrc_imaging_data_file_36\", \"alias\": \"time_2023-03-23T22:36:37.621125\"}}, {\"add\": {\"index\": \"midrc_imaging_data_file_36\", \"alias\": \"midrc_imaging_data_file\"}}]})"
   ]
  }
 ],
 "metadata": {
  "kernelspec": {
   "display_name": "work",
   "language": "python",
   "name": "python3"
  },
  "language_info": {
   "codemirror_mode": {
    "name": "ipython",
    "version": 3
   },
   "file_extension": ".py",
   "mimetype": "text/x-python",
   "name": "python",
   "nbconvert_exporter": "python",
   "pygments_lexer": "ipython3",
   "version": "3.11.2"
  },
  "orig_nbformat": 4
 },
 "nbformat": 4,
 "nbformat_minor": 2
}
