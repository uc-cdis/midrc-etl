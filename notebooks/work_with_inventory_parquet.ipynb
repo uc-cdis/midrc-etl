{
 "cells": [
  {
   "cell_type": "code",
   "execution_count": null,
   "metadata": {},
   "outputs": [],
   "source": [
    "import json\n",
    "import csv\n",
    "import gzip\n",
    "import re\n",
    "import sys\n",
    "from pathlib import Path\n",
    "\n",
    "import pandas as pd"
   ]
  },
  {
   "cell_type": "code",
   "execution_count": null,
   "metadata": {},
   "outputs": [],
   "source": [
    "PATH = Path(\"/Users/andrewprokhorenkov/CTDS/projects/midrc/wd/inventory/external-data-midrc-replication/external-data-midrc-replication-inventory-configuration-Parquet/\")\n",
    "PATH = PATH / \"2022-06-26T00-00Z\" / \"manifest.json\""
   ]
  },
  {
   "cell_type": "code",
   "execution_count": null,
   "metadata": {},
   "outputs": [],
   "source": [
    "with open(PATH) as manifest_data:\n",
    "    manifest = json.load(manifest_data)"
   ]
  },
  {
   "cell_type": "code",
   "execution_count": null,
   "metadata": {},
   "outputs": [],
   "source": [
    "all_files = []\n",
    "tsvs = []\n",
    "\n",
    "for obj in manifest['files']:\n",
    "    print(obj)\n",
    "    parquet_path = f\"/Users/andrewprokhorenkov/CTDS/projects/midrc/wd/inventory/{obj['key']}\"\n",
    "\n",
    "    df = pd.read_parquet(parquet_path, engine=\"pyarrow\")\n",
    "    \n",
    "    # print(df)\n",
    "\n",
    "    all_files.extend(df.key)\n",
    "\n",
    "    tsvs_df = df.key[df.key.str.contains(\".tsv$\")]\n",
    "\n",
    "    tsvs.extend(tsvs_df.to_list())"
   ]
  },
  {
   "cell_type": "code",
   "execution_count": null,
   "metadata": {},
   "outputs": [],
   "source": [
    "for f in all_files:\n",
    "    if \"1.2.826.0.1.3680043.10.474.419639.100534447940284283267949947795.dcm\" in f:\n",
    "        print(f)"
   ]
  },
  {
   "cell_type": "code",
   "execution_count": null,
   "metadata": {},
   "outputs": [],
   "source": [
    "tsvs"
   ]
  },
  {
   "cell_type": "code",
   "execution_count": null,
   "metadata": {},
   "outputs": [],
   "source": [
    "for f in tsvs:\n",
    "    print(f\"aws s3 cp s3://external-data-midrc-replication/{f} {f}\")"
   ]
  },
  {
   "cell_type": "code",
   "execution_count": null,
   "metadata": {},
   "outputs": [],
   "source": [
    "tsvs = []\n",
    "\n",
    "for obj in manifest['files']:\n",
    "    print(obj)\n",
    "    gzip_obj = f\"/Users/andrewprokhorenkov/CTDS/projects/midrc/wd/inventory/{obj['key']}\"\n",
    "    buffer = gzip.open(gzip_obj, mode='rt')\n",
    "    reader = csv.reader(buffer)\n",
    "    for row in reader:\n",
    "        # print(row)\n",
    "        # break\n",
    "        filename = row[1]\n",
    "        if filename[-4:] == \".dcm\":\n",
    "            tsvs.append(filename)"
   ]
  },
  {
   "cell_type": "code",
   "execution_count": null,
   "metadata": {},
   "outputs": [],
   "source": [
    "submissions = []\n",
    "debug_sub = []\n",
    "\n",
    "acr_submission = re.compile(r\".*?/([\\w\\d/-]*)/\")\n",
    "rsna_submission = re.compile(r\".*?/([\\w\\d/-]*)/data\")\n",
    "\n",
    "for tsv in tsvs:\n",
    "    if \"replicated-data-acr\" in tsv:\n",
    "        match = acr_submission.match(tsv)\n",
    "    elif \"replicated-data-rsna\" in tsv:\n",
    "        match = rsna_submission.match(tsv)\n",
    "    else:\n",
    "        pass\n",
    "        # print(\"That's bad...\")\n",
    "\n",
    "    debug_sub.append(match)\n",
    "    if match:\n",
    "        submission = match.group(1)\n",
    "        if submission in submissions:\n",
    "            continue\n",
    "        submissions.append(submission)\n",
    "    else:\n",
    "        pass\n",
    "        # print(tsv)"
   ]
  },
  {
   "cell_type": "code",
   "execution_count": null,
   "metadata": {},
   "outputs": [],
   "source": [
    "for s in submissions:\n",
    "    print(s)"
   ]
  },
  {
   "cell_type": "code",
   "execution_count": null,
   "metadata": {},
   "outputs": [],
   "source": [
    "with open(\"/Users/andrewprokhorenkov/Downloads/listing_dicom_images.txt\", \"w\") as download:\n",
    "    for tsv in tsvs:\n",
    "        download.write(tsv)\n",
    "        download.write(\"\\n\")"
   ]
  }
 ],
 "metadata": {
  "kernelspec": {
   "display_name": "Python 3.9.15 64-bit ('midrc-etl')",
   "language": "python",
   "name": "python3"
  },
  "language_info": {
   "codemirror_mode": {
    "name": "ipython",
    "version": 3
   },
   "file_extension": ".py",
   "mimetype": "text/x-python",
   "name": "python",
   "nbconvert_exporter": "python",
   "pygments_lexer": "ipython3",
   "version": "3.9.15"
  },
  "orig_nbformat": 4,
  "vscode": {
   "interpreter": {
    "hash": "77b5126f446d2ffa2ac8d6894a56a1f0df0ffa183e79f581bda8247e3808117a"
   }
  }
 },
 "nbformat": 4,
 "nbformat_minor": 2
}
