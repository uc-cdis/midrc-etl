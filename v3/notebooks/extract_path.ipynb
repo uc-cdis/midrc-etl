{
 "cells": [
  {
   "cell_type": "code",
   "execution_count": 1,
   "metadata": {},
   "outputs": [],
   "source": [
    "import pandas as pd\n",
    "manifest = pd.read_csv(\"./manifest.tsv\", sep=\"\\t\")\n",
    "manifest[\"storage_urls\"].str.replace(\"//\", \"replicated-data-acr/\").to_csv(\"dicom.lst\", index=False, header=None)"
   ]
  }
 ],
 "metadata": {
  "kernelspec": {
   "display_name": "Python 3.11.0 64-bit ('main')",
   "language": "python",
   "name": "python3"
  },
  "language_info": {
   "codemirror_mode": {
    "name": "ipython",
    "version": 3
   },
   "file_extension": ".py",
   "mimetype": "text/x-python",
   "name": "python",
   "nbconvert_exporter": "python",
   "pygments_lexer": "ipython3",
   "version": "3.11.0"
  },
  "orig_nbformat": 4,
  "vscode": {
   "interpreter": {
    "hash": "62cd6d79ca903a86eb5979a704d1a3f956e828c0b780de9e70eac0d34d84ddfe"
   }
  }
 },
 "nbformat": 4,
 "nbformat_minor": 2
}
