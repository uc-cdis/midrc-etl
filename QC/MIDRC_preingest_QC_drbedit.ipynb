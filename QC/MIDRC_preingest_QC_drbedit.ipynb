{
 "cells": [
  {
   "cell_type": "markdown",
   "id": "1971b142",
   "metadata": {},
   "source": [
    "# MIDRC Pre-Ingestion QC Report using planxton_midrc library. \n",
    "---\n",
    "### Purpose:\n",
    "Perform some basic quality checks of batches of data received from data contributors in MIDRC prior to beginning work on ingestion, so that we can notify data contributors of any issues with their data submissions sooner rather than later.\n",
    "\n",
    "Authors: Chris Meyer, PhD & Dan Biber, MS <br>\n",
    "Oct 2024 <br>\n",
    "\n",
    "### Procedure:\n",
    "1. Meta data is downloaded\n",
    "2. The following items are checked for every dataset marked for ingestion:\n",
    "    - [Appropriate cloud resource file structure](#meta_data_download)\n",
    "    - [Metadata files named as expected for our ingestion scripts](#sort_batch_tsvs)\n",
    "    - [Each metadata file can be loaded and has data in it](#metadata_valid)\n",
    "    - [Types of properties match their values](#pre_ingest_qc_check)\n",
    "    - [Main QC Script](#main_script)\n",
    "        - Linking properties are appropriately populated\n",
    "        - Properties do not contain special characters and are complete\n",
    "        - Uniqueness of submitter_ids within a submitted batch\n",
    "    - [If other submitter_ids are duplicated within MIDRC that they represent the same values](#other_xchecks) (e.x. A case is resubmitted, ensuring that it is the same case)\n",
    "    - [Submitted series_uids are unique compared to what currently exists in MIDRC](#series_uid_xcheck) \n",
    "\n",
    "3. A report is provided to data submitters and this notebook is saved for a specific batch\n"
   ]
  },
  {
   "cell_type": "code",
   "execution_count": null,
   "id": "173334fe",
   "metadata": {},
   "outputs": [],
   "source": [
    "# Prepare Python environment\n",
    "\n",
    "import pandas as pd\n",
    "import json\n",
    "import pathlib\n",
    "from pathlib import Path\n",
    "import sys, os\n",
    "from gen3.submission import Gen3Submission\n",
    "from gen3.auth import Gen3Auth\n",
    "from gen3.index import Gen3Index\n",
    "from gen3.query import Gen3Query"
   ]
  },
  {
   "cell_type": "code",
   "execution_count": null,
   "id": "303ff733",
   "metadata": {},
   "outputs": [],
   "source": [
    "# Append the directory containing the planxton.py module to sys.path\n",
    "\n",
    "# If a users github directory is in there base path \"Users/userid/\" the following should work\n",
    "plx_path = os.path.expanduser(\"~/github/midrc-scripts/\")\n",
    "\n",
    "# Append to sys.path\n",
    "sys.path.append(plx_path)\n",
    "\n",
    "print(\"Plan(x)ton path:\", plx_path)\n",
    "\n",
    "# Import the planxton class from the planxton.py module\n",
    "from planxton_midrc import planxton_midrc"
   ]
  },
  {
   "cell_type": "code",
   "execution_count": null,
   "id": "82c6d2ec",
   "metadata": {},
   "outputs": [],
   "source": [
    "#Setting up connection to both MIDRC staging and MIDRC validate staging\n",
    "s_api = 'https://staging.midrc.org'\n",
    "s_cred = os.path.expanduser('~/Downloads/midrc-staging-credentials.json')\n",
    "\n",
    "vs_api = 'https://validatestaging.midrc.org/'\n",
    "vs_cred = os.path.expanduser('~/Downloads/midrc-validatestaging-credentials.json')\n",
    "\n",
    "s_plx = planxton_midrc(s_api, s_cred)\n",
    "s_exp = s_plx.expansion()\n",
    "\n",
    "vs_plx = planxton_midrc(vs_api, vs_cred)\n",
    "vs_exp = vs_plx.expansion()\n",
    "\n",
    "#Change you cwd if not in correct location of working directory\n",
    "wd_path = os.path.expanduser('~/Documents/Projects/MIDRC/sheep_dog_ingestion/RSNA/RSNA_20240528')\n",
    "os.chdir(wd_path)\n",
    "\n",
    "cd = os.getcwd()\n",
    "print(\"Your current working directory is set to: \\n\", cd, \"\\n\\n\")\n",
    "\n",
    "#Testing that Gen3Submissionm and Gen3Auth is initiated correctly in Plan(x)ton\n",
    "print(s_plx.fetch_programs())\n",
    "print(s_plx.fetch_projects())\n",
    "\n",
    "print(vs_plx.fetch_programs())\n",
    "print(vs_plx.fetch_projects())"
   ]
  },
  {
   "cell_type": "markdown",
   "id": "098d1bb5",
   "metadata": {},
   "source": [
    "<a class=\"anchor\" id=\"meta_data_download\"></a>\n",
    "## Download the batch metadata TSVs and clinical/image manifests\n",
    "---\n",
    "Run the following in linux/unix shell:\n",
    "\n",
    "* a. Pull data from AWS bucket to utilityvm.midrc.csoc, e.g.:\n",
    "```\n",
    "aws s3 sync s3://external-data-midrc-replication/replicated-data-acr/RSNA_20220812/ RSNA_20220812/ --exclude \"*\" --include \"*.tsv\"\n",
    "```\n",
    "* b. Sync the data locally for submission, or can run this notebook directly in the utility VM via ipython shell, e.g.:\n",
    "```\n",
    "wd=\"/Users/christopher/Documents/Notes/MIDRC/data/ssot-s3\"\n",
    "batch=\"RSNA_20230303\"\n",
    "rsync -rP utilityvm.midrc.csoc:/home/ubuntu/download/${batch} ${wd}\n",
    "```\n",
    "\n"
   ]
  },
  {
   "cell_type": "code",
   "execution_count": null,
   "id": "1914475c",
   "metadata": {},
   "outputs": [],
   "source": [
    "downloads = \"~/Documents/Projects/MIDRC/sheep_dog_ingestion/RSNA/\"\n",
    "# change batch ! ! ! \n",
    "batch=\"RSNA_20240813\"\n",
    "batch_dir = \"{}{}\".format(downloads,batch)\n",
    "print(batch_dir)"
   ]
  },
  {
   "cell_type": "markdown",
   "id": "24bd7be3",
   "metadata": {},
   "source": [
    "The notebook is designed to work when the directory is changed into the folder we just downloaded the batch metadata into."
   ]
  },
  {
   "cell_type": "code",
   "execution_count": null,
   "id": "b71963b9",
   "metadata": {},
   "outputs": [],
   "source": [
    "os.chdir(batch_dir)"
   ]
  },
  {
   "cell_type": "markdown",
   "id": "dab89819",
   "metadata": {},
   "source": [
    "<a class=\"anchor\" id=\"sort_batch_tsvs\"></a>\n",
    "## Sort the TSVs into manifests, submission TSVs, and supplemental/other\n",
    "---\n",
    "Provide the batch name (\"batch\") and the directory where the batch TSVs are located (\"batch_dir\")\n",
    "\n"
   ]
  },
  {
   "cell_type": "code",
   "execution_count": null,
   "id": "63b6b7c5",
   "metadata": {},
   "outputs": [],
   "source": [
    "#Main pre-ingest QC function\n",
    "#Common variables for both commons\n",
    "organization = 'RSNA'\n",
    "date = '20240813'\n",
    "\n",
    "#Program and Project identifier for MIDRC Staging \n",
    "s_program = 'Open'\n",
    "s_project = 'R1'\n",
    "\n",
    "#Program and Project identifier for MIDRC Staging \n",
    "vs_program = 'SEQ_Open'\n",
    "vs_project = 'R3'\n",
    "\n",
    "#This is the Program Project Batch (ppb) object for staging\n",
    "s_ppb = s_plx.create_ppb(s_program, s_project, organization, date)\n",
    "\n",
    "#This is the Program Project Batch (ppb) object for validatestaging\n",
    "vs_ppb = vs_plx.create_ppb(vs_program, vs_project, organization, date)\n",
    "\n",
    "#batch_tsvs is an object that many planxton_midrc functions use and is the listing of the batches metadata files in their local location\n",
    "batch_tsvs = s_plx.sort_batch_tsvs(s_ppb,batch_dir)\n",
    "batch_tsvs"
   ]
  },
  {
   "cell_type": "code",
   "execution_count": null,
   "id": "8251ffc3",
   "metadata": {},
   "outputs": [],
   "source": [
    "## Display batch TSV information\n",
    "\n",
    "if len(batch_tsvs[\"other_tsvs\"]) > 0:\n",
    "    print(\"CAUTION!!: Other TSVs are not matched with data model and require special attention:\")\n",
    "    display(batch_tsvs[\"other_tsvs\"])\n",
    "if len(batch_tsvs[\"nomatch_tsvs\"]) > 0:\n",
    "    print(\"CAUTION!!: TSVs that don't match regex for finding TSVs and require special attention:\")\n",
    "    display(batch_tsvs[\"nomatch_tsvs\"])\n",
    "\n",
    "print(\"Clinical manifests:\")\n",
    "display(batch_tsvs[\"clinical_manifests\"])\n",
    "print(\"Image manifests:\")\n",
    "display(batch_tsvs[\"image_manifests\"])\n",
    "print(\"Submission TSVs:\")\n",
    "display(batch_tsvs[\"node_tsvs\"])\n"
   ]
  },
  {
   "cell_type": "markdown",
   "id": "a390ecc3",
   "metadata": {},
   "source": [
    "<a class=\"anchor\" id=\"metadata_valid\"></a>\n",
    "## Ensuring that the Batch Metadata is not empty and can be loaded\n"
   ]
  },
  {
   "cell_type": "code",
   "execution_count": null,
   "id": "7a8fa001",
   "metadata": {},
   "outputs": [],
   "source": [
    "# Check if each tsv can be loaded and has data in it\n",
    "\n",
    "file_test = {}\n",
    "\n",
    "for tsv,path in batch_tsvs['node_tsvs'].items():\n",
    "    file_test[tsv] = pd.read_csv(path, sep='\\t').shape\n",
    "\n",
    "display(file_test)"
   ]
  },
  {
   "cell_type": "code",
   "execution_count": null,
   "id": "9d043a71",
   "metadata": {},
   "outputs": [],
   "source": [
    "#Only for removing empty tsv files from the node_tsvs\n",
    "\n",
    "# keys_to_remove = ['visit', 'procedure']\n",
    "# for key in keys_to_remove:\n",
    "#     if key in batch_tsvs['node_tsvs']:\n",
    "#         del batch_tsvs['node_tsvs'][key]\n",
    "\n",
    "# display(batch_tsvs)"
   ]
  },
  {
   "cell_type": "markdown",
   "id": "abf37213",
   "metadata": {},
   "source": [
    "<a class=\"anchor\" id=\"main_script\"></a>\n",
    "## Main QC Section \n",
    "### - Linking properties are appropriately populated\n",
    "### - Properties do not contain special characters and are complete \n",
    "### - Uniqueness of submitter_ids within a submitted batch"
   ]
  },
  {
   "cell_type": "code",
   "execution_count": null,
   "id": "82c52c4f",
   "metadata": {},
   "outputs": [],
   "source": [
    "report_output_dir = \"~/Documents/Projects/MIDRC/sheep_dog_ingestion/RSNA/RSNA_20240920\"\n",
    "\n",
    "qc_report = s_plx.pre_ingest_qc_check(s_ppb, batch_tsvs, report_output_dir)"
   ]
  },
  {
   "cell_type": "markdown",
   "id": "d570ef9a",
   "metadata": {},
   "source": [
    "<a class=\"anchor\" id=\"other_xchecks\"></a>\n",
    "## Checking for duplicate submission IDs that may be problematic"
   ]
  },
  {
   "cell_type": "code",
   "execution_count": null,
   "id": "8319c88d",
   "metadata": {},
   "outputs": [],
   "source": [
    "existing_img_study_df = s_plx.get_img_study_node(s_ppb)\n",
    "print(existing_img_study_df.shape)"
   ]
  },
  {
   "cell_type": "code",
   "execution_count": null,
   "id": "af2171ab",
   "metadata": {},
   "outputs": [],
   "source": [
    "sub_img_study_df = pd.read_csv(batch_tsvs['node_tsvs']['imaging_study'], sep='\\t')\n",
    "img_study_overlaps = s_plx.img_study_xcheck(sub_img_study_df,existing_img_study_df)\n",
    "\n",
    "print(img_study_overlaps)"
   ]
  },
  {
   "cell_type": "code",
   "execution_count": null,
   "id": "0e2d94ea",
   "metadata": {},
   "outputs": [],
   "source": [
    "existing_case_df = s_plx.get_case_node(s_ppb)\n",
    "print(existing_case_df.shape)\n",
    "sub_case_df = pd.read_csv(batch_tsvs['node_tsvs']['case'], sep='\\t')\n",
    "case_overlaps = s_plx.case_xcheck(sub_case_df,existing_case_df)"
   ]
  },
  {
   "cell_type": "code",
   "execution_count": null,
   "id": "d9090799",
   "metadata": {},
   "outputs": [],
   "source": [
    "case_overlaps"
   ]
  },
  {
   "cell_type": "markdown",
   "id": "08cc06be",
   "metadata": {},
   "source": [
    "<a class=\"anchor\" id=\"series_uid_xcheck\"></a>\n",
    "## Checking for duplicate series uids"
   ]
  },
  {
   "cell_type": "code",
   "execution_count": null,
   "id": "5e70b23c",
   "metadata": {},
   "outputs": [],
   "source": [
    "stag_series_nodes = s_plx.get_series_nodes(s_ppb)\n"
   ]
  },
  {
   "cell_type": "code",
   "execution_count": null,
   "id": "3ba4f9a8",
   "metadata": {},
   "outputs": [],
   "source": [
    "v_series_nodes = vs_plx.get_series_nodes(vs_ppb)\n"
   ]
  },
  {
   "cell_type": "code",
   "execution_count": null,
   "id": "24b5969b",
   "metadata": {},
   "outputs": [],
   "source": [
    "staging_conficting_uids = s_plx.series_uid_xcheck(batch_tsvs = batch_tsvs, series_df_dict=stag_series_nodes)\n",
    "vstag_conflicting_uids = vs_plx.series_uid_xcheck(batch_tsvs = batch_tsvs, series_df_dict=v_series_nodes)"
   ]
  },
  {
   "cell_type": "code",
   "execution_count": null,
   "id": "7882ea72",
   "metadata": {},
   "outputs": [],
   "source": [
    "staging_conficting_uids"
   ]
  },
  {
   "cell_type": "code",
   "execution_count": null,
   "id": "16b616d7",
   "metadata": {},
   "outputs": [],
   "source": [
    "vstag_conflicting_uids"
   ]
  }
 ],
 "metadata": {
  "kernelspec": {
   "display_name": "Python 3 (ipykernel)",
   "language": "python",
   "name": "python3"
  },
  "language_info": {
   "codemirror_mode": {
    "name": "ipython",
    "version": 3
   },
   "file_extension": ".py",
   "mimetype": "text/x-python",
   "name": "python",
   "nbconvert_exporter": "python",
   "pygments_lexer": "ipython3",
   "version": "3.9.18"
  }
 },
 "nbformat": 4,
 "nbformat_minor": 5
}
